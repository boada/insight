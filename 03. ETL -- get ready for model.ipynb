{
 "cells": [
  {
   "cell_type": "code",
   "execution_count": 27,
   "metadata": {},
   "outputs": [],
   "source": [
    "%matplotlib notebook\n",
    "import pandas as pd\n",
    "import numpy as np\n",
    "from utilities import mk_heatmap, value_heatmap, select_by_date, update_grade\n",
    "import matplotlib.pyplot as plt\n",
    "import matplotlib.cm as cm\n",
    "\n",
    "from sklearn import preprocessing"
   ]
  },
  {
   "cell_type": "code",
   "execution_count": 2,
   "metadata": {},
   "outputs": [],
   "source": [
    "# Load all the data\n",
    "inspecs = pd.read_csv('./data/inspections.csv')\n",
    "threeoneone = pd.read_csv('./data/311.csv')\n",
    "nypd = pd.read_csv('./data/nypd.csv')"
   ]
  },
  {
   "cell_type": "code",
   "execution_count": null,
   "metadata": {},
   "outputs": [],
   "source": [
    "# "
   ]
  },
  {
   "cell_type": "code",
   "execution_count": 3,
   "metadata": {},
   "outputs": [],
   "source": [
    "# Replace the missing lats and lons with nan\n",
    "inspecs['latitude'].replace(0, np.nan, inplace=True)\n",
    "inspecs['longitude'].replace(0, np.nan, inplace=True)\n",
    "threeoneone['latitude'].replace(0, np.nan, inplace=True)\n",
    "inspecs['longitude'].replace(0, np.nan, inplace=True)\n",
    "nypd['latitude'].replace(0, np.nan, inplace=True)\n",
    "inspecs['longitude'].replace(0, np.nan, inplace=True)"
   ]
  },
  {
   "cell_type": "code",
   "execution_count": 4,
   "metadata": {},
   "outputs": [],
   "source": [
    "# drop rows that don't have a lat and lon attached\n",
    "inspecs.dropna(subset = ['latitude', 'longitude'], inplace=True)\n",
    "threeoneone.dropna(subset = ['latitude', 'longitude'], inplace=True)\n",
    "nypd.dropna(subset = ['latitude', 'longitude'], inplace=True)"
   ]
  },
  {
   "cell_type": "code",
   "execution_count": 5,
   "metadata": {},
   "outputs": [],
   "source": [
    "# Do date things\n",
    "inspecs.inspection_date = pd.to_datetime(inspecs.inspection_date)\n",
    "threeoneone.created_date = pd.to_datetime(threeoneone.created_date)\n",
    "nypd.complaint_date = pd.to_datetime(nypd.complaint_date)\n",
    "\n",
    "\n",
    "# make a column to store which day of the week it is... \n",
    "# Remember that Monday is 0 Sunday = 6\n",
    "inspecs['weekday'] = inspecs.inspection_date.dt.weekday\n",
    "threeoneone['weekday'] = threeoneone.created_date.dt.weekday\n",
    "nypd['weekday'] = nypd.complaint_date.dt.weekday\n",
    "\n",
    "\n",
    "start_date = '2016-01-01'\n",
    "end_date = '2016-12-31'\n",
    "\n",
    "inspecs_2016 = select_by_date(inspecs, start_date, end_date)\n",
    "threeoneone_2016 = select_by_date(threeoneone, start_date, end_date)\n",
    "nypd_2016 = select_by_date(nypd, start_date, end_date)"
   ]
  },
  {
   "cell_type": "code",
   "execution_count": 6,
   "metadata": {},
   "outputs": [],
   "source": [
    "# clean up the grades in the inspections\n",
    "inspecs.grade = inspecs.apply(update_grade, axis=1)"
   ]
  },
  {
   "cell_type": "code",
   "execution_count": 7,
   "metadata": {},
   "outputs": [],
   "source": [
    "# add the 311 and nypd scores to the inspections frame"
   ]
  },
  {
   "cell_type": "code",
   "execution_count": 17,
   "metadata": {},
   "outputs": [
    {
     "name": "stderr",
     "output_type": "stream",
     "text": [
      "/home/boada/.local/lib/python3.7/site-packages/ipykernel_launcher.py:1: SettingWithCopyWarning: \n",
      "A value is trying to be set on a copy of a slice from a DataFrame.\n",
      "Try using .loc[row_indexer,col_indexer] = value instead\n",
      "\n",
      "See the caveats in the documentation: http://pandas.pydata.org/pandas-docs/stable/user_guide/indexing.html#returning-a-view-versus-a-copy\n",
      "  \"\"\"Entry point for launching an IPython kernel.\n",
      "/home/boada/.local/lib/python3.7/site-packages/ipykernel_launcher.py:2: SettingWithCopyWarning: \n",
      "A value is trying to be set on a copy of a slice from a DataFrame.\n",
      "Try using .loc[row_indexer,col_indexer] = value instead\n",
      "\n",
      "See the caveats in the documentation: http://pandas.pydata.org/pandas-docs/stable/user_guide/indexing.html#returning-a-view-versus-a-copy\n",
      "  \n",
      "/home/boada/.local/lib/python3.7/site-packages/ipykernel_launcher.py:5: UserWarning: Boolean Series key will be reindexed to match DataFrame index.\n",
      "  \"\"\"\n"
     ]
    }
   ],
   "source": [
    "inspecs_2016['311_score'] = 0\n",
    "inspecs_2016['nypd_score'] = 0\n",
    "\n",
    "for month in range(1, 13):\n",
    "    df_311_month = threeoneone_2016[threeoneone['created_date'].dt.month == month]\n",
    "    df_nypd_month = nypd_2016[nypd_2016['complaint_date'].dt.month == month]\n",
    "    df_inspec_month = inspecs_2016[inspecs_2016['inspection_date'].dt.month == month]\n",
    "    \n",
    "    if not df_nypd_month.shape[0]:\n",
    "        continue\n",
    "    elif not df_311_month.shape[0]:\n",
    "        continue\n",
    "    \n",
    "    # build the heataps for the 311 and nypd\n",
    "    s = 2 # sigmas\n",
    "    bins = 1000\n",
    "    img_311, extent_311, xedges_311, yedges_311 = mk_heatmap(df_311_month.longitude, \n",
    "                                                             df_311_month.latitude, s, bins=bins)\n",
    "    img_nypd, extent_nypd, xedges_nypd, yedges_nypd = mk_heatmap(df_nypd_month.longitude, \n",
    "                                                             df_nypd_month.latitude, s, bins=bins)\n",
    "    \n",
    "    for i, row in df_inspec_month.iterrows():\n",
    "        inspecs_2016.loc[i, '311_score'] = value_heatmap(row.longitude, \n",
    "                                                          row.latitude, \n",
    "                                                          xedges_311, \n",
    "                                                          yedges_311, \n",
    "                                                          img_311)\n",
    "        inspecs_2016.loc[i, 'nypd_score'] = value_heatmap(row.longitude, \n",
    "                                                          row.latitude, \n",
    "                                                          xedges_nypd, \n",
    "                                                          yedges_nypd, \n",
    "                                                          img_nypd)\n",
    "\n",
    "    "
   ]
  },
  {
   "cell_type": "code",
   "execution_count": 18,
   "metadata": {},
   "outputs": [
    {
     "name": "stdout",
     "output_type": "stream",
     "text": [
      "<class 'pandas.core.frame.DataFrame'>\n",
      "Int64Index: 27666 entries, 0 to 28179\n",
      "Data columns (total 18 columns):\n",
      "camis                    27666 non-null int64\n",
      "dba                      27666 non-null object\n",
      "boro                     27666 non-null object\n",
      "zipcode                  27666 non-null float64\n",
      "cuisine_description      27666 non-null object\n",
      "inspection_date          27666 non-null datetime64[ns]\n",
      "action                   27666 non-null object\n",
      "violation_code           27343 non-null object\n",
      "violation_description    27321 non-null object\n",
      "critical_flag            27321 non-null object\n",
      "score                    26295 non-null float64\n",
      "grade                    14021 non-null object\n",
      "inspection_type          27666 non-null object\n",
      "latitude                 27666 non-null float64\n",
      "longitude                27666 non-null float64\n",
      "weekday                  27666 non-null int64\n",
      "311_score                27666 non-null float64\n",
      "nypd_score               27666 non-null float64\n",
      "dtypes: datetime64[ns](1), float64(6), int64(2), object(9)\n",
      "memory usage: 5.3+ MB\n"
     ]
    }
   ],
   "source": [
    "inspecs_2016.info()"
   ]
  },
  {
   "cell_type": "code",
   "execution_count": 50,
   "metadata": {},
   "outputs": [
    {
     "name": "stderr",
     "output_type": "stream",
     "text": [
      "/home/boada/.local/lib/python3.7/site-packages/pandas/core/generic.py:6786: SettingWithCopyWarning: \n",
      "A value is trying to be set on a copy of a slice from a DataFrame\n",
      "\n",
      "See the caveats in the documentation: http://pandas.pydata.org/pandas-docs/stable/user_guide/indexing.html#returning-a-view-versus-a-copy\n",
      "  self._update_inplace(new_data)\n"
     ]
    }
   ],
   "source": [
    "# update the null values in critical flag to 'N'\n",
    "inspecs_2016.critical_flag.replace(np.nan, 'N', inplace=True)"
   ]
  },
  {
   "cell_type": "code",
   "execution_count": null,
   "metadata": {},
   "outputs": [],
   "source": []
  },
  {
   "cell_type": "code",
   "execution_count": 51,
   "metadata": {},
   "outputs": [
    {
     "name": "stderr",
     "output_type": "stream",
     "text": [
      "/home/boada/.local/lib/python3.7/site-packages/ipykernel_launcher.py:8: SettingWithCopyWarning: \n",
      "A value is trying to be set on a copy of a slice from a DataFrame.\n",
      "Try using .loc[row_indexer,col_indexer] = value instead\n",
      "\n",
      "See the caveats in the documentation: http://pandas.pydata.org/pandas-docs/stable/user_guide/indexing.html#returning-a-view-versus-a-copy\n",
      "  \n",
      "/home/boada/.local/lib/python3.7/site-packages/ipykernel_launcher.py:14: SettingWithCopyWarning: \n",
      "A value is trying to be set on a copy of a slice from a DataFrame.\n",
      "Try using .loc[row_indexer,col_indexer] = value instead\n",
      "\n",
      "See the caveats in the documentation: http://pandas.pydata.org/pandas-docs/stable/user_guide/indexing.html#returning-a-view-versus-a-copy\n",
      "  \n"
     ]
    }
   ],
   "source": [
    "# convert some of the catagorical data into numerical data\n",
    "enc = preprocessing.OrdinalEncoder()\n",
    "\n",
    "boros = inspecs_2016.boro.unique()\n",
    "\n",
    "enc.fit(boros.reshape(-1,1))\n",
    "\n",
    "inspecs_2016['boro_enc'] = enc.transform(inspecs_2016.boro.values.reshape(-1, 1)).flatten()\n",
    "\n",
    "crit_flags = inspecs_2016.critical_flag.unique()\n",
    "\n",
    "enc.fit(crit_flags.reshape(-1,1))\n",
    "\n",
    "inspecs_2016['crit_flag_enc'] = enc.transform(inspecs_2016.critical_flag.values.reshape(-1, 1)).flatten()"
   ]
  },
  {
   "cell_type": "code",
   "execution_count": null,
   "metadata": {},
   "outputs": [],
   "source": []
  },
  {
   "cell_type": "code",
   "execution_count": 52,
   "metadata": {},
   "outputs": [],
   "source": [
    "inspecs_2016.to_csv('./data/inspecs_2016_map.csv', index=False)"
   ]
  },
  {
   "cell_type": "code",
   "execution_count": 48,
   "metadata": {},
   "outputs": [
    {
     "data": {
      "text/plain": [
       "camis                                                           50000590\n",
       "dba                                                            CAFE BIBA\n",
       "boro                                                            Brooklyn\n",
       "zipcode                                                            11249\n",
       "cuisine_description                                      Café/Coffee/Tea\n",
       "inspection_date                                      2016-01-28 00:00:00\n",
       "action                   Violations were cited in the following area(s).\n",
       "violation_code                                                       NaN\n",
       "violation_description                                                NaN\n",
       "critical_flag                                                        NaN\n",
       "score                                                                  0\n",
       "grade                                                                  A\n",
       "inspection_type                    Cycle Inspection / Initial Inspection\n",
       "latitude                                                         40.7208\n",
       "longitude                                                       -73.9612\n",
       "weekday                                                                3\n",
       "311_score                                                      0.0977273\n",
       "nypd_score                                                      0.195821\n",
       "boro_enc                                                               1\n",
       "Name: 152, dtype: object"
      ]
     },
     "execution_count": 48,
     "metadata": {},
     "output_type": "execute_result"
    }
   ],
   "source": [
    "inspecs_2016[inspecs_2016.critical_flag.isnull()].iloc[0]"
   ]
  },
  {
   "cell_type": "code",
   "execution_count": null,
   "metadata": {},
   "outputs": [],
   "source": []
  },
  {
   "cell_type": "code",
   "execution_count": null,
   "metadata": {},
   "outputs": [],
   "source": []
  },
  {
   "cell_type": "code",
   "execution_count": null,
   "metadata": {},
   "outputs": [],
   "source": []
  },
  {
   "cell_type": "code",
   "execution_count": 19,
   "metadata": {},
   "outputs": [],
   "source": [
    "df = nypd_2016"
   ]
  },
  {
   "cell_type": "code",
   "execution_count": 21,
   "metadata": {},
   "outputs": [
    {
     "ename": "ValueError",
     "evalue": "Length mismatch: Expected axis has 8 elements, new values have 12 elements",
     "output_type": "error",
     "traceback": [
      "\u001b[0;31m---------------------------------------------------------------------------\u001b[0m",
      "\u001b[0;31mValueError\u001b[0m                                Traceback (most recent call last)",
      "\u001b[0;32m<ipython-input-21-6f8f9ac3f129>\u001b[0m in \u001b[0;36m<module>\u001b[0;34m\u001b[0m\n\u001b[1;32m      1\u001b[0m \u001b[0mmonth_hist\u001b[0m \u001b[0;34m=\u001b[0m \u001b[0mdf\u001b[0m\u001b[0;34m.\u001b[0m\u001b[0mcomplaint_date\u001b[0m\u001b[0;34m.\u001b[0m\u001b[0mdt\u001b[0m\u001b[0;34m.\u001b[0m\u001b[0mmonth\u001b[0m\u001b[0;34m\u001b[0m\u001b[0;34m\u001b[0m\u001b[0m\n\u001b[1;32m      2\u001b[0m \u001b[0mmonth_hist\u001b[0m \u001b[0;34m=\u001b[0m \u001b[0mmonth_hist\u001b[0m\u001b[0;34m.\u001b[0m\u001b[0mvalue_counts\u001b[0m\u001b[0;34m(\u001b[0m\u001b[0;34m)\u001b[0m\u001b[0;34m.\u001b[0m\u001b[0msort_index\u001b[0m\u001b[0;34m(\u001b[0m\u001b[0;34m)\u001b[0m\u001b[0;34m\u001b[0m\u001b[0;34m\u001b[0m\u001b[0m\n\u001b[0;32m----> 3\u001b[0;31m \u001b[0mmonth_hist\u001b[0m\u001b[0;34m.\u001b[0m\u001b[0mindex\u001b[0m \u001b[0;34m=\u001b[0m \u001b[0;34m[\u001b[0m\u001b[0;34m\"Jan\"\u001b[0m\u001b[0;34m,\u001b[0m \u001b[0;34m\"Feb\"\u001b[0m\u001b[0;34m,\u001b[0m \u001b[0;34m\"Mar\"\u001b[0m\u001b[0;34m,\u001b[0m \u001b[0;34m\"Apr\"\u001b[0m\u001b[0;34m,\u001b[0m \u001b[0;34m\"May\"\u001b[0m\u001b[0;34m,\u001b[0m \u001b[0;34m\"Jun\"\u001b[0m\u001b[0;34m,\u001b[0m \u001b[0;34m\"Jul\"\u001b[0m\u001b[0;34m,\u001b[0m \u001b[0;34m\"Aug\"\u001b[0m\u001b[0;34m,\u001b[0m \u001b[0;34m\"Sep\"\u001b[0m\u001b[0;34m,\u001b[0m \u001b[0;34m\"Oct\"\u001b[0m\u001b[0;34m,\u001b[0m \u001b[0;34m\"Nov\"\u001b[0m\u001b[0;34m,\u001b[0m \u001b[0;34m\"Dec\"\u001b[0m\u001b[0;34m]\u001b[0m\u001b[0;34m\u001b[0m\u001b[0;34m\u001b[0m\u001b[0m\n\u001b[0m\u001b[1;32m      4\u001b[0m \u001b[0mplt\u001b[0m\u001b[0;34m.\u001b[0m\u001b[0mbar\u001b[0m\u001b[0;34m(\u001b[0m\u001b[0mmonth_hist\u001b[0m\u001b[0;34m.\u001b[0m\u001b[0mindex\u001b[0m\u001b[0;34m,\u001b[0m \u001b[0mmonth_hist\u001b[0m\u001b[0;34m.\u001b[0m\u001b[0mvalues\u001b[0m\u001b[0;34m)\u001b[0m\u001b[0;34m\u001b[0m\u001b[0;34m\u001b[0m\u001b[0m\n\u001b[1;32m      5\u001b[0m \u001b[0mplt\u001b[0m\u001b[0;34m.\u001b[0m\u001b[0mxlabel\u001b[0m\u001b[0;34m(\u001b[0m\u001b[0;34m\"Month\"\u001b[0m\u001b[0;34m)\u001b[0m\u001b[0;34m\u001b[0m\u001b[0;34m\u001b[0m\u001b[0m\n",
      "\u001b[0;32m~/.local/lib/python3.7/site-packages/pandas/core/generic.py\u001b[0m in \u001b[0;36m__setattr__\u001b[0;34m(self, name, value)\u001b[0m\n\u001b[1;32m   5190\u001b[0m         \u001b[0;32mtry\u001b[0m\u001b[0;34m:\u001b[0m\u001b[0;34m\u001b[0m\u001b[0;34m\u001b[0m\u001b[0m\n\u001b[1;32m   5191\u001b[0m             \u001b[0mobject\u001b[0m\u001b[0;34m.\u001b[0m\u001b[0m__getattribute__\u001b[0m\u001b[0;34m(\u001b[0m\u001b[0mself\u001b[0m\u001b[0;34m,\u001b[0m \u001b[0mname\u001b[0m\u001b[0;34m)\u001b[0m\u001b[0;34m\u001b[0m\u001b[0;34m\u001b[0m\u001b[0m\n\u001b[0;32m-> 5192\u001b[0;31m             \u001b[0;32mreturn\u001b[0m \u001b[0mobject\u001b[0m\u001b[0;34m.\u001b[0m\u001b[0m__setattr__\u001b[0m\u001b[0;34m(\u001b[0m\u001b[0mself\u001b[0m\u001b[0;34m,\u001b[0m \u001b[0mname\u001b[0m\u001b[0;34m,\u001b[0m \u001b[0mvalue\u001b[0m\u001b[0;34m)\u001b[0m\u001b[0;34m\u001b[0m\u001b[0;34m\u001b[0m\u001b[0m\n\u001b[0m\u001b[1;32m   5193\u001b[0m         \u001b[0;32mexcept\u001b[0m \u001b[0mAttributeError\u001b[0m\u001b[0;34m:\u001b[0m\u001b[0;34m\u001b[0m\u001b[0;34m\u001b[0m\u001b[0m\n\u001b[1;32m   5194\u001b[0m             \u001b[0;32mpass\u001b[0m\u001b[0;34m\u001b[0m\u001b[0;34m\u001b[0m\u001b[0m\n",
      "\u001b[0;32mpandas/_libs/properties.pyx\u001b[0m in \u001b[0;36mpandas._libs.properties.AxisProperty.__set__\u001b[0;34m()\u001b[0m\n",
      "\u001b[0;32m~/.local/lib/python3.7/site-packages/pandas/core/series.py\u001b[0m in \u001b[0;36m_set_axis\u001b[0;34m(self, axis, labels, fastpath)\u001b[0m\n\u001b[1;32m    442\u001b[0m         \u001b[0mobject\u001b[0m\u001b[0;34m.\u001b[0m\u001b[0m__setattr__\u001b[0m\u001b[0;34m(\u001b[0m\u001b[0mself\u001b[0m\u001b[0;34m,\u001b[0m \u001b[0;34m\"_index\"\u001b[0m\u001b[0;34m,\u001b[0m \u001b[0mlabels\u001b[0m\u001b[0;34m)\u001b[0m\u001b[0;34m\u001b[0m\u001b[0;34m\u001b[0m\u001b[0m\n\u001b[1;32m    443\u001b[0m         \u001b[0;32mif\u001b[0m \u001b[0;32mnot\u001b[0m \u001b[0mfastpath\u001b[0m\u001b[0;34m:\u001b[0m\u001b[0;34m\u001b[0m\u001b[0;34m\u001b[0m\u001b[0m\n\u001b[0;32m--> 444\u001b[0;31m             \u001b[0mself\u001b[0m\u001b[0;34m.\u001b[0m\u001b[0m_data\u001b[0m\u001b[0;34m.\u001b[0m\u001b[0mset_axis\u001b[0m\u001b[0;34m(\u001b[0m\u001b[0maxis\u001b[0m\u001b[0;34m,\u001b[0m \u001b[0mlabels\u001b[0m\u001b[0;34m)\u001b[0m\u001b[0;34m\u001b[0m\u001b[0;34m\u001b[0m\u001b[0m\n\u001b[0m\u001b[1;32m    445\u001b[0m \u001b[0;34m\u001b[0m\u001b[0m\n\u001b[1;32m    446\u001b[0m     \u001b[0;32mdef\u001b[0m \u001b[0m_set_subtyp\u001b[0m\u001b[0;34m(\u001b[0m\u001b[0mself\u001b[0m\u001b[0;34m,\u001b[0m \u001b[0mis_all_dates\u001b[0m\u001b[0;34m)\u001b[0m\u001b[0;34m:\u001b[0m\u001b[0;34m\u001b[0m\u001b[0;34m\u001b[0m\u001b[0m\n",
      "\u001b[0;32m~/.local/lib/python3.7/site-packages/pandas/core/internals/managers.py\u001b[0m in \u001b[0;36mset_axis\u001b[0;34m(self, axis, new_labels)\u001b[0m\n\u001b[1;32m    181\u001b[0m             raise ValueError(\n\u001b[1;32m    182\u001b[0m                 \u001b[0;34m\"Length mismatch: Expected axis has {old} elements, new \"\u001b[0m\u001b[0;34m\u001b[0m\u001b[0;34m\u001b[0m\u001b[0m\n\u001b[0;32m--> 183\u001b[0;31m                 \u001b[0;34m\"values have {new} elements\"\u001b[0m\u001b[0;34m.\u001b[0m\u001b[0mformat\u001b[0m\u001b[0;34m(\u001b[0m\u001b[0mold\u001b[0m\u001b[0;34m=\u001b[0m\u001b[0mold_len\u001b[0m\u001b[0;34m,\u001b[0m \u001b[0mnew\u001b[0m\u001b[0;34m=\u001b[0m\u001b[0mnew_len\u001b[0m\u001b[0;34m)\u001b[0m\u001b[0;34m\u001b[0m\u001b[0;34m\u001b[0m\u001b[0m\n\u001b[0m\u001b[1;32m    184\u001b[0m             )\n\u001b[1;32m    185\u001b[0m \u001b[0;34m\u001b[0m\u001b[0m\n",
      "\u001b[0;31mValueError\u001b[0m: Length mismatch: Expected axis has 8 elements, new values have 12 elements"
     ]
    }
   ],
   "source": [
    "month_hist = df.complaint_date.dt.month\n",
    "month_hist = month_hist.value_counts().sort_index()\n",
    "month_hist.index = [\"Jan\", \"Feb\", \"Mar\", \"Apr\", \"May\", \"Jun\", \"Jul\", \"Aug\", \"Sep\", \"Oct\", \"Nov\", \"Dec\"]\n",
    "plt.bar(month_hist.index, month_hist.values)\n",
    "plt.xlabel(\"Month\")\n",
    "plt.ylabel(\"Count of Inspections\")"
   ]
  },
  {
   "cell_type": "code",
   "execution_count": 22,
   "metadata": {},
   "outputs": [
    {
     "data": {
      "text/plain": [
       "1    35990\n",
       "2    34738\n",
       "3    39777\n",
       "4    39665\n",
       "5    41993\n",
       "6    41944\n",
       "7    41824\n",
       "8    21562\n",
       "Name: complaint_date, dtype: int64"
      ]
     },
     "execution_count": 22,
     "metadata": {},
     "output_type": "execute_result"
    }
   ],
   "source": [
    "month_hist"
   ]
  },
  {
   "cell_type": "code",
   "execution_count": null,
   "metadata": {},
   "outputs": [],
   "source": [
    "day_hist = pd.to_datetime(df[\"inspection_date\"]).dt.weekday\n",
    "day_hist = day_hist.value_counts().sort_index()\n",
    "day_hist.index = [\"Mon\", \"Tue\", \"Wed\", \"Thur\", \"Fri\", \"Sat\", \"Sun\"]\n",
    "plt.bar(day_hist.index, day_hist.values)\n",
    "plt.xlabel(\"Day of Week\")\n",
    "plt.ylabel(\"Count of Inspections\")"
   ]
  },
  {
   "cell_type": "code",
   "execution_count": null,
   "metadata": {},
   "outputs": [],
   "source": [
    "df[df.inspection_date.dt.month == 1][['latitude', 'longitude']]"
   ]
  },
  {
   "cell_type": "code",
   "execution_count": null,
   "metadata": {},
   "outputs": [],
   "source": [
    "score_heatmap_month(y=40.597078, x=-73.941255, df=df, month=0)"
   ]
  },
  {
   "cell_type": "code",
   "execution_count": null,
   "metadata": {},
   "outputs": [],
   "source": [
    "fig, ax = plt.subplots(1,1)\n",
    "\n",
    "x = df.longitude[df.inspection_date.dt.month == 1]\n",
    "y = df.latitude[df.inspection_date.dt.month == 1]\n",
    "\n",
    "s = 2\n",
    "\n",
    "img, extent, xedges, yedges = mk_heatmap(x, y, s, bins=1000)\n",
    "ax.imshow(img, extent=extent, origin='lower', cmap=cm.PuRd)\n",
    "ax.set_title(\"NYPD  $\\sigma$ = %d\" % s)\n",
    "ax.set_xlabel('Longitude')\n",
    "ax.set_ylabel('Latitude')"
   ]
  },
  {
   "cell_type": "code",
   "execution_count": null,
   "metadata": {},
   "outputs": [],
   "source": []
  }
 ],
 "metadata": {
  "kernelspec": {
   "display_name": "Python 3",
   "language": "python",
   "name": "python3"
  },
  "language_info": {
   "codemirror_mode": {
    "name": "ipython",
    "version": 3
   },
   "file_extension": ".py",
   "mimetype": "text/x-python",
   "name": "python",
   "nbconvert_exporter": "python",
   "pygments_lexer": "ipython3",
   "version": "3.7.1"
  }
 },
 "nbformat": 4,
 "nbformat_minor": 2
}
