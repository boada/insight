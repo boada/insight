{
 "cells": [
  {
   "cell_type": "code",
   "execution_count": 19,
   "metadata": {},
   "outputs": [],
   "source": [
    "import pandas as pd\n",
    "import matplotlib.pyplot as plt\n",
    "\n",
    "\n",
    "import numpy as np\n",
    "from utils.strings import TARGET, FEATURES, DATE\n",
    "from utils.utilities import select_by_date\n",
    "\n",
    "import sklearn\n",
    "from sklearn.linear_model import LogisticRegression\n",
    "from sklearn import metrics\n",
    "from sklearn.model_selection import train_test_split"
   ]
  },
  {
   "cell_type": "markdown",
   "metadata": {},
   "source": [
    "# Load data"
   ]
  },
  {
   "cell_type": "code",
   "execution_count": 2,
   "metadata": {},
   "outputs": [],
   "source": [
    "inspecs= pd.read_csv('./data/inspecs_heat_scores.csv', parse_dates=[DATE])"
   ]
  },
  {
   "cell_type": "code",
   "execution_count": 3,
   "metadata": {},
   "outputs": [
    {
     "name": "stdout",
     "output_type": "stream",
     "text": [
      "<class 'pandas.core.frame.DataFrame'>\n",
      "RangeIndex: 131979 entries, 0 to 131978\n",
      "Data columns (total 26 columns):\n",
      "camis                    131979 non-null int64\n",
      "dba                      131979 non-null object\n",
      "boro                     131979 non-null object\n",
      "zipcode                  131979 non-null float64\n",
      "cuisine_description      131979 non-null object\n",
      "inspection_date          131979 non-null datetime64[ns]\n",
      "action                   131979 non-null object\n",
      "score                    126419 non-null float64\n",
      "latitude                 131979 non-null float64\n",
      "longitude                131979 non-null float64\n",
      "grade                    126420 non-null object\n",
      "violation_code           131979 non-null object\n",
      "violation_description    131979 non-null object\n",
      "critical_flag            131979 non-null object\n",
      "inspection_type          131979 non-null object\n",
      "critical                 131979 non-null int64\n",
      "weekday                  131979 non-null int64\n",
      "tmax                     131979 non-null int64\n",
      "time_since_last          131979 non-null float64\n",
      "past_critical            131979 non-null float64\n",
      "past_grade               101790 non-null object\n",
      "past_score               101790 non-null float64\n",
      "nypd_heat_score          131979 non-null float64\n",
      "dsny_heat_score          131979 non-null float64\n",
      "dep_heat_score           131979 non-null float64\n",
      "dohmh_heat_score         131979 non-null float64\n",
      "dtypes: datetime64[ns](1), float64(11), int64(4), object(10)\n",
      "memory usage: 26.2+ MB\n"
     ]
    }
   ],
   "source": [
    "inspecs.info()"
   ]
  },
  {
   "cell_type": "markdown",
   "metadata": {},
   "source": [
    "## Look at the dates to find a good train/test split. \n",
    "\n",
    "Currently I am thinking I am going to train on 2017/2018 data and then predict the first 6 months of 2019"
   ]
  },
  {
   "cell_type": "code",
   "execution_count": 4,
   "metadata": {},
   "outputs": [],
   "source": [
    "inspecs_for_train = select_by_date(inspecs, '2017-01-01', '2018-12-31')\n",
    "inspecs_for_test = select_by_date(inspecs, '2019-01-01', '2019-5-31')"
   ]
  },
  {
   "cell_type": "code",
   "execution_count": 5,
   "metadata": {},
   "outputs": [
    {
     "data": {
      "text/plain": [
       "(71070, 26)"
      ]
     },
     "execution_count": 5,
     "metadata": {},
     "output_type": "execute_result"
    }
   ],
   "source": [
    "inspecs_for_train.shape"
   ]
  },
  {
   "cell_type": "code",
   "execution_count": 6,
   "metadata": {},
   "outputs": [
    {
     "data": {
      "text/plain": [
       "(21015, 26)"
      ]
     },
     "execution_count": 6,
     "metadata": {},
     "output_type": "execute_result"
    }
   ],
   "source": [
    "inspecs_for_test.shape"
   ]
  },
  {
   "cell_type": "markdown",
   "metadata": {},
   "source": [
    "### Chose the columns we are going to work with"
   ]
  },
  {
   "cell_type": "code",
   "execution_count": 7,
   "metadata": {},
   "outputs": [],
   "source": [
    "train_X = inspecs_for_train[FEATURES].values\n",
    "train_Y = inspecs_for_train[TARGET].values.reshape(-1, 1)\n",
    "\n",
    "test_X = inspecs_for_test[FEATURES].values\n",
    "test_Y = inspecs_for_test[TARGET].values.reshape(-1, 1)"
   ]
  },
  {
   "cell_type": "code",
   "execution_count": 9,
   "metadata": {},
   "outputs": [
    {
     "name": "stdout",
     "output_type": "stream",
     "text": [
      "(21015, 8)\n",
      "(21015, 1)\n"
     ]
    }
   ],
   "source": [
    "print(train_X.shape)\n",
    "print(train_Y.shape)\n",
    "\n",
    "print(test_X.shape)\n",
    "print(test_Y.shape)"
   ]
  },
  {
   "cell_type": "code",
   "execution_count": 10,
   "metadata": {},
   "outputs": [
    {
     "name": "stderr",
     "output_type": "stream",
     "text": [
      "/home/boada/.local/lib/python3.7/site-packages/sklearn/utils/validation.py:760: DataConversionWarning: A column-vector y was passed when a 1d array was expected. Please change the shape of y to (n_samples, ), for example using ravel().\n",
      "  y = column_or_1d(y, warn=True)\n"
     ]
    }
   ],
   "source": [
    "clf = LogisticRegression()\n",
    "clf.fit(train_X, train_Y)\n",
    "clf.score(test_X, test_Y)\n",
    "y_pred = clf.predict(test_X)"
   ]
  },
  {
   "cell_type": "code",
   "execution_count": 11,
   "metadata": {},
   "outputs": [
    {
     "name": "stdout",
     "output_type": "stream",
     "text": [
      "              precision    recall  f1-score   support\n",
      "\n",
      "           0       0.00      0.00      0.00      2958\n",
      "           1       0.86      1.00      0.92     18057\n",
      "\n",
      "    accuracy                           0.86     21015\n",
      "   macro avg       0.43      0.50      0.46     21015\n",
      "weighted avg       0.74      0.86      0.79     21015\n",
      "\n"
     ]
    },
    {
     "name": "stderr",
     "output_type": "stream",
     "text": [
      "/home/boada/.local/lib/python3.7/site-packages/sklearn/metrics/_classification.py:1272: UndefinedMetricWarning: Precision and F-score are ill-defined and being set to 0.0 in labels with no predicted samples. Use `zero_division` parameter to control this behavior.\n",
      "  _warn_prf(average, modifier, msg_start, len(result))\n"
     ]
    }
   ],
   "source": [
    "from sklearn.metrics import classification_report\n",
    "print(classification_report(test_Y, y_pred))"
   ]
  },
  {
   "cell_type": "code",
   "execution_count": 12,
   "metadata": {},
   "outputs": [
    {
     "data": {
      "text/plain": [
       "array([1])"
      ]
     },
     "execution_count": 12,
     "metadata": {},
     "output_type": "execute_result"
    }
   ],
   "source": [
    "np.unique(y_pred)"
   ]
  },
  {
   "cell_type": "markdown",
   "metadata": {},
   "source": [
    "## So we are just predicting 1 everywhere\n",
    "\n",
    "let's rebalance the classes"
   ]
  },
  {
   "cell_type": "code",
   "execution_count": 16,
   "metadata": {},
   "outputs": [],
   "source": [
    "from sklearn.utils import resample\n",
    "\n",
    "# make a new df and downsample\n",
    "\n",
    "new_inspecs = inspecs[FEATURES + TARGET]\n",
    "\n",
    "# Separate majority and minority classes\n",
    "df_majority = new_inspecs[new_inspecs.critical==1]\n",
    "df_minority = new_inspecs[new_inspecs.critical==0]"
   ]
  },
  {
   "cell_type": "code",
   "execution_count": 29,
   "metadata": {},
   "outputs": [
    {
     "name": "stdout",
     "output_type": "stream",
     "text": [
      "1    17701\n",
      "0    17701\n",
      "Name: critical, dtype: int64\n"
     ]
    }
   ],
   "source": [
    "# Downsample Majority Class\n",
    "df_majority_dsampled = resample(df_majority, \n",
    "                                 replace=False, # sample without replacement\n",
    "                                 n_samples=len(df_minority)) # to match minority class\n",
    " \n",
    "# Combine minority class with downsampled majority class\n",
    "df_dsampled = pd.concat([df_minority, df_majority_dsampled])\n",
    " \n",
    "# Display new class counts\n",
    "print(df_dsampled.critical.value_counts())"
   ]
  },
  {
   "cell_type": "code",
   "execution_count": 22,
   "metadata": {},
   "outputs": [],
   "source": [
    "X_train, X_test, y_train, y_test = train_test_split(df_dsampled.drop('critical',axis=1), \n",
    "                                                    df_dsampled['critical'], test_size=0.30)\n",
    "\n",
    "logmodel = LogisticRegression(solver='lbfgs')\n",
    "logmodel.fit(X_train,y_train)\n",
    "predictions = logmodel.predict(X_test)"
   ]
  },
  {
   "cell_type": "code",
   "execution_count": 27,
   "metadata": {},
   "outputs": [
    {
     "name": "stdout",
     "output_type": "stream",
     "text": [
      "              precision    recall  f1-score   support\n",
      "\n",
      "           0       0.54      0.45      0.49      5438\n",
      "           1       0.51      0.60      0.55      5183\n",
      "\n",
      "    accuracy                           0.52     10621\n",
      "   macro avg       0.52      0.52      0.52     10621\n",
      "weighted avg       0.52      0.52      0.52     10621\n",
      "\n"
     ]
    }
   ],
   "source": [
    "# after balancing the two target classes\n",
    "print(classification_report(y_test,predictions))"
   ]
  },
  {
   "cell_type": "code",
   "execution_count": 32,
   "metadata": {},
   "outputs": [
    {
     "name": "stdout",
     "output_type": "stream",
     "text": [
      "Accuracy: 0.5217964410130873\n",
      "Precision: 0.5085413929040736\n",
      "Recall: 0.5973374493536562\n"
     ]
    }
   ],
   "source": [
    "print(\"Accuracy:\",metrics.accuracy_score(y_test, predictions))\n",
    "print(\"Precision:\",metrics.precision_score(y_test, predictions))\n",
    "print(\"Recall:\",metrics.recall_score(y_test, predictions))"
   ]
  },
  {
   "cell_type": "code",
   "execution_count": 34,
   "metadata": {},
   "outputs": [
    {
     "data": {
      "text/plain": [
       "<matplotlib.legend.Legend at 0x7f72eb5b5c18>"
      ]
     },
     "execution_count": 34,
     "metadata": {},
     "output_type": "execute_result"
    },
    {
     "data": {
      "image/png": "[encoded data removed]",
      "text/plain": [
       "<Figure size 432x288 with 1 Axes>"
      ]
     },
     "metadata": {
      "needs_background": "light"
     },
     "output_type": "display_data"
    }
   ],
   "source": [
    "y_pred_proba = clf.predict_proba(X_test)[::,1]\n",
    "fpr, tpr, _ = metrics.roc_curve(y_test,  y_pred_proba)\n",
    "auc = metrics.roc_auc_score(y_test, y_pred_proba)\n",
    "plt.plot(fpr,tpr,label=\"data 1, auc=\"+str(auc))\n",
    "plt.legend(loc=4)\n"
   ]
  },
  {
   "cell_type": "markdown",
   "metadata": {},
   "source": [
    "# Do the same thing with date as the test split instead of randomly"
   ]
  },
  {
   "cell_type": "code",
   "execution_count": 38,
   "metadata": {},
   "outputs": [
    {
     "name": "stdout",
     "output_type": "stream",
     "text": [
      "1    17701\n",
      "0    17701\n",
      "Name: critical, dtype: int64\n"
     ]
    }
   ],
   "source": [
    "# make a new df and downsample\n",
    "\n",
    "new_inspecs = inspecs[FEATURES + TARGET + [DATE]]\n",
    "\n",
    "# Separate majority and minority classes\n",
    "df_majority = new_inspecs[new_inspecs.critical==1]\n",
    "df_minority = new_inspecs[new_inspecs.critical==0]\n",
    "\n",
    "# Downsample Majority Class\n",
    "df_majority_dsampled = resample(df_majority, \n",
    "                                 replace=False, # sample without replacement\n",
    "                                 n_samples=len(df_minority)) # to match minority class\n",
    " \n",
    "# Combine minority class with downsampled majority class\n",
    "df_dsampled = pd.concat([df_minority, df_majority_dsampled])\n",
    " \n",
    "# Display new class counts\n",
    "print(df_dsampled.critical.value_counts())"
   ]
  },
  {
   "cell_type": "code",
   "execution_count": 44,
   "metadata": {},
   "outputs": [
    {
     "name": "stdout",
     "output_type": "stream",
     "text": [
      "<class 'pandas.core.frame.DataFrame'>\n",
      "Int64Index: 35402 entries, 1 to 125566\n",
      "Data columns (total 10 columns):\n",
      "weekday             35402 non-null int64\n",
      "past_critical       35402 non-null float64\n",
      "time_since_last     35402 non-null float64\n",
      "tmax                35402 non-null int64\n",
      "nypd_heat_score     35402 non-null float64\n",
      "dsny_heat_score     35402 non-null float64\n",
      "dep_heat_score      35402 non-null float64\n",
      "dohmh_heat_score    35402 non-null float64\n",
      "critical            35402 non-null int64\n",
      "inspection_date     35402 non-null datetime64[ns]\n",
      "dtypes: datetime64[ns](1), float64(6), int64(3)\n",
      "memory usage: 3.0 MB\n"
     ]
    }
   ],
   "source": [
    "df_dsampled.info()"
   ]
  },
  {
   "cell_type": "code",
   "execution_count": 52,
   "metadata": {},
   "outputs": [],
   "source": [
    "X_train = select_by_date(df_dsampled, '2017-01-01', '2018-12-31')\n",
    "X_test = select_by_date(df_dsampled, '2019-01-01', '2019-02-28')"
   ]
  },
  {
   "cell_type": "code",
   "execution_count": 65,
   "metadata": {},
   "outputs": [
    {
     "data": {
      "text/plain": [
       "(19484, 10)"
      ]
     },
     "execution_count": 65,
     "metadata": {},
     "output_type": "execute_result"
    }
   ],
   "source": [
    "X_train.shape"
   ]
  },
  {
   "cell_type": "code",
   "execution_count": 64,
   "metadata": {},
   "outputs": [
    {
     "data": {
      "text/plain": [
       "(1959, 10)"
      ]
     },
     "execution_count": 64,
     "metadata": {},
     "output_type": "execute_result"
    }
   ],
   "source": [
    "X_test.shape"
   ]
  },
  {
   "cell_type": "code",
   "execution_count": 56,
   "metadata": {},
   "outputs": [
    {
     "name": "stderr",
     "output_type": "stream",
     "text": [
      "/home/boada/.local/lib/python3.7/site-packages/sklearn/utils/validation.py:760: DataConversionWarning: A column-vector y was passed when a 1d array was expected. Please change the shape of y to (n_samples, ), for example using ravel().\n",
      "  y = column_or_1d(y, warn=True)\n"
     ]
    }
   ],
   "source": [
    "logmodel = LogisticRegression(solver='lbfgs')\n",
    "logmodel.fit(X_train[FEATURES], X_train[TARGET])\n",
    "predictions = logmodel.predict(X_test[FEATURES])"
   ]
  },
  {
   "cell_type": "code",
   "execution_count": 57,
   "metadata": {},
   "outputs": [
    {
     "name": "stdout",
     "output_type": "stream",
     "text": [
      "              precision    recall  f1-score   support\n",
      "\n",
      "           0       0.51      0.94      0.66      1004\n",
      "           1       0.43      0.05      0.08       955\n",
      "\n",
      "    accuracy                           0.51      1959\n",
      "   macro avg       0.47      0.49      0.37      1959\n",
      "weighted avg       0.47      0.51      0.38      1959\n",
      "\n"
     ]
    }
   ],
   "source": [
    "# after balancing the two target classes\n",
    "print(classification_report(X_test[TARGET],predictions))"
   ]
  },
  {
   "cell_type": "code",
   "execution_count": 63,
   "metadata": {},
   "outputs": [
    {
     "data": {
      "text/plain": [
       "array([[0.5226951 , 0.4773049 ],\n",
       "       [0.61226316, 0.38773684],\n",
       "       [0.5308088 , 0.4691912 ],\n",
       "       [0.53157318, 0.46842682],\n",
       "       [0.5313026 , 0.4686974 ],\n",
       "       [0.56153707, 0.43846293],\n",
       "       [0.56747599, 0.43252401],\n",
       "       [0.59293333, 0.40706667],\n",
       "       [0.57528938, 0.42471062],\n",
       "       [0.57527318, 0.42472682],\n",
       "       [0.5152678 , 0.4847322 ],\n",
       "       [0.56164825, 0.43835175],\n",
       "       [0.54549614, 0.45450386],\n",
       "       [0.5414472 , 0.4585528 ],\n",
       "       [0.56023891, 0.43976109],\n",
       "       [0.49953666, 0.50046334],\n",
       "       [0.55103643, 0.44896357],\n",
       "       [0.58951162, 0.41048838],\n",
       "       [0.5398703 , 0.4601297 ],\n",
       "       [0.53586173, 0.46413827]])"
      ]
     },
     "execution_count": 63,
     "metadata": {},
     "output_type": "execute_result"
    }
   ],
   "source": [
    "logmodel.predict_proba(X_test[FEATURES][:20])"
   ]
  },
  {
   "cell_type": "code",
   "execution_count": 59,
   "metadata": {},
   "outputs": [
    {
     "data": {
      "text/html": [
       "<div>\n",
       "<style scoped>\n",
       "    .dataframe tbody tr th:only-of-type {\n",
       "        vertical-align: middle;\n",
       "    }\n",
       "\n",
       "    .dataframe tbody tr th {\n",
       "        vertical-align: top;\n",
       "    }\n",
       "\n",
       "    .dataframe thead th {\n",
       "        text-align: right;\n",
       "    }\n",
       "</style>\n",
       "<table border=\"1\" class=\"dataframe\">\n",
       "  <thead>\n",
       "    <tr style=\"text-align: right;\">\n",
       "      <th></th>\n",
       "      <th>critical</th>\n",
       "    </tr>\n",
       "  </thead>\n",
       "  <tbody>\n",
       "    <tr>\n",
       "      <th>139</th>\n",
       "      <td>0</td>\n",
       "    </tr>\n",
       "    <tr>\n",
       "      <th>147</th>\n",
       "      <td>0</td>\n",
       "    </tr>\n",
       "    <tr>\n",
       "      <th>200</th>\n",
       "      <td>0</td>\n",
       "    </tr>\n",
       "    <tr>\n",
       "      <th>427</th>\n",
       "      <td>0</td>\n",
       "    </tr>\n",
       "    <tr>\n",
       "      <th>686</th>\n",
       "      <td>0</td>\n",
       "    </tr>\n",
       "    <tr>\n",
       "      <th>815</th>\n",
       "      <td>0</td>\n",
       "    </tr>\n",
       "    <tr>\n",
       "      <th>893</th>\n",
       "      <td>0</td>\n",
       "    </tr>\n",
       "    <tr>\n",
       "      <th>938</th>\n",
       "      <td>0</td>\n",
       "    </tr>\n",
       "    <tr>\n",
       "      <th>1077</th>\n",
       "      <td>0</td>\n",
       "    </tr>\n",
       "    <tr>\n",
       "      <th>1221</th>\n",
       "      <td>0</td>\n",
       "    </tr>\n",
       "    <tr>\n",
       "      <th>1478</th>\n",
       "      <td>0</td>\n",
       "    </tr>\n",
       "    <tr>\n",
       "      <th>1626</th>\n",
       "      <td>0</td>\n",
       "    </tr>\n",
       "    <tr>\n",
       "      <th>1652</th>\n",
       "      <td>0</td>\n",
       "    </tr>\n",
       "    <tr>\n",
       "      <th>1868</th>\n",
       "      <td>0</td>\n",
       "    </tr>\n",
       "    <tr>\n",
       "      <th>1913</th>\n",
       "      <td>0</td>\n",
       "    </tr>\n",
       "    <tr>\n",
       "      <th>1924</th>\n",
       "      <td>0</td>\n",
       "    </tr>\n",
       "    <tr>\n",
       "      <th>1999</th>\n",
       "      <td>0</td>\n",
       "    </tr>\n",
       "    <tr>\n",
       "      <th>2174</th>\n",
       "      <td>0</td>\n",
       "    </tr>\n",
       "    <tr>\n",
       "      <th>2234</th>\n",
       "      <td>0</td>\n",
       "    </tr>\n",
       "    <tr>\n",
       "      <th>2472</th>\n",
       "      <td>0</td>\n",
       "    </tr>\n",
       "  </tbody>\n",
       "</table>\n",
       "</div>"
      ],
      "text/plain": [
       "      critical\n",
       "139          0\n",
       "147          0\n",
       "200          0\n",
       "427          0\n",
       "686          0\n",
       "815          0\n",
       "893          0\n",
       "938          0\n",
       "1077         0\n",
       "1221         0\n",
       "1478         0\n",
       "1626         0\n",
       "1652         0\n",
       "1868         0\n",
       "1913         0\n",
       "1924         0\n",
       "1999         0\n",
       "2174         0\n",
       "2234         0\n",
       "2472         0"
      ]
     },
     "execution_count": 59,
     "metadata": {},
     "output_type": "execute_result"
    }
   ],
   "source": [
    "X_test[TARGET][:20]"
   ]
  },
  {
   "cell_type": "markdown",
   "metadata": {},
   "source": [
    "# Look at decision trees"
   ]
  },
  {
   "cell_type": "code",
   "execution_count": 73,
   "metadata": {},
   "outputs": [
    {
     "name": "stderr",
     "output_type": "stream",
     "text": [
      "/home/boada/.local/lib/python3.7/site-packages/ipykernel_launcher.py:7: DataConversionWarning: A column-vector y was passed when a 1d array was expected. Please change the shape of y to (n_samples,), for example using ravel().\n",
      "  import sys\n"
     ]
    },
    {
     "data": {
      "text/plain": [
       "array([0.05224572, 0.00831976, 0.16762254, 0.14252225, 0.13289581,\n",
       "       0.16452664, 0.16674541, 0.16512187])"
      ]
     },
     "execution_count": 73,
     "metadata": {},
     "output_type": "execute_result"
    }
   ],
   "source": [
    "from sklearn.ensemble import ExtraTreesClassifier\n",
    "from sklearn.feature_selection import SelectFromModel\n",
    "\n",
    "\n",
    "clf = ExtraTreesClassifier(n_estimators=50)\n",
    "clf = clf.fit(X_train[FEATURES], X_train[TARGET])\n",
    "clf.feature_importances_  \n",
    "\n",
    "# model = SelectFromModel(clf, prefit=True)\n",
    "# X_new = model.transform(X)\n",
    "# X_new.shape "
   ]
  },
  {
   "cell_type": "code",
   "execution_count": 75,
   "metadata": {},
   "outputs": [
    {
     "name": "stdout",
     "output_type": "stream",
     "text": [
      "weekday 0.05224572066054112\n",
      "past_critical 0.008319756904574448\n",
      "time_since_last 0.16762253818808923\n",
      "tmax 0.14252224598981347\n",
      "nypd_heat_score 0.1328958128540906\n",
      "dsny_heat_score 0.16452663710107554\n",
      "dep_heat_score 0.16674541491444514\n",
      "dohmh_heat_score 0.16512187338737053\n"
     ]
    }
   ],
   "source": [
    "for f, i in zip(FEATURES, clf.feature_importances_):\n",
    "    print(f, i)"
   ]
  },
  {
   "cell_type": "code",
   "execution_count": 76,
   "metadata": {},
   "outputs": [],
   "source": [
    "predictions = clf.predict(X_test[FEATURES])"
   ]
  },
  {
   "cell_type": "code",
   "execution_count": 77,
   "metadata": {},
   "outputs": [
    {
     "name": "stdout",
     "output_type": "stream",
     "text": [
      "              precision    recall  f1-score   support\n",
      "\n",
      "           0       0.53      0.71      0.61      1004\n",
      "           1       0.54      0.35      0.42       955\n",
      "\n",
      "    accuracy                           0.53      1959\n",
      "   macro avg       0.54      0.53      0.52      1959\n",
      "weighted avg       0.54      0.53      0.52      1959\n",
      "\n"
     ]
    }
   ],
   "source": [
    "# after balancing the two target classes\n",
    "print(classification_report(X_test[TARGET],predictions))"
   ]
  },
  {
   "cell_type": "markdown",
   "metadata": {},
   "source": [
    "# Try to use the silly TPOT"
   ]
  },
  {
   "cell_type": "code",
   "execution_count": 79,
   "metadata": {},
   "outputs": [],
   "source": [
    "from tpot import TPOTClassifier"
   ]
  },
  {
   "cell_type": "code",
   "execution_count": 80,
   "metadata": {},
   "outputs": [
    {
     "name": "stdout",
     "output_type": "stream",
     "text": [
      "Warning: xgboost.XGBClassifier is not available and will not be used by TPOT.\n"
     ]
    },
    {
     "name": "stderr",
     "output_type": "stream",
     "text": [
      "/home/boada/.local/lib/python3.7/site-packages/sklearn/utils/validation.py:760: DataConversionWarning: A column-vector y was passed when a 1d array was expected. Please change the shape of y to (n_samples, ), for example using ravel().\n",
      "  y = column_or_1d(y, warn=True)\n"
     ]
    },
    {
     "data": {
      "application/vnd.jupyter.widget-view+json": {
       "model_id": "",
       "version_major": 2,
       "version_minor": 0
      },
      "text/plain": [
       "HBox(children=(IntProgress(value=0, description='Optimization Progress', max=40, style=ProgressStyle(descripti…"
      ]
     },
     "metadata": {},
     "output_type": "display_data"
    },
    {
     "name": "stdout",
     "output_type": "stream",
     "text": [
      "\r\n",
      "\r",
      "2.03 minutes have elapsed. TPOT will close down.\n",
      "TPOT closed during evaluation in one generation.\n",
      "WARNING: TPOT may not provide a good pipeline if TPOT is stopped/interrupted in a early generation.\n",
      "\r\n",
      "\r\n",
      "TPOT closed prematurely. Will use the current best pipeline.\n",
      "\r\n",
      "Best pipeline: DecisionTreeClassifier(input_matrix, criterion=gini, max_depth=8, min_samples_leaf=14, min_samples_split=10)\n"
     ]
    },
    {
     "data": {
      "text/plain": [
       "TPOTClassifier(config_dict=None, crossover_rate=0.1, cv=5,\n",
       "               disable_update_check=False, early_stop=None, generations=100,\n",
       "               max_eval_time_mins=0.04, max_time_mins=2, memory=None,\n",
       "               mutation_rate=0.9, n_jobs=1, offspring_size=None,\n",
       "               periodic_checkpoint_folder=None, population_size=40,\n",
       "               random_state=None, scoring=None, subsample=1.0, template=None,\n",
       "               use_dask=False, verbosity=2, warm_start=False)"
      ]
     },
     "execution_count": 80,
     "metadata": {},
     "output_type": "execute_result"
    }
   ],
   "source": [
    "tpot = TPOTClassifier(verbosity=2, max_time_mins=2, max_eval_time_mins=0.04, population_size=40)\n",
    "tpot.fit(X_train[FEATURES], X_train[TARGET])"
   ]
  },
  {
   "cell_type": "code",
   "execution_count": 82,
   "metadata": {},
   "outputs": [
    {
     "name": "stderr",
     "output_type": "stream",
     "text": [
      "/home/boada/.local/lib/python3.7/site-packages/sklearn/utils/validation.py:760: DataConversionWarning: A column-vector y was passed when a 1d array was expected. Please change the shape of y to (n_samples, ), for example using ravel().\n",
      "  y = column_or_1d(y, warn=True)\n"
     ]
    },
    {
     "data": {
      "text/plain": [
       "0.5405819295558959"
      ]
     },
     "execution_count": 82,
     "metadata": {},
     "output_type": "execute_result"
    }
   ],
   "source": [
    "tpot.score(X_test[FEATURES], X_test[TARGET])"
   ]
  },
  {
   "cell_type": "code",
   "execution_count": 83,
   "metadata": {},
   "outputs": [],
   "source": [
    "predictions = tpot.predict(X_test[FEATURES])"
   ]
  },
  {
   "cell_type": "code",
   "execution_count": 84,
   "metadata": {},
   "outputs": [
    {
     "name": "stdout",
     "output_type": "stream",
     "text": [
      "              precision    recall  f1-score   support\n",
      "\n",
      "           0       0.54      0.79      0.64      1004\n",
      "           1       0.56      0.28      0.37       955\n",
      "\n",
      "    accuracy                           0.54      1959\n",
      "   macro avg       0.55      0.53      0.50      1959\n",
      "weighted avg       0.55      0.54      0.51      1959\n",
      "\n"
     ]
    }
   ],
   "source": [
    "# after balancing the two target classes\n",
    "print(classification_report(X_test[TARGET], predictions))"
   ]
  },
  {
   "cell_type": "markdown",
   "metadata": {},
   "source": [
    "# Let's preprocess some of the data"
   ]
  },
  {
   "cell_type": "code",
   "execution_count": 85,
   "metadata": {},
   "outputs": [],
   "source": [
    "from sklearn import preprocessing"
   ]
  },
  {
   "cell_type": "code",
   "execution_count": 86,
   "metadata": {},
   "outputs": [],
   "source": [
    "X_scaled = preprocessing.scale(X_train[FEATURES])"
   ]
  },
  {
   "cell_type": "code",
   "execution_count": 87,
   "metadata": {},
   "outputs": [
    {
     "data": {
      "text/plain": [
       "array([[ 1.37059444,  0.70517513,  1.64473157, ..., -0.0921906 ,\n",
       "        -0.4731375 ,  0.11216369],\n",
       "       [-0.05194715, -1.41808745, -0.86976922, ..., -0.01532828,\n",
       "         0.22616592,  2.03468532],\n",
       "       [ 0.65932364, -1.41808745,  1.59556536, ..., -0.32122538,\n",
       "        -0.47024651,  2.54722035],\n",
       "       ...,\n",
       "       [ 1.37059444,  0.70517513,  0.42962365, ..., -0.99192642,\n",
       "        -0.61736148, -0.80981242],\n",
       "       [-0.05194715,  0.70517513, -0.70822308, ...,  0.57779186,\n",
       "        -0.23572626, -0.77062066],\n",
       "       [-0.76321795, -1.41808745, -0.86976922, ..., -0.66912596,\n",
       "         0.34278311,  0.46860801]])"
      ]
     },
     "execution_count": 87,
     "metadata": {},
     "output_type": "execute_result"
    }
   ],
   "source": [
    "X_scaled"
   ]
  },
  {
   "cell_type": "code",
   "execution_count": 88,
   "metadata": {},
   "outputs": [
    {
     "name": "stderr",
     "output_type": "stream",
     "text": [
      "/home/boada/.local/lib/python3.7/site-packages/sklearn/utils/validation.py:760: DataConversionWarning: A column-vector y was passed when a 1d array was expected. Please change the shape of y to (n_samples, ), for example using ravel().\n",
      "  y = column_or_1d(y, warn=True)\n"
     ]
    },
    {
     "data": {
      "text/plain": [
       "LogisticRegression(C=1.0, class_weight=None, dual=False, fit_intercept=True,\n",
       "                   intercept_scaling=1, l1_ratio=None, max_iter=100,\n",
       "                   multi_class='auto', n_jobs=None, penalty='l2',\n",
       "                   random_state=None, solver='lbfgs', tol=0.0001, verbose=0,\n",
       "                   warm_start=False)"
      ]
     },
     "execution_count": 88,
     "metadata": {},
     "output_type": "execute_result"
    }
   ],
   "source": [
    "logmodel = LogisticRegression(solver='lbfgs')\n",
    "logmodel.fit(X_scaled, X_train[TARGET])"
   ]
  },
  {
   "cell_type": "code",
   "execution_count": 89,
   "metadata": {},
   "outputs": [],
   "source": [
    "X_scaled_test = preprocessing.scale(X_test[FEATURES])"
   ]
  },
  {
   "cell_type": "code",
   "execution_count": 90,
   "metadata": {},
   "outputs": [],
   "source": [
    "predictions = logmodel.predict(X_scaled_test)"
   ]
  },
  {
   "cell_type": "code",
   "execution_count": 91,
   "metadata": {},
   "outputs": [
    {
     "name": "stdout",
     "output_type": "stream",
     "text": [
      "              precision    recall  f1-score   support\n",
      "\n",
      "           0       0.52      0.67      0.59      1004\n",
      "           1       0.50      0.35      0.41       955\n",
      "\n",
      "    accuracy                           0.51      1959\n",
      "   macro avg       0.51      0.51      0.50      1959\n",
      "weighted avg       0.51      0.51      0.50      1959\n",
      "\n"
     ]
    }
   ],
   "source": [
    "# after balancing the two target classes\n",
    "print(classification_report(X_test[TARGET],predictions))"
   ]
  },
  {
   "cell_type": "code",
   "execution_count": null,
   "metadata": {},
   "outputs": [],
   "source": []
  }
 ],
 "metadata": {
  "kernelspec": {
   "display_name": "Python 3",
   "language": "python",
   "name": "python3"
  },
  "language_info": {
   "codemirror_mode": {
    "name": "ipython",
    "version": 3
   },
   "file_extension": ".py",
   "mimetype": "text/x-python",
   "name": "python",
   "nbconvert_exporter": "python",
   "pygments_lexer": "ipython3",
   "version": "3.7.1"
  }
 },
 "nbformat": 4,
 "nbformat_minor": 2
}
