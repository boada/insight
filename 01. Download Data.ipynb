{
 "cells": [
  {
   "cell_type": "code",
   "execution_count": 1,
   "metadata": {},
   "outputs": [
    {
     "name": "stderr",
     "output_type": "stream",
     "text": [
      "/home/boada/.local/lib/python3.7/site-packages/pandas/compat/__init__.py:85: UserWarning: Could not import the lzma module. Your installed Python is incomplete. Attempting to use lzma compression will result in a RuntimeError.\n",
      "  warnings.warn(msg)\n",
      "/home/boada/.local/lib/python3.7/site-packages/pandas/compat/__init__.py:85: UserWarning: Could not import the lzma module. Your installed Python is incomplete. Attempting to use lzma compression will result in a RuntimeError.\n",
      "  warnings.warn(msg)\n"
     ]
    }
   ],
   "source": [
    "import pandas as pd\n",
    "import requests\n",
    "import sys"
   ]
  },
  {
   "cell_type": "code",
   "execution_count": 2,
   "metadata": {},
   "outputs": [],
   "source": [
    "def download_inspections(outfile, start_date='2016-01-01', end_date='2018-12-31', limit=20):\n",
    "    if not outfile:\n",
    "        raise ValueError(\"No outfile specified.\")\n",
    "\n",
    "\n",
    "    DATA_URL = \"https://data.cityofnewyork.us/resource/43nn-pn8j.json\"\n",
    "\n",
    "    query = f\"\"\"\n",
    "        SELECT\n",
    "            camis,\n",
    "            dba,\n",
    "            boro,\n",
    "            zipcode,\n",
    "            cuisine_description,\n",
    "            inspection_date,\n",
    "            action,\n",
    "            violation_code,\n",
    "            violation_description,\n",
    "            critical_flag,\n",
    "            score,\n",
    "            grade,\n",
    "            inspection_type,\n",
    "            latitude,\n",
    "            longitude\n",
    "        WHERE\n",
    "            inspection_date BETWEEN \"{start_date}\" AND \"{end_date}\"\n",
    "        LIMIT {int(limit)}\n",
    "    \"\"\"\n",
    "    \n",
    "    r = requests.get(DATA_URL, params={\"$query\":query})\n",
    "    rows = r.json()\n",
    "    if not r.ok:\n",
    "        print(rows)\n",
    "    data = pd.DataFrame(rows)\n",
    "    data.to_csv(outfile, index=False)\n",
    "    \n",
    "    return data"
   ]
  },
  {
   "cell_type": "code",
   "execution_count": 3,
   "metadata": {},
   "outputs": [],
   "source": [
    "def download_311(outfile, start_date='2016-01-01', end_date='2018-12-31', limit=20):\n",
    "\n",
    "    if not outfile:\n",
    "        raise ValueError(\"No outfile specified.\")\n",
    "\n",
    "    DATA_URL = \"https://data.cityofnewyork.us/resource/erm2-nwe9.json\"\n",
    "    \n",
    "    query = f\"\"\"\n",
    "        SELECT\n",
    "            created_date,\n",
    "            agency,\n",
    "            complaint_type,\n",
    "            descriptor,\n",
    "            location_type,\n",
    "            incident_zip,\n",
    "            address_type,\n",
    "            city,\n",
    "            facility_type,\n",
    "            borough,\n",
    "            latitude,\n",
    "            longitude\n",
    "        WHERE\n",
    "            agency in('DEP', 'DOHMH', 'DSNY')\n",
    "            AND created_date BETWEEN \"{start_date}\" AND \"{end_date}\"\n",
    "        LIMIT {int(limit)}\n",
    "    \"\"\"\n",
    "    \n",
    "    r = requests.get(DATA_URL, params={\"$query\":query})        \n",
    "    rows = r.json()\n",
    "    if not r.ok:\n",
    "        print(rows)\n",
    "    data = pd.DataFrame(rows)\n",
    "    data.to_csv(outfile, index=False)\n",
    "    \n",
    "    return data"
   ]
  },
  {
   "cell_type": "code",
   "execution_count": 4,
   "metadata": {},
   "outputs": [],
   "source": [
    "def download_business(outfile, start_date='2016-01-01', end_date='2018-12-31', limit=20):\n",
    "\n",
    "    if not outfile:\n",
    "        raise ValueError(\"No outfile specified.\")\n",
    "\n",
    "    DATA_URL = \"https://data.cityofnewyork.us/resource/w7w3-xahh.json\"\n",
    "    \n",
    "    query = f\"\"\"\n",
    "        SELECT\n",
    "            license_nbr as lic_id,\n",
    "            license_status as status,\n",
    "            lic_expir_dd as lic_expire,\n",
    "            license_creation_date as lic_create,\n",
    "            industry,\n",
    "            business_name as name,\n",
    "            address_zip,\n",
    "            address_borough,\n",
    "            latitude,\n",
    "            longitude\n",
    "\n",
    "        LIMIT {int(limit)}\n",
    "    \"\"\"\n",
    "    \n",
    "    r = requests.get(DATA_URL, params={\"$query\":query})        \n",
    "    rows = r.json()\n",
    "    if not r.ok:\n",
    "        print(rows)\n",
    "    data = pd.DataFrame(rows)\n",
    "    data.to_csv(outfile, index=False)\n",
    "    \n",
    "    return data"
   ]
  },
  {
   "cell_type": "code",
   "execution_count": 5,
   "metadata": {},
   "outputs": [],
   "source": [
    "def download_nypd_historic(outfile, start_date='2016-01-01', end_date='2018-12-31', limit=20):\n",
    "\n",
    "    if not outfile:\n",
    "        raise ValueError(\"No outfile specified.\")\n",
    "\n",
    "    DATA_URL = \"https://data.cityofnewyork.us/resource/qgea-i56i.json\"\n",
    "    \n",
    "    query = f\"\"\"\n",
    "        SELECT\n",
    "            cmplnt_fr_dt as complaint_date,\n",
    "            ky_cd as complaint_code,\n",
    "            law_cat_cd as offense_lvl,\n",
    "            boro_nm as boro,\n",
    "            prem_typ_desc as premisis_type,\n",
    "            latitude,\n",
    "            longitude\n",
    "        WHERE\n",
    "            complaint_date BETWEEN \"{start_date}\" AND \"{end_date}\"\n",
    "        LIMIT {int(limit)}\n",
    "    \"\"\"\n",
    "    \n",
    "    r = requests.get(DATA_URL, params={\"$query\":query})        \n",
    "    rows = r.json()\n",
    "    if not r.ok:\n",
    "        print(rows)\n",
    "    data = pd.DataFrame(rows)\n",
    "    data.to_csv(outfile, index=False)\n",
    "    \n",
    "    return data"
   ]
  },
  {
   "cell_type": "code",
   "execution_count": 6,
   "metadata": {},
   "outputs": [],
   "source": [
    "df = download_inspections('./data/inspections.csv', limit=3e5)\n",
    "# df = download_311('./data/311.csv', limit=3e5)\n",
    "# df = download_business('./data/business.csv', limit=3e5)\n",
    "# df = download_nypd_historic('./data/nypd.csv', limit=3e5)"
   ]
  },
  {
   "cell_type": "code",
   "execution_count": 8,
   "metadata": {},
   "outputs": [],
   "source": [
    "import pandas as pd\n",
    "import requests\n",
    "import time\n",
    "import sys\n",
    "from bs4 import BeautifulSoup"
   ]
  },
  {
   "cell_type": "code",
   "execution_count": 9,
   "metadata": {},
   "outputs": [
    {
     "name": "stdout",
     "output_type": "stream",
     "text": [
      "Saved 9 records of historical weather data.\n"
     ]
    }
   ],
   "source": [
    "\n",
    "URL = \"https://www.timeanddate.com/weather/usa/chicago/historic?month={}&year={}\"\n",
    "\n",
    "\n",
    "data = []\n",
    "for year in range(2010, 2019):\n",
    "    for month in range(1, 13):\n",
    "        url = URL.format(month, year)\n",
    "        response = requests.get(url)\n",
    "        # const avgTemp = document.querySelectorAll(\".sep-t\")[0].children[1].textContent;\n",
    "        soup = BeautifulSoup(response.text, \"html.parser\")\n",
    "        temp_str = soup.select(\".sep-t\")[0].find_all(\"td\")[0].getText()\n",
    "        avg_temp = int(temp_str.split()[0])\n",
    "        record = {\"month\": month, \"year\": year, \"temperature\": avg_temp}\n",
    "        data.append(record)\n",
    "        time.sleep(1)\n",
    "        break\n",
    "df = pd.DataFrame(data)\n",
    "# df.to_csv(outfile, index=False)\n",
    "print(\"Saved {} records of historical weather data.\".format(len(df)))"
   ]
  },
  {
   "cell_type": "code",
   "execution_count": null,
   "metadata": {},
   "outputs": [],
   "source": []
  }
 ],
 "metadata": {
  "kernelspec": {
   "display_name": "Python 3",
   "language": "python",
   "name": "python3"
  },
  "language_info": {
   "codemirror_mode": {
    "name": "ipython",
    "version": 3
   },
   "file_extension": ".py",
   "mimetype": "text/x-python",
   "name": "python",
   "nbconvert_exporter": "python",
   "pygments_lexer": "ipython3",
   "version": "3.7.1"
  }
 },
 "nbformat": 4,
 "nbformat_minor": 2
}
