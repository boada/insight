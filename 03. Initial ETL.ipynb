{
 "cells": [
  {
   "cell_type": "markdown",
   "metadata": {},
   "source": [
    "# Initial ETL\n",
    "\n",
    "In this notebook I am gonna do a bunch of stuff to get the data ready for the model. I might need to come back and do some more ETL as I work on the modeling bit, but this is the initial round."
   ]
  },
  {
   "cell_type": "code",
   "execution_count": 1,
   "metadata": {},
   "outputs": [],
   "source": [
    "%matplotlib notebook\n",
    "import pandas as pd\n",
    "import numpy as np\n",
    "from utils.utilities import mk_heatmap, value_heatmap, select_by_date, update_grade\n",
    "import matplotlib.pyplot as plt\n",
    "import matplotlib.cm as cm\n",
    "\n",
    "from sklearn import preprocessing"
   ]
  },
  {
   "cell_type": "code",
   "execution_count": 2,
   "metadata": {},
   "outputs": [],
   "source": [
    "# Load all the data\n",
    "inspecs = pd.read_csv('./data/inspections.csv')\n",
    "threeoneone = pd.read_csv('./data/311.csv')\n",
    "nypd = pd.read_csv('./data/nypd.csv')\n",
    "weather = pd.read_csv('./data/NYC_historical_weather.csv')"
   ]
  },
  {
   "cell_type": "markdown",
   "metadata": {},
   "source": [
    "### But there are multiple citations for each restaurant in the df\n",
    "\n",
    "For some reason I missed the fact that each row in the inspections data contains a single violation. We are gonna need to merge all the different rows into single restaurant inspections."
   ]
  },
  {
   "cell_type": "code",
   "execution_count": 3,
   "metadata": {},
   "outputs": [],
   "source": [
    "inspecs_single_visits = inspecs.drop_duplicates(subset=['camis', 'inspection_date'])\n",
    "\n",
    "cols_to_merge = ['violation_code', 'violation_description', 'critical_flag', 'inspection_type']\n",
    "\n",
    "for col in cols_to_merge:\n",
    "    df_tmp = inspecs[col].groupby([inspecs.camis, inspecs.inspection_date]).apply(list).reset_index()\n",
    "    inspecs_single_visits = pd.merge(inspecs_single_visits, df_tmp,  how='left', left_on=['camis','inspection_date'], right_on = ['camis','inspection_date'])\n",
    "    inspecs_single_visits.drop(columns=f'{col}_x', axis=1, inplace=True)\n",
    "    inspecs_single_visits.rename(columns={f'{col}_y': f\"{col}\"}, inplace=True)"
   ]
  },
  {
   "cell_type": "code",
   "execution_count": 4,
   "metadata": {},
   "outputs": [
    {
     "data": {
      "text/plain": [
       "(82569, 15)"
      ]
     },
     "execution_count": 4,
     "metadata": {},
     "output_type": "execute_result"
    }
   ],
   "source": [
    "inspecs_single_visits.shape"
   ]
  },
  {
   "cell_type": "code",
   "execution_count": 5,
   "metadata": {},
   "outputs": [],
   "source": [
    "inspecs = inspecs_single_visits"
   ]
  },
  {
   "cell_type": "markdown",
   "metadata": {},
   "source": [
    "# Clean up some of the dtypes and replace missing values with better values"
   ]
  },
  {
   "cell_type": "code",
   "execution_count": 6,
   "metadata": {},
   "outputs": [],
   "source": [
    "# Replace the missing lats and lons with nan\n",
    "inspecs['latitude'].replace(0, np.nan, inplace=True)\n",
    "inspecs['longitude'].replace(0, np.nan, inplace=True)\n",
    "threeoneone['latitude'].replace(0, np.nan, inplace=True)\n",
    "inspecs['longitude'].replace(0, np.nan, inplace=True)\n",
    "nypd['latitude'].replace(0, np.nan, inplace=True)\n",
    "inspecs['longitude'].replace(0, np.nan, inplace=True)\n",
    "\n",
    "# drop rows that don't have a lat and lon attached\n",
    "inspecs.dropna(subset = ['latitude', 'longitude'], inplace=True)\n",
    "threeoneone.dropna(subset = ['latitude', 'longitude'], inplace=True)\n",
    "nypd.dropna(subset = ['latitude', 'longitude'], inplace=True)\n",
    "\n",
    "# Do date things\n",
    "inspecs.inspection_date = pd.to_datetime(inspecs.inspection_date)\n",
    "threeoneone.created_date = pd.to_datetime(threeoneone.created_date)\n",
    "nypd.complaint_date = pd.to_datetime(nypd.complaint_date)\n",
    "weather.DATE = pd.to_datetime(weather.DATE)\n",
    "\n",
    "# update the grades where a score is given but the letter grade is missing\n",
    "inspecs.grade = inspecs.apply(update_grade, axis=1)\n"
   ]
  },
  {
   "cell_type": "markdown",
   "metadata": {},
   "source": [
    "# Merge (or create) extra data into the inspections frame"
   ]
  },
  {
   "cell_type": "code",
   "execution_count": 7,
   "metadata": {},
   "outputs": [],
   "source": [
    "# Does the inspection have a critical violation?\n",
    "nested = inspecs['critical_flag'].values.tolist()\n",
    "inspecs['critical'] = [1 if 'Y' in sublist else 0 for sublist in nested]\n",
    "\n",
    "# make a column to store which day of the week it is... \n",
    "# Remember that Monday is 0 Sunday = 6\n",
    "inspecs['weekday'] = inspecs.inspection_date.dt.weekday\n",
    "threeoneone['weekday'] = threeoneone.created_date.dt.weekday\n",
    "nypd['weekday'] = nypd.complaint_date.dt.weekday\n",
    "\n",
    "# merge the weather data into the frame\n",
    "inspecs = inspecs.merge(weather[['DATE', 'TMAX']], left_on='inspection_date', right_on='DATE')\n",
    "# drop the extra date column\n",
    "inspecs.drop(labels='DATE', axis=1, inplace=True)\n",
    "# rename to be lower case\n",
    "inspecs.rename(columns={'TMAX': 'tmax'}, inplace=True)\n",
    "\n",
    "# now we are gonnna create a bunch of temporal stuff\n",
    "# time since last inspection\n",
    "inspecs['time_since_last'] = inspecs.groupby('camis')['inspection_date'].diff().apply(lambda x: x.days)\n",
    "# past critical violation?\n",
    "inspecs['past_critical'] = inspecs.groupby(['camis'])['critical'].shift()\n",
    "# past grade and score\n",
    "inspecs['past_grade'] = inspecs.groupby(['camis'])['grade'].shift()\n",
    "inspecs['past_score'] = inspecs.groupby(['camis'])['score'].shift()\n",
    "\n",
    "\n",
    "# start_date = '2016-01-01'\n",
    "# end_date = '2016-12-31'\n",
    "\n",
    "# inspecs_2016 = select_by_date(inspecs, start_date, end_date)\n",
    "# threeoneone_2016 = select_by_date(threeoneone, start_date, end_date)\n",
    "# nypd_2016 = select_by_date(nypd, start_date, end_date)"
   ]
  },
  {
   "cell_type": "code",
   "execution_count": 8,
   "metadata": {},
   "outputs": [
    {
     "data": {
      "text/html": [
       "<div>\n",
       "<style scoped>\n",
       "    .dataframe tbody tr th:only-of-type {\n",
       "        vertical-align: middle;\n",
       "    }\n",
       "\n",
       "    .dataframe tbody tr th {\n",
       "        vertical-align: top;\n",
       "    }\n",
       "\n",
       "    .dataframe thead th {\n",
       "        text-align: right;\n",
       "    }\n",
       "</style>\n",
       "<table border=\"1\" class=\"dataframe\">\n",
       "  <thead>\n",
       "    <tr style=\"text-align: right;\">\n",
       "      <th></th>\n",
       "      <th>camis</th>\n",
       "      <th>dba</th>\n",
       "      <th>boro</th>\n",
       "      <th>zipcode</th>\n",
       "      <th>cuisine_description</th>\n",
       "      <th>inspection_date</th>\n",
       "      <th>action</th>\n",
       "      <th>score</th>\n",
       "      <th>grade</th>\n",
       "      <th>latitude</th>\n",
       "      <th>...</th>\n",
       "      <th>violation_description</th>\n",
       "      <th>critical_flag</th>\n",
       "      <th>inspection_type</th>\n",
       "      <th>critical</th>\n",
       "      <th>weekday</th>\n",
       "      <th>tmax</th>\n",
       "      <th>time_since_last</th>\n",
       "      <th>past_critical</th>\n",
       "      <th>past_grade</th>\n",
       "      <th>past_score</th>\n",
       "    </tr>\n",
       "  </thead>\n",
       "  <tbody>\n",
       "    <tr>\n",
       "      <th>0</th>\n",
       "      <td>41471993</td>\n",
       "      <td>NEW MEI MEI CHINESE RESTAURANT</td>\n",
       "      <td>Brooklyn</td>\n",
       "      <td>11229.0</td>\n",
       "      <td>Chinese</td>\n",
       "      <td>2016-01-04</td>\n",
       "      <td>Violations were cited in the following area(s).</td>\n",
       "      <td>6.0</td>\n",
       "      <td>A</td>\n",
       "      <td>40.597078</td>\n",
       "      <td>...</td>\n",
       "      <td>[Evidence of mice or live mice present in faci...</td>\n",
       "      <td>[Y]</td>\n",
       "      <td>[Cycle Inspection / Re-inspection]</td>\n",
       "      <td>1</td>\n",
       "      <td>0</td>\n",
       "      <td>36</td>\n",
       "      <td>NaN</td>\n",
       "      <td>NaN</td>\n",
       "      <td>NaN</td>\n",
       "      <td>NaN</td>\n",
       "    </tr>\n",
       "    <tr>\n",
       "      <th>1</th>\n",
       "      <td>50016849</td>\n",
       "      <td>WIBAR</td>\n",
       "      <td>Queens</td>\n",
       "      <td>11369.0</td>\n",
       "      <td>American</td>\n",
       "      <td>2016-01-05</td>\n",
       "      <td>Violations were cited in the following area(s).</td>\n",
       "      <td>9.0</td>\n",
       "      <td>A</td>\n",
       "      <td>40.774414</td>\n",
       "      <td>...</td>\n",
       "      <td>[Non-food contact surface improperly construct...</td>\n",
       "      <td>[N, Y]</td>\n",
       "      <td>[Cycle Inspection / Initial Inspection, Cycle ...</td>\n",
       "      <td>1</td>\n",
       "      <td>1</td>\n",
       "      <td>29</td>\n",
       "      <td>NaN</td>\n",
       "      <td>NaN</td>\n",
       "      <td>NaN</td>\n",
       "      <td>NaN</td>\n",
       "    </tr>\n",
       "    <tr>\n",
       "      <th>2</th>\n",
       "      <td>40670353</td>\n",
       "      <td>DUKE'S</td>\n",
       "      <td>Manhattan</td>\n",
       "      <td>10016.0</td>\n",
       "      <td>American</td>\n",
       "      <td>2016-01-05</td>\n",
       "      <td>Violations were cited in the following area(s).</td>\n",
       "      <td>7.0</td>\n",
       "      <td>A</td>\n",
       "      <td>40.747683</td>\n",
       "      <td>...</td>\n",
       "      <td>[Food not protected from potential source of c...</td>\n",
       "      <td>[Y, N]</td>\n",
       "      <td>[Cycle Inspection / Initial Inspection, Cycle ...</td>\n",
       "      <td>1</td>\n",
       "      <td>1</td>\n",
       "      <td>29</td>\n",
       "      <td>NaN</td>\n",
       "      <td>NaN</td>\n",
       "      <td>NaN</td>\n",
       "      <td>NaN</td>\n",
       "    </tr>\n",
       "    <tr>\n",
       "      <th>3</th>\n",
       "      <td>40585345</td>\n",
       "      <td>SUSHIYA JAPANESE RESTAURANT</td>\n",
       "      <td>Manhattan</td>\n",
       "      <td>10019.0</td>\n",
       "      <td>Japanese</td>\n",
       "      <td>2016-01-05</td>\n",
       "      <td>Violations were cited in the following area(s).</td>\n",
       "      <td>17.0</td>\n",
       "      <td>B</td>\n",
       "      <td>40.762738</td>\n",
       "      <td>...</td>\n",
       "      <td>[Food worker does not use proper utensil to el...</td>\n",
       "      <td>[Y, N, Y]</td>\n",
       "      <td>[Cycle Inspection / Initial Inspection, Cycle ...</td>\n",
       "      <td>1</td>\n",
       "      <td>1</td>\n",
       "      <td>29</td>\n",
       "      <td>NaN</td>\n",
       "      <td>NaN</td>\n",
       "      <td>NaN</td>\n",
       "      <td>NaN</td>\n",
       "    </tr>\n",
       "    <tr>\n",
       "      <th>4</th>\n",
       "      <td>41685208</td>\n",
       "      <td>PAPA'S HALAL CHICKEN &amp; GRILL</td>\n",
       "      <td>Staten Island</td>\n",
       "      <td>10303.0</td>\n",
       "      <td>Indian</td>\n",
       "      <td>2016-01-06</td>\n",
       "      <td>Violations were cited in the following area(s).</td>\n",
       "      <td>13.0</td>\n",
       "      <td>A</td>\n",
       "      <td>40.625071</td>\n",
       "      <td>...</td>\n",
       "      <td>[Food contact surface not properly maintained....</td>\n",
       "      <td>[N, N, N, Y]</td>\n",
       "      <td>[Cycle Inspection / Re-inspection, Cycle Inspe...</td>\n",
       "      <td>1</td>\n",
       "      <td>2</td>\n",
       "      <td>41</td>\n",
       "      <td>NaN</td>\n",
       "      <td>NaN</td>\n",
       "      <td>NaN</td>\n",
       "      <td>NaN</td>\n",
       "    </tr>\n",
       "  </tbody>\n",
       "</table>\n",
       "<p>5 rows × 22 columns</p>\n",
       "</div>"
      ],
      "text/plain": [
       "      camis                             dba           boro  zipcode  \\\n",
       "0  41471993  NEW MEI MEI CHINESE RESTAURANT       Brooklyn  11229.0   \n",
       "1  50016849                           WIBAR         Queens  11369.0   \n",
       "2  40670353                          DUKE'S      Manhattan  10016.0   \n",
       "3  40585345     SUSHIYA JAPANESE RESTAURANT      Manhattan  10019.0   \n",
       "4  41685208    PAPA'S HALAL CHICKEN & GRILL  Staten Island  10303.0   \n",
       "\n",
       "  cuisine_description inspection_date  \\\n",
       "0             Chinese      2016-01-04   \n",
       "1            American      2016-01-05   \n",
       "2            American      2016-01-05   \n",
       "3            Japanese      2016-01-05   \n",
       "4              Indian      2016-01-06   \n",
       "\n",
       "                                            action  score grade   latitude  \\\n",
       "0  Violations were cited in the following area(s).    6.0     A  40.597078   \n",
       "1  Violations were cited in the following area(s).    9.0     A  40.774414   \n",
       "2  Violations were cited in the following area(s).    7.0     A  40.747683   \n",
       "3  Violations were cited in the following area(s).   17.0     B  40.762738   \n",
       "4  Violations were cited in the following area(s).   13.0     A  40.625071   \n",
       "\n",
       "   ...                              violation_description critical_flag  \\\n",
       "0  ...  [Evidence of mice or live mice present in faci...           [Y]   \n",
       "1  ...  [Non-food contact surface improperly construct...        [N, Y]   \n",
       "2  ...  [Food not protected from potential source of c...        [Y, N]   \n",
       "3  ...  [Food worker does not use proper utensil to el...     [Y, N, Y]   \n",
       "4  ...  [Food contact surface not properly maintained....  [N, N, N, Y]   \n",
       "\n",
       "                                     inspection_type critical weekday  tmax  \\\n",
       "0                 [Cycle Inspection / Re-inspection]        1       0    36   \n",
       "1  [Cycle Inspection / Initial Inspection, Cycle ...        1       1    29   \n",
       "2  [Cycle Inspection / Initial Inspection, Cycle ...        1       1    29   \n",
       "3  [Cycle Inspection / Initial Inspection, Cycle ...        1       1    29   \n",
       "4  [Cycle Inspection / Re-inspection, Cycle Inspe...        1       2    41   \n",
       "\n",
       "   time_since_last  past_critical  past_grade  past_score  \n",
       "0              NaN            NaN         NaN         NaN  \n",
       "1              NaN            NaN         NaN         NaN  \n",
       "2              NaN            NaN         NaN         NaN  \n",
       "3              NaN            NaN         NaN         NaN  \n",
       "4              NaN            NaN         NaN         NaN  \n",
       "\n",
       "[5 rows x 22 columns]"
      ]
     },
     "execution_count": 8,
     "metadata": {},
     "output_type": "execute_result"
    }
   ],
   "source": [
    "inspecs.head(5)"
   ]
  },
  {
   "cell_type": "code",
   "execution_count": null,
   "metadata": {},
   "outputs": [],
   "source": []
  },
  {
   "cell_type": "code",
   "execution_count": null,
   "metadata": {},
   "outputs": [],
   "source": []
  },
  {
   "cell_type": "code",
   "execution_count": null,
   "metadata": {},
   "outputs": [],
   "source": []
  },
  {
   "cell_type": "code",
   "execution_count": null,
   "metadata": {},
   "outputs": [],
   "source": [
    "# add the 311 and nypd scores to the inspections frame"
   ]
  },
  {
   "cell_type": "code",
   "execution_count": null,
   "metadata": {},
   "outputs": [],
   "source": [
    "inspecs_2016['311_score'] = 0\n",
    "inspecs_2016['nypd_score'] = 0\n",
    "\n",
    "for month in range(1, 13):\n",
    "    df_311_month = threeoneone_2016[threeoneone['created_date'].dt.month == month]\n",
    "    df_nypd_month = nypd_2016[nypd_2016['complaint_date'].dt.month == month]\n",
    "    df_inspec_month = inspecs_2016[inspecs_2016['inspection_date'].dt.month == month]\n",
    "    \n",
    "    if not df_nypd_month.shape[0]:\n",
    "        continue\n",
    "    elif not df_311_month.shape[0]:\n",
    "        continue\n",
    "    \n",
    "    # build the heataps for the 311 and nypd\n",
    "    s = 2 # sigmas\n",
    "    bins = 1000\n",
    "    img_311, extent_311, xedges_311, yedges_311 = mk_heatmap(df_311_month.longitude, \n",
    "                                                             df_311_month.latitude, s, bins=bins)\n",
    "    img_nypd, extent_nypd, xedges_nypd, yedges_nypd = mk_heatmap(df_nypd_month.longitude, \n",
    "                                                             df_nypd_month.latitude, s, bins=bins)\n",
    "    \n",
    "    for i, row in df_inspec_month.iterrows():\n",
    "        inspecs_2016.loc[i, '311_score'] = value_heatmap(row.longitude, \n",
    "                                                          row.latitude, \n",
    "                                                          xedges_311, \n",
    "                                                          yedges_311, \n",
    "                                                          img_311)\n",
    "        inspecs_2016.loc[i, 'nypd_score'] = value_heatmap(row.longitude, \n",
    "                                                          row.latitude, \n",
    "                                                          xedges_nypd, \n",
    "                                                          yedges_nypd, \n",
    "                                                          img_nypd)\n",
    "\n",
    "    "
   ]
  },
  {
   "cell_type": "code",
   "execution_count": null,
   "metadata": {},
   "outputs": [],
   "source": [
    "inspecs_2016.info()"
   ]
  },
  {
   "cell_type": "code",
   "execution_count": null,
   "metadata": {},
   "outputs": [],
   "source": [
    "# update the null values in critical flag to 'N'\n",
    "inspecs_2016.critical_flag.replace(np.nan, 'N', inplace=True)"
   ]
  },
  {
   "cell_type": "code",
   "execution_count": null,
   "metadata": {},
   "outputs": [],
   "source": []
  },
  {
   "cell_type": "code",
   "execution_count": null,
   "metadata": {},
   "outputs": [],
   "source": [
    "# convert some of the catagorical data into numerical data\n",
    "enc = preprocessing.OrdinalEncoder()\n",
    "\n",
    "boros = inspecs_2016.boro.unique()\n",
    "\n",
    "enc.fit(boros.reshape(-1,1))\n",
    "\n",
    "inspecs_2016['boro_enc'] = enc.transform(inspecs_2016.boro.values.reshape(-1, 1)).flatten()\n",
    "\n",
    "crit_flags = inspecs_2016.critical_flag.unique()\n",
    "\n",
    "enc.fit(crit_flags.reshape(-1,1))\n",
    "\n",
    "inspecs_2016['crit_flag_enc'] = enc.transform(inspecs_2016.critical_flag.values.reshape(-1, 1)).flatten()"
   ]
  },
  {
   "cell_type": "code",
   "execution_count": null,
   "metadata": {},
   "outputs": [],
   "source": []
  },
  {
   "cell_type": "code",
   "execution_count": null,
   "metadata": {},
   "outputs": [],
   "source": [
    "inspecs_2016.to_csv('./data/inspecs_2016_map.csv', index=False)"
   ]
  },
  {
   "cell_type": "code",
   "execution_count": null,
   "metadata": {},
   "outputs": [],
   "source": [
    "inspecs_2016[inspecs_2016.critical_flag.isnull()].iloc[0]"
   ]
  },
  {
   "cell_type": "code",
   "execution_count": null,
   "metadata": {},
   "outputs": [],
   "source": []
  },
  {
   "cell_type": "code",
   "execution_count": null,
   "metadata": {},
   "outputs": [],
   "source": []
  },
  {
   "cell_type": "code",
   "execution_count": null,
   "metadata": {},
   "outputs": [],
   "source": []
  },
  {
   "cell_type": "code",
   "execution_count": null,
   "metadata": {},
   "outputs": [],
   "source": [
    "df = nypd_2016"
   ]
  },
  {
   "cell_type": "code",
   "execution_count": null,
   "metadata": {},
   "outputs": [],
   "source": [
    "month_hist = df.complaint_date.dt.month\n",
    "month_hist = month_hist.value_counts().sort_index()\n",
    "month_hist.index = [\"Jan\", \"Feb\", \"Mar\", \"Apr\", \"May\", \"Jun\", \"Jul\", \"Aug\", \"Sep\", \"Oct\", \"Nov\", \"Dec\"]\n",
    "plt.bar(month_hist.index, month_hist.values)\n",
    "plt.xlabel(\"Month\")\n",
    "plt.ylabel(\"Count of Inspections\")"
   ]
  },
  {
   "cell_type": "code",
   "execution_count": null,
   "metadata": {},
   "outputs": [],
   "source": [
    "month_hist"
   ]
  },
  {
   "cell_type": "code",
   "execution_count": null,
   "metadata": {},
   "outputs": [],
   "source": [
    "day_hist = pd.to_datetime(df[\"inspection_date\"]).dt.weekday\n",
    "day_hist = day_hist.value_counts().sort_index()\n",
    "day_hist.index = [\"Mon\", \"Tue\", \"Wed\", \"Thur\", \"Fri\", \"Sat\", \"Sun\"]\n",
    "plt.bar(day_hist.index, day_hist.values)\n",
    "plt.xlabel(\"Day of Week\")\n",
    "plt.ylabel(\"Count of Inspections\")"
   ]
  },
  {
   "cell_type": "code",
   "execution_count": null,
   "metadata": {},
   "outputs": [],
   "source": [
    "df[df.inspection_date.dt.month == 1][['latitude', 'longitude']]"
   ]
  },
  {
   "cell_type": "code",
   "execution_count": null,
   "metadata": {},
   "outputs": [],
   "source": [
    "score_heatmap_month(y=40.597078, x=-73.941255, df=df, month=0)"
   ]
  },
  {
   "cell_type": "code",
   "execution_count": null,
   "metadata": {},
   "outputs": [],
   "source": [
    "fig, ax = plt.subplots(1,1)\n",
    "\n",
    "x = df.longitude[df.inspection_date.dt.month == 1]\n",
    "y = df.latitude[df.inspection_date.dt.month == 1]\n",
    "\n",
    "s = 2\n",
    "\n",
    "img, extent, xedges, yedges = mk_heatmap(x, y, s, bins=1000)\n",
    "ax.imshow(img, extent=extent, origin='lower', cmap=cm.PuRd)\n",
    "ax.set_title(\"NYPD  $\\sigma$ = %d\" % s)\n",
    "ax.set_xlabel('Longitude')\n",
    "ax.set_ylabel('Latitude')"
   ]
  },
  {
   "cell_type": "code",
   "execution_count": null,
   "metadata": {},
   "outputs": [],
   "source": []
  }
 ],
 "metadata": {
  "kernelspec": {
   "display_name": "Python 3",
   "language": "python",
   "name": "python3"
  },
  "language_info": {
   "codemirror_mode": {
    "name": "ipython",
    "version": 3
   },
   "file_extension": ".py",
   "mimetype": "text/x-python",
   "name": "python",
   "nbconvert_exporter": "python",
   "pygments_lexer": "ipython3",
   "version": "3.8.1"
  }
 },
 "nbformat": 4,
 "nbformat_minor": 2
}
