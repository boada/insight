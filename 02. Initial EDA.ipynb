{
 "cells": [
  {
   "cell_type": "markdown",
   "metadata": {},
   "source": [
    "# Initial EDA\n",
    "\n",
    "Mostly this notebook is me looking at what the data looks like. I'm not really looking for trends in any of the data. I am trying to get a sense of how things are structured and what I am going to need to do get it ready for the modeling. \n",
    "\n",
    "This is also the result of a few attempts at EDA. I'v used some of the things I learned in other (probably overwritten or deleted) notebooks and rolled them into here. "
   ]
  },
  {
   "cell_type": "code",
   "execution_count": 1,
   "metadata": {
    "scrolled": true
   },
   "outputs": [
    {
     "name": "stderr",
     "output_type": "stream",
     "text": [
      "/home/boada/.local/lib/python3.7/site-packages/pandas/compat/__init__.py:85: UserWarning: Could not import the lzma module. Your installed Python is incomplete. Attempting to use lzma compression will result in a RuntimeError.\n",
      "  warnings.warn(msg)\n"
     ]
    }
   ],
   "source": [
    "%matplotlib inline\n",
    "import pandas as pd\n",
    "import matplotlib.pyplot as plt\n",
    "import matplotlib.cm as cm\n",
    "import numpy as np\n",
    "from utils.utilities import select_by_date\n",
    "from utils.utilities import mk_heatmap, value_heatmap, update_grade"
   ]
  },
  {
   "cell_type": "code",
   "execution_count": 2,
   "metadata": {},
   "outputs": [
    {
     "name": "stdout",
     "output_type": "stream",
     "text": [
      "Training Data: N = 398253\n"
     ]
    },
    {
     "data": {
      "text/html": [
       "<div>\n",
       "<style scoped>\n",
       "    .dataframe tbody tr th:only-of-type {\n",
       "        vertical-align: middle;\n",
       "    }\n",
       "\n",
       "    .dataframe tbody tr th {\n",
       "        vertical-align: top;\n",
       "    }\n",
       "\n",
       "    .dataframe thead th {\n",
       "        text-align: right;\n",
       "    }\n",
       "</style>\n",
       "<table border=\"1\" class=\"dataframe\">\n",
       "  <thead>\n",
       "    <tr style=\"text-align: right;\">\n",
       "      <th></th>\n",
       "      <th>0</th>\n",
       "      <th>1</th>\n",
       "      <th>2</th>\n",
       "      <th>3</th>\n",
       "      <th>4</th>\n",
       "    </tr>\n",
       "  </thead>\n",
       "  <tbody>\n",
       "    <tr>\n",
       "      <th>camis</th>\n",
       "      <td>50072444</td>\n",
       "      <td>41660537</td>\n",
       "      <td>50037997</td>\n",
       "      <td>40365904</td>\n",
       "      <td>41346103</td>\n",
       "    </tr>\n",
       "    <tr>\n",
       "      <th>dba</th>\n",
       "      <td>THE SPOT CAFE</td>\n",
       "      <td>AMERICAN BAR</td>\n",
       "      <td>JALAPENOS MEXICAN</td>\n",
       "      <td>MEE SUM CAFE</td>\n",
       "      <td>LA MAISON DU MACARON</td>\n",
       "    </tr>\n",
       "    <tr>\n",
       "      <th>boro</th>\n",
       "      <td>Queens</td>\n",
       "      <td>Manhattan</td>\n",
       "      <td>Brooklyn</td>\n",
       "      <td>Manhattan</td>\n",
       "      <td>Manhattan</td>\n",
       "    </tr>\n",
       "    <tr>\n",
       "      <th>zipcode</th>\n",
       "      <td>11385</td>\n",
       "      <td>10075</td>\n",
       "      <td>11220</td>\n",
       "      <td>10013</td>\n",
       "      <td>10011</td>\n",
       "    </tr>\n",
       "    <tr>\n",
       "      <th>cuisine_description</th>\n",
       "      <td>Café/Coffee/Tea</td>\n",
       "      <td>American</td>\n",
       "      <td>Mexican</td>\n",
       "      <td>Café/Coffee/Tea</td>\n",
       "      <td>French</td>\n",
       "    </tr>\n",
       "    <tr>\n",
       "      <th>inspection_date</th>\n",
       "      <td>2019-07-09 00:00:00</td>\n",
       "      <td>2017-09-20 00:00:00</td>\n",
       "      <td>2017-09-21 00:00:00</td>\n",
       "      <td>2017-02-14 00:00:00</td>\n",
       "      <td>2018-08-31 00:00:00</td>\n",
       "    </tr>\n",
       "    <tr>\n",
       "      <th>action</th>\n",
       "      <td>Violations were cited in the following area(s).</td>\n",
       "      <td>Violations were cited in the following area(s).</td>\n",
       "      <td>Violations were cited in the following area(s).</td>\n",
       "      <td>Violations were cited in the following area(s).</td>\n",
       "      <td>Violations were cited in the following area(s).</td>\n",
       "    </tr>\n",
       "    <tr>\n",
       "      <th>violation_code</th>\n",
       "      <td>08A</td>\n",
       "      <td>10H</td>\n",
       "      <td>06A</td>\n",
       "      <td>10F</td>\n",
       "      <td>10B</td>\n",
       "    </tr>\n",
       "    <tr>\n",
       "      <th>violation_description</th>\n",
       "      <td>Facility not vermin proof. Harborage or condit...</td>\n",
       "      <td>Proper sanitization not provided for utensil w...</td>\n",
       "      <td>Personal cleanliness inadequate. Outer garment...</td>\n",
       "      <td>Non-food contact surface improperly constructe...</td>\n",
       "      <td>Plumbing not properly installed or maintained;...</td>\n",
       "    </tr>\n",
       "    <tr>\n",
       "      <th>critical_flag</th>\n",
       "      <td>N</td>\n",
       "      <td>N</td>\n",
       "      <td>Y</td>\n",
       "      <td>N</td>\n",
       "      <td>N</td>\n",
       "    </tr>\n",
       "    <tr>\n",
       "      <th>score</th>\n",
       "      <td>28</td>\n",
       "      <td>12</td>\n",
       "      <td>24</td>\n",
       "      <td>9</td>\n",
       "      <td>13</td>\n",
       "    </tr>\n",
       "    <tr>\n",
       "      <th>inspection_type</th>\n",
       "      <td>Cycle Inspection / Initial Inspection</td>\n",
       "      <td>Cycle Inspection / Initial Inspection</td>\n",
       "      <td>Cycle Inspection / Initial Inspection</td>\n",
       "      <td>Cycle Inspection / Initial Inspection</td>\n",
       "      <td>Cycle Inspection / Re-inspection</td>\n",
       "    </tr>\n",
       "    <tr>\n",
       "      <th>latitude</th>\n",
       "      <td>40.7072</td>\n",
       "      <td>40.7708</td>\n",
       "      <td>40.641</td>\n",
       "      <td>40.7149</td>\n",
       "      <td>40.7433</td>\n",
       "    </tr>\n",
       "    <tr>\n",
       "      <th>longitude</th>\n",
       "      <td>-73.8969</td>\n",
       "      <td>-73.9538</td>\n",
       "      <td>-74.0145</td>\n",
       "      <td>-73.9982</td>\n",
       "      <td>-73.9939</td>\n",
       "    </tr>\n",
       "    <tr>\n",
       "      <th>grade</th>\n",
       "      <td>NaN</td>\n",
       "      <td>A</td>\n",
       "      <td>NaN</td>\n",
       "      <td>A</td>\n",
       "      <td>A</td>\n",
       "    </tr>\n",
       "  </tbody>\n",
       "</table>\n",
       "</div>"
      ],
      "text/plain": [
       "                                                                       0  \\\n",
       "camis                                                           50072444   \n",
       "dba                                                        THE SPOT CAFE   \n",
       "boro                                                              Queens   \n",
       "zipcode                                                            11385   \n",
       "cuisine_description                                      Café/Coffee/Tea   \n",
       "inspection_date                                      2019-07-09 00:00:00   \n",
       "action                   Violations were cited in the following area(s).   \n",
       "violation_code                                                       08A   \n",
       "violation_description  Facility not vermin proof. Harborage or condit...   \n",
       "critical_flag                                                          N   \n",
       "score                                                                 28   \n",
       "inspection_type                    Cycle Inspection / Initial Inspection   \n",
       "latitude                                                         40.7072   \n",
       "longitude                                                       -73.8969   \n",
       "grade                                                                NaN   \n",
       "\n",
       "                                                                       1  \\\n",
       "camis                                                           41660537   \n",
       "dba                                                         AMERICAN BAR   \n",
       "boro                                                           Manhattan   \n",
       "zipcode                                                            10075   \n",
       "cuisine_description                                             American   \n",
       "inspection_date                                      2017-09-20 00:00:00   \n",
       "action                   Violations were cited in the following area(s).   \n",
       "violation_code                                                       10H   \n",
       "violation_description  Proper sanitization not provided for utensil w...   \n",
       "critical_flag                                                          N   \n",
       "score                                                                 12   \n",
       "inspection_type                    Cycle Inspection / Initial Inspection   \n",
       "latitude                                                         40.7708   \n",
       "longitude                                                       -73.9538   \n",
       "grade                                                                  A   \n",
       "\n",
       "                                                                       2  \\\n",
       "camis                                                           50037997   \n",
       "dba                                                    JALAPENOS MEXICAN   \n",
       "boro                                                            Brooklyn   \n",
       "zipcode                                                            11220   \n",
       "cuisine_description                                              Mexican   \n",
       "inspection_date                                      2017-09-21 00:00:00   \n",
       "action                   Violations were cited in the following area(s).   \n",
       "violation_code                                                       06A   \n",
       "violation_description  Personal cleanliness inadequate. Outer garment...   \n",
       "critical_flag                                                          Y   \n",
       "score                                                                 24   \n",
       "inspection_type                    Cycle Inspection / Initial Inspection   \n",
       "latitude                                                          40.641   \n",
       "longitude                                                       -74.0145   \n",
       "grade                                                                NaN   \n",
       "\n",
       "                                                                       3  \\\n",
       "camis                                                           40365904   \n",
       "dba                                                         MEE SUM CAFE   \n",
       "boro                                                           Manhattan   \n",
       "zipcode                                                            10013   \n",
       "cuisine_description                                      Café/Coffee/Tea   \n",
       "inspection_date                                      2017-02-14 00:00:00   \n",
       "action                   Violations were cited in the following area(s).   \n",
       "violation_code                                                       10F   \n",
       "violation_description  Non-food contact surface improperly constructe...   \n",
       "critical_flag                                                          N   \n",
       "score                                                                  9   \n",
       "inspection_type                    Cycle Inspection / Initial Inspection   \n",
       "latitude                                                         40.7149   \n",
       "longitude                                                       -73.9982   \n",
       "grade                                                                  A   \n",
       "\n",
       "                                                                       4  \n",
       "camis                                                           41346103  \n",
       "dba                                                 LA MAISON DU MACARON  \n",
       "boro                                                           Manhattan  \n",
       "zipcode                                                            10011  \n",
       "cuisine_description                                               French  \n",
       "inspection_date                                      2018-08-31 00:00:00  \n",
       "action                   Violations were cited in the following area(s).  \n",
       "violation_code                                                       10B  \n",
       "violation_description  Plumbing not properly installed or maintained;...  \n",
       "critical_flag                                                          N  \n",
       "score                                                                 13  \n",
       "inspection_type                         Cycle Inspection / Re-inspection  \n",
       "latitude                                                         40.7433  \n",
       "longitude                                                       -73.9939  \n",
       "grade                                                                  A  "
      ]
     },
     "execution_count": 2,
     "metadata": {},
     "output_type": "execute_result"
    }
   ],
   "source": [
    "# start_date = '2017-01-01'\n",
    "# end_date = '2017-12-31'\n",
    "\n",
    "df = pd.read_csv(\"./data/inspections.csv\")\n",
    "df.inspection_date = pd.to_datetime(df.inspection_date)\n",
    "# df = select_by_date(df, start_date, end_date)\n",
    "print(\"Training Data: N = {}\".format(len(df)))\n",
    "df.head().T"
   ]
  },
  {
   "cell_type": "code",
   "execution_count": 3,
   "metadata": {},
   "outputs": [
    {
     "data": {
      "text/plain": [
       "Index(['camis', 'dba', 'boro', 'zipcode', 'cuisine_description',\n",
       "       'inspection_date', 'action', 'violation_code', 'violation_description',\n",
       "       'critical_flag', 'score', 'inspection_type', 'latitude', 'longitude',\n",
       "       'grade'],\n",
       "      dtype='object')"
      ]
     },
     "execution_count": 3,
     "metadata": {},
     "output_type": "execute_result"
    }
   ],
   "source": [
    "df.columns"
   ]
  },
  {
   "cell_type": "markdown",
   "metadata": {},
   "source": [
    "### But there are multiple citations for each restaurant in the df\n",
    "\n",
    "For some reason I missed the fact that each row in the inspections data contains a single violation. We are gonna need to merge all the different rows into single restaurant inspections."
   ]
  },
  {
   "cell_type": "code",
   "execution_count": 4,
   "metadata": {},
   "outputs": [],
   "source": [
    "df_single_visits = df.drop_duplicates(subset=['camis', 'inspection_date'])\n",
    "\n",
    "cols_to_merge = ['violation_code', 'violation_description', 'critical_flag', 'inspection_type']\n",
    "\n",
    "for col in cols_to_merge:\n",
    "    df_tmp = df[col].groupby([df.camis, df.inspection_date]).apply(list).reset_index()\n",
    "    df_single_visits = pd.merge(df_single_visits, df_tmp,  how='left', left_on=['camis','inspection_date'], right_on = ['camis','inspection_date'])\n",
    "    df_single_visits.drop(columns=f'{col}_x', axis=1, inplace=True)\n",
    "    df_single_visits.rename(columns={f'{col}_y': f\"{col}\"}, inplace=True)"
   ]
  },
  {
   "cell_type": "code",
   "execution_count": 5,
   "metadata": {},
   "outputs": [
    {
     "data": {
      "text/html": [
       "<div>\n",
       "<style scoped>\n",
       "    .dataframe tbody tr th:only-of-type {\n",
       "        vertical-align: middle;\n",
       "    }\n",
       "\n",
       "    .dataframe tbody tr th {\n",
       "        vertical-align: top;\n",
       "    }\n",
       "\n",
       "    .dataframe thead th {\n",
       "        text-align: right;\n",
       "    }\n",
       "</style>\n",
       "<table border=\"1\" class=\"dataframe\">\n",
       "  <thead>\n",
       "    <tr style=\"text-align: right;\">\n",
       "      <th></th>\n",
       "      <th>camis</th>\n",
       "      <th>dba</th>\n",
       "      <th>boro</th>\n",
       "      <th>zipcode</th>\n",
       "      <th>cuisine_description</th>\n",
       "      <th>inspection_date</th>\n",
       "      <th>action</th>\n",
       "      <th>score</th>\n",
       "      <th>latitude</th>\n",
       "      <th>longitude</th>\n",
       "      <th>grade</th>\n",
       "      <th>violation_code</th>\n",
       "      <th>violation_description</th>\n",
       "      <th>critical_flag</th>\n",
       "      <th>inspection_type</th>\n",
       "    </tr>\n",
       "  </thead>\n",
       "  <tbody>\n",
       "    <tr>\n",
       "      <th>0</th>\n",
       "      <td>50072444</td>\n",
       "      <td>THE SPOT CAFE</td>\n",
       "      <td>Queens</td>\n",
       "      <td>11385.0</td>\n",
       "      <td>Café/Coffee/Tea</td>\n",
       "      <td>2019-07-09</td>\n",
       "      <td>Violations were cited in the following area(s).</td>\n",
       "      <td>28.0</td>\n",
       "      <td>40.707167</td>\n",
       "      <td>-73.896938</td>\n",
       "      <td>NaN</td>\n",
       "      <td>[08A, 06A, 04L, 06B, 04H]</td>\n",
       "      <td>[Facility not vermin proof. Harborage or condi...</td>\n",
       "      <td>[N, Y, Y, Y, Y]</td>\n",
       "      <td>[Cycle Inspection / Initial Inspection, Cycle ...</td>\n",
       "    </tr>\n",
       "    <tr>\n",
       "      <th>1</th>\n",
       "      <td>41660537</td>\n",
       "      <td>AMERICAN BAR</td>\n",
       "      <td>Manhattan</td>\n",
       "      <td>10075.0</td>\n",
       "      <td>American</td>\n",
       "      <td>2017-09-20</td>\n",
       "      <td>Violations were cited in the following area(s).</td>\n",
       "      <td>12.0</td>\n",
       "      <td>40.770759</td>\n",
       "      <td>-73.953849</td>\n",
       "      <td>A</td>\n",
       "      <td>[10H, 04A]</td>\n",
       "      <td>[Proper sanitization not provided for utensil ...</td>\n",
       "      <td>[N, Y]</td>\n",
       "      <td>[Cycle Inspection / Initial Inspection, Cycle ...</td>\n",
       "    </tr>\n",
       "    <tr>\n",
       "      <th>2</th>\n",
       "      <td>50037997</td>\n",
       "      <td>JALAPENOS MEXICAN</td>\n",
       "      <td>Brooklyn</td>\n",
       "      <td>11220.0</td>\n",
       "      <td>Mexican</td>\n",
       "      <td>2017-09-21</td>\n",
       "      <td>Violations were cited in the following area(s).</td>\n",
       "      <td>24.0</td>\n",
       "      <td>40.641044</td>\n",
       "      <td>-74.014550</td>\n",
       "      <td>NaN</td>\n",
       "      <td>[06A, 04N, 06D, 08A, 10F]</td>\n",
       "      <td>[Personal cleanliness inadequate. Outer garmen...</td>\n",
       "      <td>[Y, Y, Y, N, N]</td>\n",
       "      <td>[Cycle Inspection / Initial Inspection, Cycle ...</td>\n",
       "    </tr>\n",
       "    <tr>\n",
       "      <th>3</th>\n",
       "      <td>40365904</td>\n",
       "      <td>MEE SUM CAFE</td>\n",
       "      <td>Manhattan</td>\n",
       "      <td>10013.0</td>\n",
       "      <td>Café/Coffee/Tea</td>\n",
       "      <td>2017-02-14</td>\n",
       "      <td>Violations were cited in the following area(s).</td>\n",
       "      <td>9.0</td>\n",
       "      <td>40.714861</td>\n",
       "      <td>-73.998200</td>\n",
       "      <td>A</td>\n",
       "      <td>[10F, 09A, 06D]</td>\n",
       "      <td>[Non-food contact surface improperly construct...</td>\n",
       "      <td>[N, N, Y]</td>\n",
       "      <td>[Cycle Inspection / Initial Inspection, Cycle ...</td>\n",
       "    </tr>\n",
       "    <tr>\n",
       "      <th>4</th>\n",
       "      <td>41346103</td>\n",
       "      <td>LA MAISON DU MACARON</td>\n",
       "      <td>Manhattan</td>\n",
       "      <td>10011.0</td>\n",
       "      <td>French</td>\n",
       "      <td>2018-08-31</td>\n",
       "      <td>Violations were cited in the following area(s).</td>\n",
       "      <td>13.0</td>\n",
       "      <td>40.743346</td>\n",
       "      <td>-73.993887</td>\n",
       "      <td>A</td>\n",
       "      <td>[10B, 10H, 02B]</td>\n",
       "      <td>[Plumbing not properly installed or maintained...</td>\n",
       "      <td>[N, N, Y]</td>\n",
       "      <td>[Cycle Inspection / Re-inspection, Cycle Inspe...</td>\n",
       "    </tr>\n",
       "  </tbody>\n",
       "</table>\n",
       "</div>"
      ],
      "text/plain": [
       "      camis                   dba       boro  zipcode cuisine_description  \\\n",
       "0  50072444         THE SPOT CAFE     Queens  11385.0     Café/Coffee/Tea   \n",
       "1  41660537          AMERICAN BAR  Manhattan  10075.0            American   \n",
       "2  50037997     JALAPENOS MEXICAN   Brooklyn  11220.0             Mexican   \n",
       "3  40365904          MEE SUM CAFE  Manhattan  10013.0     Café/Coffee/Tea   \n",
       "4  41346103  LA MAISON DU MACARON  Manhattan  10011.0              French   \n",
       "\n",
       "  inspection_date                                           action  score  \\\n",
       "0      2019-07-09  Violations were cited in the following area(s).   28.0   \n",
       "1      2017-09-20  Violations were cited in the following area(s).   12.0   \n",
       "2      2017-09-21  Violations were cited in the following area(s).   24.0   \n",
       "3      2017-02-14  Violations were cited in the following area(s).    9.0   \n",
       "4      2018-08-31  Violations were cited in the following area(s).   13.0   \n",
       "\n",
       "    latitude  longitude grade             violation_code  \\\n",
       "0  40.707167 -73.896938   NaN  [08A, 06A, 04L, 06B, 04H]   \n",
       "1  40.770759 -73.953849     A                 [10H, 04A]   \n",
       "2  40.641044 -74.014550   NaN  [06A, 04N, 06D, 08A, 10F]   \n",
       "3  40.714861 -73.998200     A            [10F, 09A, 06D]   \n",
       "4  40.743346 -73.993887     A            [10B, 10H, 02B]   \n",
       "\n",
       "                               violation_description    critical_flag  \\\n",
       "0  [Facility not vermin proof. Harborage or condi...  [N, Y, Y, Y, Y]   \n",
       "1  [Proper sanitization not provided for utensil ...           [N, Y]   \n",
       "2  [Personal cleanliness inadequate. Outer garmen...  [Y, Y, Y, N, N]   \n",
       "3  [Non-food contact surface improperly construct...        [N, N, Y]   \n",
       "4  [Plumbing not properly installed or maintained...        [N, N, Y]   \n",
       "\n",
       "                                     inspection_type  \n",
       "0  [Cycle Inspection / Initial Inspection, Cycle ...  \n",
       "1  [Cycle Inspection / Initial Inspection, Cycle ...  \n",
       "2  [Cycle Inspection / Initial Inspection, Cycle ...  \n",
       "3  [Cycle Inspection / Initial Inspection, Cycle ...  \n",
       "4  [Cycle Inspection / Re-inspection, Cycle Inspe...  "
      ]
     },
     "execution_count": 5,
     "metadata": {},
     "output_type": "execute_result"
    }
   ],
   "source": [
    "df_single_visits.head(5)"
   ]
  },
  {
   "cell_type": "code",
   "execution_count": 6,
   "metadata": {},
   "outputs": [
    {
     "data": {
      "text/plain": [
       "(134546, 15)"
      ]
     },
     "execution_count": 6,
     "metadata": {},
     "output_type": "execute_result"
    }
   ],
   "source": [
    "df_single_visits.shape"
   ]
  },
  {
   "cell_type": "code",
   "execution_count": 7,
   "metadata": {},
   "outputs": [
    {
     "data": {
      "text/html": [
       "<div>\n",
       "<style scoped>\n",
       "    .dataframe tbody tr th:only-of-type {\n",
       "        vertical-align: middle;\n",
       "    }\n",
       "\n",
       "    .dataframe tbody tr th {\n",
       "        vertical-align: top;\n",
       "    }\n",
       "\n",
       "    .dataframe thead th {\n",
       "        text-align: right;\n",
       "    }\n",
       "</style>\n",
       "<table border=\"1\" class=\"dataframe\">\n",
       "  <thead>\n",
       "    <tr style=\"text-align: right;\">\n",
       "      <th></th>\n",
       "      <th>camis</th>\n",
       "      <th>dba</th>\n",
       "      <th>boro</th>\n",
       "      <th>zipcode</th>\n",
       "      <th>cuisine_description</th>\n",
       "      <th>inspection_date</th>\n",
       "      <th>action</th>\n",
       "      <th>score</th>\n",
       "      <th>latitude</th>\n",
       "      <th>longitude</th>\n",
       "      <th>grade</th>\n",
       "      <th>violation_code</th>\n",
       "      <th>violation_description</th>\n",
       "      <th>critical_flag</th>\n",
       "      <th>inspection_type</th>\n",
       "    </tr>\n",
       "  </thead>\n",
       "  <tbody>\n",
       "    <tr>\n",
       "      <th>39430</th>\n",
       "      <td>40364956</td>\n",
       "      <td>THE NEW STARLING ATHLETIC CLUB OF THE BRONX</td>\n",
       "      <td>Bronx</td>\n",
       "      <td>10462.0</td>\n",
       "      <td>American</td>\n",
       "      <td>2019-06-11</td>\n",
       "      <td>Violations were cited in the following area(s).</td>\n",
       "      <td>10.0</td>\n",
       "      <td>40.83061</td>\n",
       "      <td>-73.849647</td>\n",
       "      <td>A</td>\n",
       "      <td>[05D]</td>\n",
       "      <td>[Hand washing facility not provided in or near...</td>\n",
       "      <td>[Y]</td>\n",
       "      <td>[Cycle Inspection / Initial Inspection]</td>\n",
       "    </tr>\n",
       "    <tr>\n",
       "      <th>52724</th>\n",
       "      <td>40364956</td>\n",
       "      <td>THE NEW STARLING ATHLETIC CLUB OF THE BRONX</td>\n",
       "      <td>Bronx</td>\n",
       "      <td>10462.0</td>\n",
       "      <td>American</td>\n",
       "      <td>2017-05-16</td>\n",
       "      <td>Violations were cited in the following area(s).</td>\n",
       "      <td>10.0</td>\n",
       "      <td>40.83061</td>\n",
       "      <td>-73.849647</td>\n",
       "      <td>A</td>\n",
       "      <td>[08A, 04L]</td>\n",
       "      <td>[Facility not vermin proof. Harborage or condi...</td>\n",
       "      <td>[N, Y]</td>\n",
       "      <td>[Cycle Inspection / Initial Inspection, Cycle ...</td>\n",
       "    </tr>\n",
       "    <tr>\n",
       "      <th>77541</th>\n",
       "      <td>40364956</td>\n",
       "      <td>THE NEW STARLING ATHLETIC CLUB OF THE BRONX</td>\n",
       "      <td>Bronx</td>\n",
       "      <td>10462.0</td>\n",
       "      <td>American</td>\n",
       "      <td>2018-06-14</td>\n",
       "      <td>Violations were cited in the following area(s).</td>\n",
       "      <td>12.0</td>\n",
       "      <td>40.83061</td>\n",
       "      <td>-73.849647</td>\n",
       "      <td>A</td>\n",
       "      <td>[08A, 04L]</td>\n",
       "      <td>[Facility not vermin proof. Harborage or condi...</td>\n",
       "      <td>[N, Y]</td>\n",
       "      <td>[Cycle Inspection / Initial Inspection, Cycle ...</td>\n",
       "    </tr>\n",
       "    <tr>\n",
       "      <th>127271</th>\n",
       "      <td>40364956</td>\n",
       "      <td>THE NEW STARLING ATHLETIC CLUB OF THE BRONX</td>\n",
       "      <td>Bronx</td>\n",
       "      <td>10462.0</td>\n",
       "      <td>American</td>\n",
       "      <td>2018-04-05</td>\n",
       "      <td>No violations were recorded at the time of thi...</td>\n",
       "      <td>NaN</td>\n",
       "      <td>40.83061</td>\n",
       "      <td>-73.849647</td>\n",
       "      <td>NaN</td>\n",
       "      <td>[nan]</td>\n",
       "      <td>[nan]</td>\n",
       "      <td>[nan]</td>\n",
       "      <td>[Smoke-Free Air Act / Initial Inspection]</td>\n",
       "    </tr>\n",
       "  </tbody>\n",
       "</table>\n",
       "</div>"
      ],
      "text/plain": [
       "           camis                                          dba   boro  zipcode  \\\n",
       "39430   40364956  THE NEW STARLING ATHLETIC CLUB OF THE BRONX  Bronx  10462.0   \n",
       "52724   40364956  THE NEW STARLING ATHLETIC CLUB OF THE BRONX  Bronx  10462.0   \n",
       "77541   40364956  THE NEW STARLING ATHLETIC CLUB OF THE BRONX  Bronx  10462.0   \n",
       "127271  40364956  THE NEW STARLING ATHLETIC CLUB OF THE BRONX  Bronx  10462.0   \n",
       "\n",
       "       cuisine_description inspection_date  \\\n",
       "39430             American      2019-06-11   \n",
       "52724             American      2017-05-16   \n",
       "77541             American      2018-06-14   \n",
       "127271            American      2018-04-05   \n",
       "\n",
       "                                                   action  score  latitude  \\\n",
       "39430     Violations were cited in the following area(s).   10.0  40.83061   \n",
       "52724     Violations were cited in the following area(s).   10.0  40.83061   \n",
       "77541     Violations were cited in the following area(s).   12.0  40.83061   \n",
       "127271  No violations were recorded at the time of thi...    NaN  40.83061   \n",
       "\n",
       "        longitude grade violation_code  \\\n",
       "39430  -73.849647     A          [05D]   \n",
       "52724  -73.849647     A     [08A, 04L]   \n",
       "77541  -73.849647     A     [08A, 04L]   \n",
       "127271 -73.849647   NaN          [nan]   \n",
       "\n",
       "                                    violation_description critical_flag  \\\n",
       "39430   [Hand washing facility not provided in or near...           [Y]   \n",
       "52724   [Facility not vermin proof. Harborage or condi...        [N, Y]   \n",
       "77541   [Facility not vermin proof. Harborage or condi...        [N, Y]   \n",
       "127271                                              [nan]         [nan]   \n",
       "\n",
       "                                          inspection_type  \n",
       "39430             [Cycle Inspection / Initial Inspection]  \n",
       "52724   [Cycle Inspection / Initial Inspection, Cycle ...  \n",
       "77541   [Cycle Inspection / Initial Inspection, Cycle ...  \n",
       "127271          [Smoke-Free Air Act / Initial Inspection]  "
      ]
     },
     "execution_count": 7,
     "metadata": {},
     "output_type": "execute_result"
    }
   ],
   "source": [
    "df_single_visits[df_single_visits.camis==40364956]"
   ]
  },
  {
   "cell_type": "code",
   "execution_count": 8,
   "metadata": {},
   "outputs": [
    {
     "data": {
      "text/plain": [
       "camis                                                             41282127\n",
       "dba                                          LOS TRES POTRILLOS RESTAURANT\n",
       "boro                                                                Queens\n",
       "zipcode                                                              11368\n",
       "cuisine_description                                                Mexican\n",
       "inspection_date                                        2017-04-13 00:00:00\n",
       "action                     Violations were cited in the following area(s).\n",
       "score                                                                   39\n",
       "latitude                                                           40.7517\n",
       "longitude                                                         -73.8555\n",
       "grade                                                                  NaN\n",
       "violation_code                         [02G, 10F, 05D, 06F, 08A, 06C, 10B]\n",
       "violation_description    [Cold food item held above 41º F (smoked fish ...\n",
       "critical_flag                                        [Y, N, Y, Y, N, Y, N]\n",
       "inspection_type          [Cycle Inspection / Initial Inspection, Cycle ...\n",
       "Name: 29415, dtype: object"
      ]
     },
     "execution_count": 8,
     "metadata": {},
     "output_type": "execute_result"
    }
   ],
   "source": [
    "df_single_visits.iloc[29415]"
   ]
  },
  {
   "cell_type": "markdown",
   "metadata": {},
   "source": [
    " Which restaurants are visited the most"
   ]
  },
  {
   "cell_type": "code",
   "execution_count": 9,
   "metadata": {},
   "outputs": [
    {
     "name": "stdout",
     "output_type": "stream",
     "text": [
      "       camis                                 dba  Count\n",
      "0   50018552           ORCHID DYNASTY RESTAURANT     96\n",
      "1   41669112       LA VIE EN SZECHUAN RESTAURANT     90\n",
      "2   50035784                 BIG WONG RESTAURANT     84\n",
      "3   50056245                    MING KEE KITCHEN     83\n",
      "4   41683816             MAX BAKERY & RESTAURANT     83\n",
      "5   40700664                 PHO BANG RESTAURANT     80\n",
      "6   41409441                      GOLDEN STEAMER     80\n",
      "7   41187577             HANSOL NUTRITION CENTER     77\n",
      "8   50056438         KABAYAN FILIPINO RESTAURANT     76\n",
      "9   50064654                ANPANMAN BAKERY CAFE     76\n",
      "10  50069376                             QINGDAO     76\n",
      "11  40400811                          CAFE VOLNA     75\n",
      "12  50001789  RESTAURANTE & PANADERIA GUATELINDA     73\n",
      "13  41510846                      218 RESTAURANT     73\n",
      "14  41425803                        DONUT SHOPPE     72\n",
      "15  50036890        NEW SHANGHAI TIDE RESTAURANT     71\n",
      "16  50047362                      CAFE HONG KONG     71\n",
      "17  50001693                          ANKA GRILL     70\n",
      "18  50018415                      BREAD & BUTTER     70\n",
      "19  41591603              ARIS POLLOS A LA BRASA     69\n"
     ]
    },
    {
     "data": {
      "image/png": "[encoded data removed]",
      "text/plain": [
       "<Figure size 432x288 with 1 Axes>"
      ]
     },
     "metadata": {
      "needs_background": "light"
     },
     "output_type": "display_data"
    }
   ],
   "source": [
    "df_v = df.groupby(['camis', 'dba'],as_index=False)['score'].count()\n",
    "df_v.rename(columns={'score': 'Count'}, inplace=True)\n",
    "df_v.sort_values(by='Count', ascending=False, inplace=True)\n",
    "df_v.reset_index(drop=True,inplace=True)\n",
    "# df_v.head(20).plot.bar(x='dba', y='Count')\n",
    "plt.hist(df_v.Count, bins=50)\n",
    "plt.ylabel('Number of Restaurants')\n",
    "plt.xlabel('Number of Visits')\n",
    "print(df_v.head(20))"
   ]
  },
  {
   "cell_type": "code",
   "execution_count": null,
   "metadata": {},
   "outputs": [],
   "source": []
  },
  {
   "cell_type": "code",
   "execution_count": 10,
   "metadata": {},
   "outputs": [
    {
     "data": {
      "text/html": [
       "<div>\n",
       "<style scoped>\n",
       "    .dataframe tbody tr th:only-of-type {\n",
       "        vertical-align: middle;\n",
       "    }\n",
       "\n",
       "    .dataframe tbody tr th {\n",
       "        vertical-align: top;\n",
       "    }\n",
       "\n",
       "    .dataframe thead th {\n",
       "        text-align: right;\n",
       "    }\n",
       "</style>\n",
       "<table border=\"1\" class=\"dataframe\">\n",
       "  <thead>\n",
       "    <tr style=\"text-align: right;\">\n",
       "      <th></th>\n",
       "      <th>camis</th>\n",
       "      <th>dba</th>\n",
       "      <th>boro</th>\n",
       "      <th>zipcode</th>\n",
       "      <th>cuisine_description</th>\n",
       "      <th>inspection_date</th>\n",
       "      <th>action</th>\n",
       "      <th>score</th>\n",
       "      <th>latitude</th>\n",
       "      <th>longitude</th>\n",
       "      <th>grade</th>\n",
       "      <th>violation_code</th>\n",
       "      <th>violation_description</th>\n",
       "      <th>critical_flag</th>\n",
       "      <th>inspection_type</th>\n",
       "    </tr>\n",
       "  </thead>\n",
       "  <tbody>\n",
       "    <tr>\n",
       "      <th>6101</th>\n",
       "      <td>41297769</td>\n",
       "      <td>BROTHERS FISH MARKET</td>\n",
       "      <td>Manhattan</td>\n",
       "      <td>10032.0</td>\n",
       "      <td>Seafood</td>\n",
       "      <td>2017-10-19</td>\n",
       "      <td>Violations were cited in the following area(s).</td>\n",
       "      <td>6.0</td>\n",
       "      <td>40.836121</td>\n",
       "      <td>-73.943382</td>\n",
       "      <td>A</td>\n",
       "      <td>[04M, 04L]</td>\n",
       "      <td>[Live roaches present in facility's food and/o...</td>\n",
       "      <td>[Y, Y]</td>\n",
       "      <td>[Cycle Inspection / Re-inspection, Cycle Inspe...</td>\n",
       "    </tr>\n",
       "    <tr>\n",
       "      <th>9773</th>\n",
       "      <td>41297769</td>\n",
       "      <td>BROTHERS FISH MARKET</td>\n",
       "      <td>Manhattan</td>\n",
       "      <td>10032.0</td>\n",
       "      <td>Seafood</td>\n",
       "      <td>2018-09-25</td>\n",
       "      <td>Violations were cited in the following area(s).</td>\n",
       "      <td>80.0</td>\n",
       "      <td>40.836121</td>\n",
       "      <td>-73.943382</td>\n",
       "      <td>NaN</td>\n",
       "      <td>[04M, 10B, 06F, 10D, 02G, 05D, 10A, 02H, 06C, ...</td>\n",
       "      <td>[Live roaches present in facility's food and/o...</td>\n",
       "      <td>[Y, N, Y, N, Y, Y, N, Y, Y, Y, Y, N, Y, Y, N, N]</td>\n",
       "      <td>[Cycle Inspection / Initial Inspection, Cycle ...</td>\n",
       "    </tr>\n",
       "    <tr>\n",
       "      <th>28484</th>\n",
       "      <td>41297769</td>\n",
       "      <td>BROTHERS FISH MARKET</td>\n",
       "      <td>Manhattan</td>\n",
       "      <td>10032.0</td>\n",
       "      <td>Seafood</td>\n",
       "      <td>2018-10-17</td>\n",
       "      <td>Establishment Closed by DOHMH.  Violations wer...</td>\n",
       "      <td>115.0</td>\n",
       "      <td>40.836121</td>\n",
       "      <td>-73.943382</td>\n",
       "      <td>NaN</td>\n",
       "      <td>[10B, 06D, 04H, 10F, 08A, 10D, 06C, 04L, 04N, ...</td>\n",
       "      <td>[Plumbing not properly installed or maintained...</td>\n",
       "      <td>[N, Y, Y, N, N, N, Y, Y, Y, Y]</td>\n",
       "      <td>[Cycle Inspection / Re-inspection, Cycle Inspe...</td>\n",
       "    </tr>\n",
       "    <tr>\n",
       "      <th>33310</th>\n",
       "      <td>41297769</td>\n",
       "      <td>BROTHERS FISH MARKET</td>\n",
       "      <td>Manhattan</td>\n",
       "      <td>10032.0</td>\n",
       "      <td>Seafood</td>\n",
       "      <td>2016-11-28</td>\n",
       "      <td>Violations were cited in the following area(s).</td>\n",
       "      <td>21.0</td>\n",
       "      <td>40.836121</td>\n",
       "      <td>-73.943382</td>\n",
       "      <td>NaN</td>\n",
       "      <td>[08A, 06C, 10B, 04L, 08C]</td>\n",
       "      <td>[Facility not vermin proof. Harborage or condi...</td>\n",
       "      <td>[N, Y, N, Y, N]</td>\n",
       "      <td>[Cycle Inspection / Initial Inspection, Cycle ...</td>\n",
       "    </tr>\n",
       "    <tr>\n",
       "      <th>45167</th>\n",
       "      <td>41297769</td>\n",
       "      <td>BROTHERS FISH MARKET</td>\n",
       "      <td>Manhattan</td>\n",
       "      <td>10032.0</td>\n",
       "      <td>Seafood</td>\n",
       "      <td>2016-09-02</td>\n",
       "      <td>No violations were recorded at the time of thi...</td>\n",
       "      <td>NaN</td>\n",
       "      <td>40.836121</td>\n",
       "      <td>-73.943382</td>\n",
       "      <td>NaN</td>\n",
       "      <td>[nan, 20F]</td>\n",
       "      <td>[nan, Current letter grade card not posted.]</td>\n",
       "      <td>[nan, N]</td>\n",
       "      <td>[Trans Fat / Initial Inspection, Administrativ...</td>\n",
       "    </tr>\n",
       "    <tr>\n",
       "      <th>49597</th>\n",
       "      <td>41297769</td>\n",
       "      <td>BROTHERS FISH MARKET</td>\n",
       "      <td>Manhattan</td>\n",
       "      <td>10032.0</td>\n",
       "      <td>Seafood</td>\n",
       "      <td>2018-06-11</td>\n",
       "      <td>Violations were cited in the following area(s).</td>\n",
       "      <td>34.0</td>\n",
       "      <td>40.836121</td>\n",
       "      <td>-73.943382</td>\n",
       "      <td>C</td>\n",
       "      <td>[10B, 04H, 02G, 06C, 08A, 04M]</td>\n",
       "      <td>[Plumbing not properly installed or maintained...</td>\n",
       "      <td>[N, Y, Y, Y, N, Y]</td>\n",
       "      <td>[Cycle Inspection / Re-inspection, Cycle Inspe...</td>\n",
       "    </tr>\n",
       "    <tr>\n",
       "      <th>50751</th>\n",
       "      <td>41297769</td>\n",
       "      <td>BROTHERS FISH MARKET</td>\n",
       "      <td>Manhattan</td>\n",
       "      <td>10032.0</td>\n",
       "      <td>Seafood</td>\n",
       "      <td>2017-08-14</td>\n",
       "      <td>Establishment Closed by DOHMH.  Violations wer...</td>\n",
       "      <td>79.0</td>\n",
       "      <td>40.836121</td>\n",
       "      <td>-73.943382</td>\n",
       "      <td>NaN</td>\n",
       "      <td>[05F, 08A, 04K, 04H, 02G, 04M, 04N]</td>\n",
       "      <td>[Insufficient or no refrigerated or hot holdin...</td>\n",
       "      <td>[Y, N, Y, Y, Y, Y, Y]</td>\n",
       "      <td>[Cycle Inspection / Initial Inspection, Cycle ...</td>\n",
       "    </tr>\n",
       "    <tr>\n",
       "      <th>63434</th>\n",
       "      <td>41297769</td>\n",
       "      <td>BROTHERS FISH MARKET</td>\n",
       "      <td>Manhattan</td>\n",
       "      <td>10032.0</td>\n",
       "      <td>Seafood</td>\n",
       "      <td>2018-04-06</td>\n",
       "      <td>Establishment Closed by DOHMH.  Violations wer...</td>\n",
       "      <td>51.0</td>\n",
       "      <td>40.836121</td>\n",
       "      <td>-73.943382</td>\n",
       "      <td>NaN</td>\n",
       "      <td>[08A, 10F, 02B, 10B, 04L, 04M]</td>\n",
       "      <td>[Facility not vermin proof. Harborage or condi...</td>\n",
       "      <td>[N, N, Y, N, Y, Y]</td>\n",
       "      <td>[Cycle Inspection / Initial Inspection, Cycle ...</td>\n",
       "    </tr>\n",
       "    <tr>\n",
       "      <th>68252</th>\n",
       "      <td>41297769</td>\n",
       "      <td>BROTHERS FISH MARKET</td>\n",
       "      <td>Manhattan</td>\n",
       "      <td>10032.0</td>\n",
       "      <td>Seafood</td>\n",
       "      <td>2016-05-24</td>\n",
       "      <td>Violations were cited in the following area(s).</td>\n",
       "      <td>31.0</td>\n",
       "      <td>40.836121</td>\n",
       "      <td>-73.943382</td>\n",
       "      <td>C</td>\n",
       "      <td>[06F, 04L, 02G, 10F, 04N, 08A]</td>\n",
       "      <td>[Wiping cloths soiled or not stored in sanitiz...</td>\n",
       "      <td>[Y, Y, Y, N, Y, N]</td>\n",
       "      <td>[Cycle Inspection / Re-inspection, Cycle Inspe...</td>\n",
       "    </tr>\n",
       "    <tr>\n",
       "      <th>82535</th>\n",
       "      <td>41297769</td>\n",
       "      <td>BROTHERS FISH MARKET</td>\n",
       "      <td>Manhattan</td>\n",
       "      <td>10032.0</td>\n",
       "      <td>Seafood</td>\n",
       "      <td>2017-01-20</td>\n",
       "      <td>Violations were cited in the following area(s).</td>\n",
       "      <td>13.0</td>\n",
       "      <td>40.836121</td>\n",
       "      <td>-73.943382</td>\n",
       "      <td>A</td>\n",
       "      <td>[06D, 09B, 04M]</td>\n",
       "      <td>[Food contact surface not properly washed, rin...</td>\n",
       "      <td>[Y, N, Y]</td>\n",
       "      <td>[Cycle Inspection / Re-inspection, Cycle Inspe...</td>\n",
       "    </tr>\n",
       "    <tr>\n",
       "      <th>93511</th>\n",
       "      <td>41297769</td>\n",
       "      <td>BROTHERS FISH MARKET</td>\n",
       "      <td>Manhattan</td>\n",
       "      <td>10032.0</td>\n",
       "      <td>Seafood</td>\n",
       "      <td>2018-04-10</td>\n",
       "      <td>Establishment re-opened by DOHMH</td>\n",
       "      <td>14.0</td>\n",
       "      <td>40.836121</td>\n",
       "      <td>-73.943382</td>\n",
       "      <td>P</td>\n",
       "      <td>[04M, 10F, 09C, 08A]</td>\n",
       "      <td>[Live roaches present in facility's food and/o...</td>\n",
       "      <td>[Y, N, N, N]</td>\n",
       "      <td>[Cycle Inspection / Reopening Inspection, Cycl...</td>\n",
       "    </tr>\n",
       "    <tr>\n",
       "      <th>107930</th>\n",
       "      <td>41297769</td>\n",
       "      <td>BROTHERS FISH MARKET</td>\n",
       "      <td>Manhattan</td>\n",
       "      <td>10032.0</td>\n",
       "      <td>Seafood</td>\n",
       "      <td>2016-03-11</td>\n",
       "      <td>Violations were cited in the following area(s).</td>\n",
       "      <td>8.0</td>\n",
       "      <td>40.836121</td>\n",
       "      <td>-73.943382</td>\n",
       "      <td>NaN</td>\n",
       "      <td>[06D, 10F]</td>\n",
       "      <td>[Food contact surface not properly washed, rin...</td>\n",
       "      <td>[Y, N]</td>\n",
       "      <td>[Cycle Inspection / Initial Inspection, Cycle ...</td>\n",
       "    </tr>\n",
       "    <tr>\n",
       "      <th>119131</th>\n",
       "      <td>41297769</td>\n",
       "      <td>BROTHERS FISH MARKET</td>\n",
       "      <td>Manhattan</td>\n",
       "      <td>10032.0</td>\n",
       "      <td>Seafood</td>\n",
       "      <td>2017-08-18</td>\n",
       "      <td>Establishment re-opened by DOHMH</td>\n",
       "      <td>2.0</td>\n",
       "      <td>40.836121</td>\n",
       "      <td>-73.943382</td>\n",
       "      <td>P</td>\n",
       "      <td>[10B]</td>\n",
       "      <td>[Plumbing not properly installed or maintained...</td>\n",
       "      <td>[N]</td>\n",
       "      <td>[Cycle Inspection / Reopening Inspection]</td>\n",
       "    </tr>\n",
       "    <tr>\n",
       "      <th>130395</th>\n",
       "      <td>41297769</td>\n",
       "      <td>BROTHERS FISH MARKET</td>\n",
       "      <td>Manhattan</td>\n",
       "      <td>10032.0</td>\n",
       "      <td>Seafood</td>\n",
       "      <td>2018-08-28</td>\n",
       "      <td>No violations were recorded at the time of thi...</td>\n",
       "      <td>NaN</td>\n",
       "      <td>40.836121</td>\n",
       "      <td>-73.943382</td>\n",
       "      <td>NaN</td>\n",
       "      <td>[nan]</td>\n",
       "      <td>[nan]</td>\n",
       "      <td>[nan]</td>\n",
       "      <td>[Administrative Miscellaneous / Initial Inspec...</td>\n",
       "    </tr>\n",
       "  </tbody>\n",
       "</table>\n",
       "</div>"
      ],
      "text/plain": [
       "           camis                   dba       boro  zipcode  \\\n",
       "6101    41297769  BROTHERS FISH MARKET  Manhattan  10032.0   \n",
       "9773    41297769  BROTHERS FISH MARKET  Manhattan  10032.0   \n",
       "28484   41297769  BROTHERS FISH MARKET  Manhattan  10032.0   \n",
       "33310   41297769  BROTHERS FISH MARKET  Manhattan  10032.0   \n",
       "45167   41297769  BROTHERS FISH MARKET  Manhattan  10032.0   \n",
       "49597   41297769  BROTHERS FISH MARKET  Manhattan  10032.0   \n",
       "50751   41297769  BROTHERS FISH MARKET  Manhattan  10032.0   \n",
       "63434   41297769  BROTHERS FISH MARKET  Manhattan  10032.0   \n",
       "68252   41297769  BROTHERS FISH MARKET  Manhattan  10032.0   \n",
       "82535   41297769  BROTHERS FISH MARKET  Manhattan  10032.0   \n",
       "93511   41297769  BROTHERS FISH MARKET  Manhattan  10032.0   \n",
       "107930  41297769  BROTHERS FISH MARKET  Manhattan  10032.0   \n",
       "119131  41297769  BROTHERS FISH MARKET  Manhattan  10032.0   \n",
       "130395  41297769  BROTHERS FISH MARKET  Manhattan  10032.0   \n",
       "\n",
       "       cuisine_description inspection_date  \\\n",
       "6101               Seafood      2017-10-19   \n",
       "9773               Seafood      2018-09-25   \n",
       "28484              Seafood      2018-10-17   \n",
       "33310              Seafood      2016-11-28   \n",
       "45167              Seafood      2016-09-02   \n",
       "49597              Seafood      2018-06-11   \n",
       "50751              Seafood      2017-08-14   \n",
       "63434              Seafood      2018-04-06   \n",
       "68252              Seafood      2016-05-24   \n",
       "82535              Seafood      2017-01-20   \n",
       "93511              Seafood      2018-04-10   \n",
       "107930             Seafood      2016-03-11   \n",
       "119131             Seafood      2017-08-18   \n",
       "130395             Seafood      2018-08-28   \n",
       "\n",
       "                                                   action  score   latitude  \\\n",
       "6101      Violations were cited in the following area(s).    6.0  40.836121   \n",
       "9773      Violations were cited in the following area(s).   80.0  40.836121   \n",
       "28484   Establishment Closed by DOHMH.  Violations wer...  115.0  40.836121   \n",
       "33310     Violations were cited in the following area(s).   21.0  40.836121   \n",
       "45167   No violations were recorded at the time of thi...    NaN  40.836121   \n",
       "49597     Violations were cited in the following area(s).   34.0  40.836121   \n",
       "50751   Establishment Closed by DOHMH.  Violations wer...   79.0  40.836121   \n",
       "63434   Establishment Closed by DOHMH.  Violations wer...   51.0  40.836121   \n",
       "68252     Violations were cited in the following area(s).   31.0  40.836121   \n",
       "82535     Violations were cited in the following area(s).   13.0  40.836121   \n",
       "93511                    Establishment re-opened by DOHMH   14.0  40.836121   \n",
       "107930    Violations were cited in the following area(s).    8.0  40.836121   \n",
       "119131                   Establishment re-opened by DOHMH    2.0  40.836121   \n",
       "130395  No violations were recorded at the time of thi...    NaN  40.836121   \n",
       "\n",
       "        longitude grade                                     violation_code  \\\n",
       "6101   -73.943382     A                                         [04M, 04L]   \n",
       "9773   -73.943382   NaN  [04M, 10B, 06F, 10D, 02G, 05D, 10A, 02H, 06C, ...   \n",
       "28484  -73.943382   NaN  [10B, 06D, 04H, 10F, 08A, 10D, 06C, 04L, 04N, ...   \n",
       "33310  -73.943382   NaN                          [08A, 06C, 10B, 04L, 08C]   \n",
       "45167  -73.943382   NaN                                         [nan, 20F]   \n",
       "49597  -73.943382     C                     [10B, 04H, 02G, 06C, 08A, 04M]   \n",
       "50751  -73.943382   NaN                [05F, 08A, 04K, 04H, 02G, 04M, 04N]   \n",
       "63434  -73.943382   NaN                     [08A, 10F, 02B, 10B, 04L, 04M]   \n",
       "68252  -73.943382     C                     [06F, 04L, 02G, 10F, 04N, 08A]   \n",
       "82535  -73.943382     A                                    [06D, 09B, 04M]   \n",
       "93511  -73.943382     P                               [04M, 10F, 09C, 08A]   \n",
       "107930 -73.943382   NaN                                         [06D, 10F]   \n",
       "119131 -73.943382     P                                              [10B]   \n",
       "130395 -73.943382   NaN                                              [nan]   \n",
       "\n",
       "                                    violation_description  \\\n",
       "6101    [Live roaches present in facility's food and/o...   \n",
       "9773    [Live roaches present in facility's food and/o...   \n",
       "28484   [Plumbing not properly installed or maintained...   \n",
       "33310   [Facility not vermin proof. Harborage or condi...   \n",
       "45167        [nan, Current letter grade card not posted.]   \n",
       "49597   [Plumbing not properly installed or maintained...   \n",
       "50751   [Insufficient or no refrigerated or hot holdin...   \n",
       "63434   [Facility not vermin proof. Harborage or condi...   \n",
       "68252   [Wiping cloths soiled or not stored in sanitiz...   \n",
       "82535   [Food contact surface not properly washed, rin...   \n",
       "93511   [Live roaches present in facility's food and/o...   \n",
       "107930  [Food contact surface not properly washed, rin...   \n",
       "119131  [Plumbing not properly installed or maintained...   \n",
       "130395                                              [nan]   \n",
       "\n",
       "                                           critical_flag  \\\n",
       "6101                                              [Y, Y]   \n",
       "9773    [Y, N, Y, N, Y, Y, N, Y, Y, Y, Y, N, Y, Y, N, N]   \n",
       "28484                     [N, Y, Y, N, N, N, Y, Y, Y, Y]   \n",
       "33310                                    [N, Y, N, Y, N]   \n",
       "45167                                           [nan, N]   \n",
       "49597                                 [N, Y, Y, Y, N, Y]   \n",
       "50751                              [Y, N, Y, Y, Y, Y, Y]   \n",
       "63434                                 [N, N, Y, N, Y, Y]   \n",
       "68252                                 [Y, Y, Y, N, Y, N]   \n",
       "82535                                          [Y, N, Y]   \n",
       "93511                                       [Y, N, N, N]   \n",
       "107930                                            [Y, N]   \n",
       "119131                                               [N]   \n",
       "130395                                             [nan]   \n",
       "\n",
       "                                          inspection_type  \n",
       "6101    [Cycle Inspection / Re-inspection, Cycle Inspe...  \n",
       "9773    [Cycle Inspection / Initial Inspection, Cycle ...  \n",
       "28484   [Cycle Inspection / Re-inspection, Cycle Inspe...  \n",
       "33310   [Cycle Inspection / Initial Inspection, Cycle ...  \n",
       "45167   [Trans Fat / Initial Inspection, Administrativ...  \n",
       "49597   [Cycle Inspection / Re-inspection, Cycle Inspe...  \n",
       "50751   [Cycle Inspection / Initial Inspection, Cycle ...  \n",
       "63434   [Cycle Inspection / Initial Inspection, Cycle ...  \n",
       "68252   [Cycle Inspection / Re-inspection, Cycle Inspe...  \n",
       "82535   [Cycle Inspection / Re-inspection, Cycle Inspe...  \n",
       "93511   [Cycle Inspection / Reopening Inspection, Cycl...  \n",
       "107930  [Cycle Inspection / Initial Inspection, Cycle ...  \n",
       "119131          [Cycle Inspection / Reopening Inspection]  \n",
       "130395  [Administrative Miscellaneous / Initial Inspec...  "
      ]
     },
     "execution_count": 10,
     "metadata": {},
     "output_type": "execute_result"
    }
   ],
   "source": [
    "df_single_visits[df_single_visits.camis==41297769]"
   ]
  },
  {
   "cell_type": "markdown",
   "metadata": {},
   "source": [
    "# Look at the temporal features of the data"
   ]
  },
  {
   "cell_type": "code",
   "execution_count": 11,
   "metadata": {},
   "outputs": [
    {
     "data": {
      "text/plain": [
       "count                  134546\n",
       "unique                   1289\n",
       "top       2019-03-28 00:00:00\n",
       "freq                      276\n",
       "first     2016-01-04 00:00:00\n",
       "last      2020-01-24 00:00:00\n",
       "Name: inspection_date, dtype: object"
      ]
     },
     "execution_count": 11,
     "metadata": {},
     "output_type": "execute_result"
    }
   ],
   "source": [
    "pd.to_datetime(df_single_visits[\"inspection_date\"]).describe()"
   ]
  },
  {
   "cell_type": "markdown",
   "metadata": {},
   "source": [
    "## Year"
   ]
  },
  {
   "cell_type": "code",
   "execution_count": 13,
   "metadata": {},
   "outputs": [
    {
     "data": {
      "text/plain": [
       "Text(0, 0.5, 'Count of Inspections')"
      ]
     },
     "execution_count": 13,
     "metadata": {},
     "output_type": "execute_result"
    },
    {
     "data": {
      "image/png": "[encoded data removed]",
      "text/plain": [
       "<Figure size 432x288 with 1 Axes>"
      ]
     },
     "metadata": {
      "needs_background": "light"
     },
     "output_type": "display_data"
    }
   ],
   "source": [
    "year_hist = df_single_visits.inspection_date.dt.year\n",
    "year_hist = year_hist.value_counts().sort_index()\n",
    "year_hist.index = [\"2016\", \"2017\", \"2018\", '2019', '2020']\n",
    "plt.bar(year_hist.index, year_hist.values)\n",
    "plt.xlabel(\"Year\")\n",
    "plt.ylabel(\"Count of Inspections\")"
   ]
  },
  {
   "cell_type": "markdown",
   "metadata": {},
   "source": [
    "## Month"
   ]
  },
  {
   "cell_type": "code",
   "execution_count": 14,
   "metadata": {},
   "outputs": [
    {
     "data": {
      "text/plain": [
       "Text(0, 0.5, 'Count of Inspections')"
      ]
     },
     "execution_count": 14,
     "metadata": {},
     "output_type": "execute_result"
    },
    {
     "data": {
      "image/png": "[encoded data removed]",
      "text/plain": [
       "<Figure size 432x288 with 1 Axes>"
      ]
     },
     "metadata": {
      "needs_background": "light"
     },
     "output_type": "display_data"
    }
   ],
   "source": [
    "month_hist = pd.to_datetime(df_single_visits[\"inspection_date\"]).dt.month\n",
    "month_hist = month_hist.value_counts().sort_index()\n",
    "month_hist.index = [\"Jan\", \"Feb\", \"Mar\", \"Apr\", \"May\", \"Jun\", \"Jul\", \"Aug\", \"Sep\", \"Oct\", \"Nov\", \"Dec\"]\n",
    "plt.bar(month_hist.index, month_hist.values)\n",
    "plt.xlabel(\"Month\")\n",
    "plt.ylabel(\"Count of Inspections\")"
   ]
  },
  {
   "cell_type": "markdown",
   "metadata": {},
   "source": [
    "## Day"
   ]
  },
  {
   "cell_type": "code",
   "execution_count": 15,
   "metadata": {},
   "outputs": [
    {
     "data": {
      "text/plain": [
       "Text(0, 0.5, 'Count of Inspections')"
      ]
     },
     "execution_count": 15,
     "metadata": {},
     "output_type": "execute_result"
    },
    {
     "data": {
      "image/png": "[encoded data removed]",
      "text/plain": [
       "<Figure size 432x288 with 1 Axes>"
      ]
     },
     "metadata": {
      "needs_background": "light"
     },
     "output_type": "display_data"
    }
   ],
   "source": [
    "day_hist = pd.to_datetime(df_single_visits[\"inspection_date\"]).dt.weekday\n",
    "day_hist = day_hist.value_counts().sort_index()\n",
    "day_hist.index = [\"Mon\", \"Tue\", \"Wed\", \"Thur\", \"Fri\", \"Sat\", \"Sun\"]\n",
    "plt.bar(day_hist.index, day_hist.values)\n",
    "plt.xlabel(\"Day of Week\")\n",
    "plt.ylabel(\"Count of Inspections\")"
   ]
  },
  {
   "cell_type": "markdown",
   "metadata": {},
   "source": [
    "# What types of restaurants are being inspected?"
   ]
  },
  {
   "cell_type": "code",
   "execution_count": 16,
   "metadata": {},
   "outputs": [
    {
     "data": {
      "text/plain": [
       "Text(0, 0.5, 'Number of Restaurants')"
      ]
     },
     "execution_count": 16,
     "metadata": {},
     "output_type": "execute_result"
    },
    {
     "data": {
      "image/png": "[encoded data removed]",
      "text/plain": [
       "<Figure size 432x288 with 1 Axes>"
      ]
     },
     "metadata": {
      "needs_background": "light"
     },
     "output_type": "display_data"
    }
   ],
   "source": [
    "cus = []\n",
    "cus_n = []\n",
    "for i in df_single_visits[\"cuisine_description\"].unique():\n",
    "    cus.append(i)\n",
    "    cus_n.append(df[df[\"cuisine_description\"]==i][\"camis\"].nunique())\n",
    "my_data_cus = { 'Cuisine Description':cus,'Number':cus_n}\n",
    "my_data_cus = pd.DataFrame(my_data_cus)\n",
    "my_data_cus.sort_values(by='Number', ascending=False, inplace=True)\n",
    "my_data_cus.head(20).plot(x=\"Cuisine Description\", y=[\"Number\"], kind=\"bar\")\n",
    "plt.title('Number of restaurants distribuition as per Cuisine type')\n",
    "plt.ylabel('Number of Restaurants')\n"
   ]
  },
  {
   "cell_type": "markdown",
   "metadata": {},
   "source": [
    "# How many have critical violations?"
   ]
  },
  {
   "cell_type": "code",
   "execution_count": 17,
   "metadata": {},
   "outputs": [],
   "source": [
    "nested = df_single_visits['critical_flag'].values.tolist()\n",
    "\n",
    "df_single_visits['critical'] = [1 if 'Y' in sublist else 0 for sublist in nested]"
   ]
  },
  {
   "cell_type": "code",
   "execution_count": 18,
   "metadata": {},
   "outputs": [
    {
     "name": "stdout",
     "output_type": "stream",
     "text": [
      "[ 18217 116329]\n"
     ]
    },
    {
     "data": {
      "image/png": "[encoded data removed]",
      "text/plain": [
       "<Figure size 432x288 with 1 Axes>"
      ]
     },
     "metadata": {
      "needs_background": "light"
     },
     "output_type": "display_data"
    }
   ],
   "source": [
    "month_hist = df_single_visits[\"critical\"]\n",
    "month_hist = month_hist.value_counts().sort_index()\n",
    "month_hist.index = [\"Not Critical\", \"Critical\"]\n",
    "plt.bar(month_hist.index, month_hist.values)\n",
    "plt.ylabel('Number of Visits')\n",
    "print(month_hist.values)"
   ]
  },
  {
   "cell_type": "code",
   "execution_count": 19,
   "metadata": {},
   "outputs": [
    {
     "data": {
      "text/plain": [
       "0.527559347732374"
      ]
     },
     "execution_count": 19,
     "metadata": {},
     "output_type": "execute_result"
    }
   ],
   "source": [
    "70981/df_single_visits.shape[0]"
   ]
  },
  {
   "cell_type": "markdown",
   "metadata": {},
   "source": [
    "So 86% of restaurants visits had a critical violation"
   ]
  },
  {
   "cell_type": "code",
   "execution_count": 20,
   "metadata": {},
   "outputs": [
    {
     "data": {
      "text/plain": [
       "Text(0, 0.5, 'Number of Violations')"
      ]
     },
     "execution_count": 20,
     "metadata": {},
     "output_type": "execute_result"
    },
    {
     "data": {
      "image/png": "[encoded data removed]",
      "text/plain": [
       "<Figure size 432x288 with 1 Axes>"
      ]
     },
     "metadata": {
      "needs_background": "light"
     },
     "output_type": "display_data"
    }
   ],
   "source": [
    "#Now let us check the distribution of Violation Types\n",
    "df_v = df.groupby(['violation_code'],as_index=False)['camis'].count()\n",
    "df_v.rename(columns={'camis': 'Count'}, inplace=True)\n",
    "df_v.sort_values(by='Count', ascending=False, inplace=True)\n",
    "df_v.reset_index(drop=True,inplace=True)\n",
    "df_v.head(20).plot.bar(x='violation_code', y='Count')\n",
    "plt.ylabel('Number of Violations')"
   ]
  },
  {
   "cell_type": "code",
   "execution_count": 21,
   "metadata": {},
   "outputs": [],
   "source": [
    "codes = df.violation_code.unique()"
   ]
  },
  {
   "cell_type": "code",
   "execution_count": 22,
   "metadata": {},
   "outputs": [
    {
     "data": {
      "text/plain": [
       "array(['02A', '02B', '02C', '02D', '02E', '02F', '02G', '02H', '02I',\n",
       "       '02J', '03A', '03B', '03C', '03D', '03E', '03F', '03G', '04A',\n",
       "       '04B', '04C', '04D', '04E', '04F', '04G', '04H', '04I', '04J',\n",
       "       '04K', '04L', '04M', '04N', '04O', '05A', '05B', '05C', '05D',\n",
       "       '05E', '05F', '05H', '06A', '06B', '06C', '06D', '06E', '06F',\n",
       "       '06G', '06H', '06I', '07A', '08A', '08B', '08C', '09A', '09B',\n",
       "       '09C', '10A', '10B', '10C', '10D', '10E', '10F', '10G', '10H',\n",
       "       '10I', '10J', '15A1', '15E2', '15E3', '15F1', '15F2', '15F6',\n",
       "       '15F7', '15F8', '15G7', '15I', '15J', '15K', '15L', '15S', '15T',\n",
       "       '16A', '16B', '16C', '16D', '16E', '16F', '17A1', '17A3', '18B',\n",
       "       '18C', '18D', '18F', '18G', '19A1', '19A3', '20A', '20D', '20E',\n",
       "       '20F', '22A', '22B', '22C', '22E', '22F', '22G'], dtype='<U4')"
      ]
     },
     "execution_count": 22,
     "metadata": {},
     "output_type": "execute_result"
    }
   ],
   "source": [
    "np.sort([c for c in codes if isinstance(c, str)])"
   ]
  },
  {
   "cell_type": "code",
   "execution_count": 23,
   "metadata": {},
   "outputs": [
    {
     "name": "stdout",
     "output_type": "stream",
     "text": [
      "Total Number of times Restaurants closed by the Health Inspectors are 16450\n"
     ]
    },
    {
     "data": {
      "text/plain": [
       "Text(0, 0.5, 'Number of Closings')"
      ]
     },
     "execution_count": 23,
     "metadata": {},
     "output_type": "execute_result"
    },
    {
     "data": {
      "image/png": "[encoded data removed]",
      "text/plain": [
       "<Figure size 432x288 with 1 Axes>"
      ]
     },
     "metadata": {
      "needs_background": "light"
     },
     "output_type": "display_data"
    }
   ],
   "source": [
    "my_data_closed = df[df['action'].str.contains(\"Establishment Closed|Establishment re-closed\")]\n",
    "print ('Total Number of times Restaurants closed by the Health Inspectors are',my_data_closed['action'].count())\n",
    "\n",
    "my_data_cr = my_data_closed.groupby(['violation_code'],as_index=False)['camis'].count()\n",
    "my_data_cr.rename(columns={'camis': 'Count'}, inplace=True)\n",
    "my_data_cr.sort_values(by='Count', ascending=False, inplace=True)\n",
    "my_data_cr.reset_index(drop=True,inplace=True)\n",
    "my_data_cr.head(20).plot.bar(x='violation_code', y='Count')\n",
    "plt.ylabel('Number of Closings')"
   ]
  },
  {
   "cell_type": "markdown",
   "metadata": {},
   "source": [
    "# Look at the spatial data!"
   ]
  },
  {
   "cell_type": "code",
   "execution_count": 24,
   "metadata": {},
   "outputs": [],
   "source": [
    "df_single_visits['latitude'].replace(0, np.nan, inplace=True)\n",
    "df_single_visits['longitude'].replace(0, np.nan, inplace=True)"
   ]
  },
  {
   "cell_type": "code",
   "execution_count": 25,
   "metadata": {},
   "outputs": [
    {
     "data": {
      "text/plain": [
       "Text(0, 0.5, 'Latitude')"
      ]
     },
     "execution_count": 25,
     "metadata": {},
     "output_type": "execute_result"
    },
    {
     "data": {
      "image/png": "[encoded data removed]",
      "text/plain": [
       "<Figure size 432x288 with 1 Axes>"
      ]
     },
     "metadata": {
      "needs_background": "light"
     },
     "output_type": "display_data"
    }
   ],
   "source": [
    "fig, ax = plt.subplots(1,1)\n",
    "\n",
    "x = df_single_visits.longitude\n",
    "y = df_single_visits.latitude\n",
    "\n",
    "s = 2\n",
    "\n",
    "img, extent, xedges, yedges = mk_heatmap(x, y, s, bins=1000)\n",
    "ax.imshow(img, extent=extent, origin='lower', cmap=cm.PuRd)\n",
    "ax.set_title(\"Inspecs  $\\sigma$ = %d\" % s)\n",
    "ax.set_xlabel('Longitude')\n",
    "ax.set_ylabel('Latitude')"
   ]
  },
  {
   "cell_type": "markdown",
   "metadata": {},
   "source": [
    "# Other data"
   ]
  },
  {
   "cell_type": "code",
   "execution_count": 26,
   "metadata": {},
   "outputs": [],
   "source": [
    "threeoneone = pd.read_csv('./data/311.csv')\n",
    "nypd = pd.read_csv('./data/nypd.csv')\n",
    "\n",
    "# Replace the missing lats and lons with nan\n",
    "threeoneone['latitude'].replace(0, np.nan, inplace=True)\n",
    "threeoneone['longitude'].replace(0, np.nan, inplace=True)\n",
    "nypd['latitude'].replace(0, np.nan, inplace=True)\n",
    "nypd['longitude'].replace(0, np.nan, inplace=True)\n",
    "\n",
    "# Do date things\n",
    "threeoneone.created_date = pd.to_datetime(threeoneone.created_date)\n",
    "nypd.complaint_date = pd.to_datetime(nypd.complaint_date)\n",
    "\n",
    "\n",
    "# make a column to store which day of the week it is... \n",
    "# Remember that Monday is 0 Sunday = 6\n",
    "threeoneone['weekday'] = threeoneone.created_date.dt.weekday\n",
    "nypd['weekday'] = nypd.complaint_date.dt.weekday"
   ]
  },
  {
   "cell_type": "markdown",
   "metadata": {},
   "source": [
    "# 311"
   ]
  },
  {
   "cell_type": "code",
   "execution_count": 27,
   "metadata": {},
   "outputs": [
    {
     "data": {
      "text/plain": [
       "Text(0, 0.5, 'Latitude')"
      ]
     },
     "execution_count": 27,
     "metadata": {},
     "output_type": "execute_result"
    },
    {
     "data": {
      "image/png": "[encoded data removed]",
      "text/plain": [
       "<Figure size 432x288 with 1 Axes>"
      ]
     },
     "metadata": {
      "needs_background": "light"
     },
     "output_type": "display_data"
    }
   ],
   "source": [
    "fig, ax = plt.subplots(1,1)\n",
    "\n",
    "x = threeoneone.longitude\n",
    "y = threeoneone.latitude\n",
    "\n",
    "s = 2\n",
    "\n",
    "img, extent, xedges, yedges = mk_heatmap(x, y, s, bins=1000)\n",
    "ax.imshow(img, extent=extent, origin='lower', cmap=cm.PuRd)\n",
    "ax.set_title(\"311  $\\sigma$ = %d\" % s)\n",
    "ax.set_xlabel('Longitude')\n",
    "ax.set_ylabel('Latitude')"
   ]
  },
  {
   "cell_type": "code",
   "execution_count": 28,
   "metadata": {},
   "outputs": [
    {
     "name": "stdout",
     "output_type": "stream",
     "text": [
      "<class 'pandas.core.frame.DataFrame'>\n",
      "RangeIndex: 1000000 entries, 0 to 999999\n",
      "Data columns (total 13 columns):\n",
      "created_date      1000000 non-null datetime64[ns]\n",
      "agency            1000000 non-null object\n",
      "complaint_type    1000000 non-null object\n",
      "descriptor        997937 non-null object\n",
      "location_type     571563 non-null object\n",
      "incident_zip      962093 non-null float64\n",
      "address_type      985165 non-null object\n",
      "city              961809 non-null object\n",
      "facility_type     179266 non-null object\n",
      "borough           1000000 non-null object\n",
      "latitude          955827 non-null float64\n",
      "longitude         955827 non-null float64\n",
      "weekday           1000000 non-null int64\n",
      "dtypes: datetime64[ns](1), float64(3), int64(1), object(8)\n",
      "memory usage: 99.2+ MB\n"
     ]
    }
   ],
   "source": [
    "threeoneone.info()"
   ]
  },
  {
   "cell_type": "code",
   "execution_count": 29,
   "metadata": {},
   "outputs": [
    {
     "data": {
      "text/plain": [
       "array(['Sanitation Condition', 'Missed Collection (All Materials)',\n",
       "       'Derelict Vehicles', 'Dirty Conditions', 'Recycling Enforcement',\n",
       "       'Vacant Lot', 'Other Enforcement', 'Derelict Bicycle', 'Snow',\n",
       "       'Graffiti', 'Sweeping/Inadequate', 'Missed Collection',\n",
       "       'Employee Behavior', 'Snow Removal', 'Electronics Waste',\n",
       "       'Litter Basket / Request', 'Sweeping/Missed',\n",
       "       'Overflowing Litter Baskets', 'Request Xmas Tree Collection',\n",
       "       'Request Large Bulky Item Collection',\n",
       "       'Electronics Waste Appointment', 'Sweeping/Missed-Inadequate',\n",
       "       'Adopt-A-Basket', 'Foam Ban Enforcement', 'Collection Truck Noise',\n",
       "       'Overflowing Recycling Baskets'], dtype=object)"
      ]
     },
     "execution_count": 29,
     "metadata": {},
     "output_type": "execute_result"
    }
   ],
   "source": [
    "threeoneone[threeoneone.agency == 'DSNY'].complaint_type.unique()"
   ]
  },
  {
   "cell_type": "code",
   "execution_count": 30,
   "metadata": {},
   "outputs": [
    {
     "data": {
      "text/plain": [
       "array(['Water System', 'Noise', 'Sewer', 'Air Quality',\n",
       "       'Hazardous Materials', 'Water Quality', 'Industrial Waste',\n",
       "       'Water Conservation', 'Lead', 'Asbestos', 'FATF', 'Plant', 'SRDE',\n",
       "       'ATF', 'FCST'], dtype=object)"
      ]
     },
     "execution_count": 30,
     "metadata": {},
     "output_type": "execute_result"
    }
   ],
   "source": [
    "threeoneone[threeoneone.agency == 'DEP'].complaint_type.unique()"
   ]
  },
  {
   "cell_type": "code",
   "execution_count": 31,
   "metadata": {},
   "outputs": [
    {
     "data": {
      "text/plain": [
       "array(['Rodent', 'Unsanitary Animal Pvt Property', 'Food Establishment',\n",
       "       'Food Poisoning', 'Asbestos', 'Smoking', 'Indoor Sewage',\n",
       "       'Animal Facility - No Permit', 'Pet Shop',\n",
       "       'Illegal Animal Kept as Pet', 'Mobile Food Vendor',\n",
       "       'Indoor Air Quality', 'Harboring Bees/Wasps', 'Unleashed Dog',\n",
       "       'Non-Residential Heat', 'Poison Ivy', 'Beach/Pool/Sauna Complaint',\n",
       "       'Day Care', 'Standing Water', 'Mosquitoes', 'Window Guard', 'Mold',\n",
       "       'Unsanitary Pigeon Condition', 'Illegal Animal Sold', 'Tattooing',\n",
       "       'Trans Fat', 'Unlicensed Dog', 'Unsanitary Animal Facility',\n",
       "       'Calorie Labeling', 'Cooling Tower', 'Drinking Water',\n",
       "       'X-Ray Machine/Equipment', 'Radioactive Material', 'Lifeguard',\n",
       "       'Bottled Water', 'Tanning', 'Construction Lead Dust',\n",
       "       'Peeling Paint', 'Forms', 'Asbestos/Garbage Nuisance',\n",
       "       'Trapping Pigeon', 'LEAD', 'MOLD'], dtype=object)"
      ]
     },
     "execution_count": 31,
     "metadata": {},
     "output_type": "execute_result"
    }
   ],
   "source": [
    "threeoneone[threeoneone.agency == 'DOHMH'].complaint_type.unique()"
   ]
  },
  {
   "cell_type": "code",
   "execution_count": 32,
   "metadata": {},
   "outputs": [],
   "source": [
    "from utils.strings import DSNY_311, DEP_311, DOHMH_311"
   ]
  },
  {
   "cell_type": "code",
   "execution_count": 33,
   "metadata": {},
   "outputs": [
    {
     "data": {
      "text/plain": [
       "['Mobile Food Vendor',\n",
       " 'Food Establishment',\n",
       " 'Smoking',\n",
       " 'Trans Fat',\n",
       " 'Calorie Labeling',\n",
       " 'Indoor Air Quality',\n",
       " 'Rodent',\n",
       " 'Standing Water',\n",
       " 'Indoor Sewage',\n",
       " 'Drinking Water',\n",
       " 'Bottled Water',\n",
       " 'Non-Residential Heat',\n",
       " 'Food Poisoning',\n",
       " 'Unsanitary Pigeon Condition',\n",
       " 'Mold',\n",
       " 'Radioactive Material',\n",
       " 'Cooling Tower',\n",
       " 'Asbestos/Garbage Nuisance']"
      ]
     },
     "execution_count": 33,
     "metadata": {},
     "output_type": "execute_result"
    }
   ],
   "source": [
    "DOHMH_311"
   ]
  },
  {
   "cell_type": "code",
   "execution_count": 34,
   "metadata": {},
   "outputs": [],
   "source": [
    "dsny_mask = threeoneone.complaint_type.isin(DOHMH_311)"
   ]
  },
  {
   "cell_type": "code",
   "execution_count": 35,
   "metadata": {},
   "outputs": [
    {
     "data": {
      "text/plain": [
       "Text(0, 0.5, 'Latitude')"
      ]
     },
     "execution_count": 35,
     "metadata": {},
     "output_type": "execute_result"
    },
    {
     "data": {
      "image/png": "[encoded data removed]",
      "text/plain": [
       "<Figure size 432x288 with 1 Axes>"
      ]
     },
     "metadata": {
      "needs_background": "light"
     },
     "output_type": "display_data"
    }
   ],
   "source": [
    "fig, ax = plt.subplots(1,1)\n",
    "\n",
    "x = threeoneone.longitude[dsny_mask]\n",
    "y = threeoneone.latitude[dsny_mask]\n",
    "\n",
    "s = 2\n",
    "\n",
    "img, extent, xedges, yedges = mk_heatmap(x, y, s, bins=1000)\n",
    "ax.imshow(img, extent=extent, origin='lower', cmap=cm.PuRd)\n",
    "ax.set_title(\"311  $\\sigma$ = %d\" % s)\n",
    "ax.set_xlabel('Longitude')\n",
    "ax.set_ylabel('Latitude')"
   ]
  },
  {
   "cell_type": "markdown",
   "metadata": {},
   "source": [
    "# NYPD"
   ]
  },
  {
   "cell_type": "code",
   "execution_count": 62,
   "metadata": {},
   "outputs": [],
   "source": [
    "nypd = pd.read_csv('./data/nypd.csv')\n",
    "nypd.complaint_date = pd.to_datetime(nypd.complaint_date)"
   ]
  },
  {
   "cell_type": "code",
   "execution_count": 63,
   "metadata": {},
   "outputs": [
    {
     "name": "stdout",
     "output_type": "stream",
     "text": [
      "<class 'pandas.core.frame.DataFrame'>\n",
      "RangeIndex: 1000000 entries, 0 to 999999\n",
      "Data columns (total 8 columns):\n",
      "complaint_date           1000000 non-null datetime64[ns]\n",
      "complaint_code           1000000 non-null int64\n",
      "complaint_description    999925 non-null object\n",
      "offense_lvl              1000000 non-null object\n",
      "boro                     999360 non-null object\n",
      "premisis_type            996090 non-null object\n",
      "latitude                 998740 non-null float64\n",
      "longitude                998740 non-null float64\n",
      "dtypes: datetime64[ns](1), float64(2), int64(1), object(4)\n",
      "memory usage: 61.0+ MB\n"
     ]
    }
   ],
   "source": [
    "nypd.info()"
   ]
  },
  {
   "cell_type": "code",
   "execution_count": 64,
   "metadata": {},
   "outputs": [
    {
     "data": {
      "text/plain": [
       "count                 1000000\n",
       "unique                    777\n",
       "top       2017-01-01 00:00:00\n",
       "freq                     2140\n",
       "first     2016-01-02 00:00:00\n",
       "last      2018-02-16 00:00:00\n",
       "Name: complaint_date, dtype: object"
      ]
     },
     "execution_count": 64,
     "metadata": {},
     "output_type": "execute_result"
    }
   ],
   "source": [
    "nypd.complaint_date.describe()"
   ]
  },
  {
   "cell_type": "code",
   "execution_count": 65,
   "metadata": {},
   "outputs": [],
   "source": [
    "# match the descriptions to the complaint codes\n",
    "\n",
    "keys = list(nypd.groupby(['complaint_code', 'complaint_description']).groups.keys())"
   ]
  },
  {
   "cell_type": "code",
   "execution_count": 66,
   "metadata": {},
   "outputs": [
    {
     "data": {
      "text/plain": [
       "[(341, 'PETIT LARCENY'),\n",
       " (578, 'HARRASSMENT 2'),\n",
       " (126, 'MISCELLANEOUS PENAL LAW'),\n",
       " (113, 'FORGERY'),\n",
       " (106, 'FELONY ASSAULT'),\n",
       " (340, 'FRAUDS'),\n",
       " (344, 'ASSAULT 3 & RELATED OFFENSES'),\n",
       " (351, 'CRIMINAL MISCHIEF & RELATED OF'),\n",
       " (109, 'GRAND LARCENY'),\n",
       " (235, 'DANGEROUS DRUGS'),\n",
       " (118, 'DANGEROUS WEAPONS'),\n",
       " (105, 'ROBBERY'),\n",
       " (110, 'GRAND LARCENY OF MOTOR VEHICLE'),\n",
       " (114, 'ARSON'),\n",
       " (352, 'CRIMINAL TRESPASS'),\n",
       " (107, 'BURGLARY'),\n",
       " (117, 'DANGEROUS DRUGS'),\n",
       " (121, 'CRIMINAL MISCHIEF & RELATED OF'),\n",
       " (353, 'UNAUTHORIZED USE OF A VEHICLE'),\n",
       " (361, 'OFF. AGNST PUB ORD SENSBLTY &'),\n",
       " (359, 'OFFENSES AGAINST PUBLIC ADMINI'),\n",
       " (348, 'VEHICLE AND TRAFFIC LAWS'),\n",
       " (125, 'NYS LAWS-UNCLASSIFIED FELONY'),\n",
       " (347, 'INTOXICATED & IMPAIRED DRIVING'),\n",
       " (112, 'THEFT-FRAUD'),\n",
       " (358, 'OFFENSES INVOLVING FRAUD'),\n",
       " (233, 'SEX CRIMES'),\n",
       " (116, 'SEX CRIMES'),\n",
       " (236, 'DANGEROUS WEAPONS'),\n",
       " (343, 'OTHER OFFENSES RELATED TO THEF'),\n",
       " (343, 'THEFT OF SERVICES'),\n",
       " (355, 'OFFENSES AGAINST THE PERSON'),\n",
       " (232, 'POSSESSION OF STOLEN PROPERTY'),\n",
       " (104, 'RAPE'),\n",
       " (111, 'POSSESSION OF STOLEN PROPERTY'),\n",
       " (345, 'OFFENSES RELATED TO CHILDREN'),\n",
       " (365, 'ADMINISTRATIVE CODE'),\n",
       " (678, 'MISCELLANEOUS PENAL LAW'),\n",
       " (364, 'AGRICULTURE & MRKTS LAW-UNCLASSIFIED'),\n",
       " (675, 'ADMINISTRATIVE CODE'),\n",
       " (342, 'PETIT LARCENY OF MOTOR VEHICLE'),\n",
       " (101, 'MURDER & NON-NEGL. MANSLAUGHTER'),\n",
       " (364, 'OTHER STATE LAWS (NON PENAL LA'),\n",
       " (572, 'DISORDERLY CONDUCT'),\n",
       " (120, 'CHILD ABANDONMENT/NON SUPPORT'),\n",
       " (350, 'GAMBLING'),\n",
       " (364, nan),\n",
       " (238, 'FRAUDULENT ACCOSTING'),\n",
       " (231, \"BURGLAR'S TOOLS\"),\n",
       " (363, 'OFFENSES AGAINST PUBLIC SAFETY'),\n",
       " (354, 'ANTICIPATORY OFFENSES'),\n",
       " (124, 'KIDNAPPING & RELATED OFFENSES'),\n",
       " (120, 'ENDAN WELFARE INCOMP'),\n",
       " (346, 'ALCOHOLIC BEVERAGE CONTROL LAW'),\n",
       " (230, 'JOSTLING'),\n",
       " (677, 'NYS LAWS-UNCLASSIFIED VIOLATION'),\n",
       " (685, 'ADMINISTRATIVE CODES'),\n",
       " (345, 'ENDAN WELFARE INCOMP'),\n",
       " (677, 'OTHER STATE LAWS'),\n",
       " (124, 'KIDNAPPING'),\n",
       " (676, 'NEW YORK CITY HEALTH CODE'),\n",
       " (115, 'PROSTITUTION & RELATED OFFENSES'),\n",
       " (356, 'PROSTITUTION & RELATED OFFENSES'),\n",
       " (103, 'HOMICIDE-NEGLIGENT,UNCLASSIFIE'),\n",
       " (237, 'ESCAPE 3'),\n",
       " (364, 'OTHER STATE LAWS (NON PENAL LAW)'),\n",
       " (126, nan),\n",
       " (349, 'DISRUPTION OF A RELIGIOUS SERV'),\n",
       " (455, 'UNLAWFUL POSS. WEAP. ON SCHOOL'),\n",
       " (571, 'LOITERING/GAMBLING (CARDS, DIC'),\n",
       " (122, 'GAMBLING'),\n",
       " (361, nan),\n",
       " (366, 'NEW YORK CITY HEALTH CODE'),\n",
       " (234, 'PROSTITUTION & RELATED OFFENSES'),\n",
       " (102, 'HOMICIDE-NEGLIGENT-VEHICLE'),\n",
       " (672, 'LOITERING'),\n",
       " (119, 'INTOXICATED/IMPAIRED DRIVING'),\n",
       " (675, nan),\n",
       " (125, 'OTHER STATE LAWS (NON PENAL LA'),\n",
       " (356, nan),\n",
       " (123, 'ABORTION')]"
      ]
     },
     "execution_count": 66,
     "metadata": {},
     "output_type": "execute_result"
    }
   ],
   "source": [
    "keys"
   ]
  },
  {
   "cell_type": "code",
   "execution_count": 67,
   "metadata": {},
   "outputs": [
    {
     "data": {
      "text/plain": [
       "{'PETIT LARCENY': 341,\n",
       " 'HARRASSMENT 2': 578,\n",
       " nan: 356,\n",
       " 'FORGERY': 113,\n",
       " 'FELONY ASSAULT': 106,\n",
       " 'FRAUDS': 340,\n",
       " 'ASSAULT 3 & RELATED OFFENSES': 344,\n",
       " 'CRIMINAL MISCHIEF & RELATED OF': 121,\n",
       " 'GRAND LARCENY': 109,\n",
       " 'DANGEROUS DRUGS': 117,\n",
       " 'DANGEROUS WEAPONS': 236,\n",
       " 'ROBBERY': 105,\n",
       " 'GRAND LARCENY OF MOTOR VEHICLE': 110,\n",
       " 'ARSON': 114,\n",
       " 'CRIMINAL TRESPASS': 352,\n",
       " 'BURGLARY': 107,\n",
       " 'UNAUTHORIZED USE OF A VEHICLE': 353,\n",
       " 'OFFENSES AGAINST PUBLIC ADMINI': 359,\n",
       " 'VEHICLE AND TRAFFIC LAWS': 348,\n",
       " 'OTHER STATE LAWS (NON PENAL LA': 125,\n",
       " 'INTOXICATED & IMPAIRED DRIVING': 347,\n",
       " 'THEFT-FRAUD': 112,\n",
       " 'OFFENSES INVOLVING FRAUD': 358,\n",
       " 'SEX CRIMES': 116,\n",
       " 'THEFT OF SERVICES': 343,\n",
       " 'OFFENSES AGAINST THE PERSON': 355,\n",
       " 'POSSESSION OF STOLEN PROPERTY': 111,\n",
       " 'RAPE': 104,\n",
       " 'ENDAN WELFARE INCOMP': 120,\n",
       " 'ADMINISTRATIVE CODE': 365,\n",
       " 'MISCELLANEOUS PENAL LAW': 678,\n",
       " 'OTHER STATE LAWS (NON PENAL LAW)': 364,\n",
       " 'PETIT LARCENY OF MOTOR VEHICLE': 342,\n",
       " 'MURDER & NON-NEGL. MANSLAUGHTER': 101,\n",
       " 'DISORDERLY CONDUCT': 572,\n",
       " 'GAMBLING': 122,\n",
       " 'FRAUDULENT ACCOSTING': 238,\n",
       " \"BURGLAR'S TOOLS\": 231,\n",
       " 'OFFENSES AGAINST PUBLIC SAFETY': 363,\n",
       " 'ANTICIPATORY OFFENSES': 354,\n",
       " 'KIDNAPPING': 124,\n",
       " 'ALCOHOLIC BEVERAGE CONTROL LAW': 346,\n",
       " 'JOSTLING': 230,\n",
       " 'OTHER STATE LAWS': 677,\n",
       " 'ADMINISTRATIVE CODES': 685,\n",
       " 'NEW YORK CITY HEALTH CODE': 366,\n",
       " 'PROSTITUTION & RELATED OFFENSES': 234,\n",
       " 'HOMICIDE-NEGLIGENT,UNCLASSIFIE': 103,\n",
       " 'ESCAPE 3': 237,\n",
       " 'DISRUPTION OF A RELIGIOUS SERV': 349,\n",
       " 'UNLAWFUL POSS. WEAP. ON SCHOOL': 455,\n",
       " 'LOITERING/GAMBLING (CARDS, DIC': 571,\n",
       " 'HOMICIDE-NEGLIGENT-VEHICLE': 102,\n",
       " 'LOITERING': 672,\n",
       " 'INTOXICATED/IMPAIRED DRIVING': 119,\n",
       " 'ABORTION': 123}"
      ]
     },
     "execution_count": 67,
     "metadata": {},
     "output_type": "execute_result"
    }
   ],
   "source": [
    "# gonna put this in utils/strings.py \n",
    "complaint_codes = dict(keys)\n",
    "# invert to use the descriptions to get the codes\n",
    "complaint_desc = dict([[v,k] for k,v in complaint_codes.items()])\n",
    "\n",
    "complaint_desc"
   ]
  },
  {
   "cell_type": "markdown",
   "metadata": {},
   "source": [
    "The only things we are really interested (at least initially) in are:\n",
    "robbery, burglary and maybe criminal tresspassing.... start with burglary... "
   ]
  },
  {
   "cell_type": "code",
   "execution_count": 68,
   "metadata": {},
   "outputs": [],
   "source": [
    "nypd_burglary = nypd[nypd.complaint_code == complaint_desc['BURGLARY']]"
   ]
  },
  {
   "cell_type": "code",
   "execution_count": 69,
   "metadata": {},
   "outputs": [
    {
     "data": {
      "text/plain": [
       "count                   26577\n",
       "unique                    777\n",
       "top       2016-11-23 00:00:00\n",
       "freq                       70\n",
       "first     2016-01-02 00:00:00\n",
       "last      2018-02-16 00:00:00\n",
       "Name: complaint_date, dtype: object"
      ]
     },
     "execution_count": 69,
     "metadata": {},
     "output_type": "execute_result"
    }
   ],
   "source": [
    "nypd_burglary.complaint_date.describe()"
   ]
  },
  {
   "cell_type": "markdown",
   "metadata": {},
   "source": [
    "# Seems that we are missing a bunch of data from the NYPD\n",
    "\n",
    "The full data set has more data, but I don't know why we are missing data. Might have to use the full set."
   ]
  },
  {
   "cell_type": "code",
   "execution_count": 44,
   "metadata": {},
   "outputs": [
    {
     "name": "stderr",
     "output_type": "stream",
     "text": [
      "/home/boada/.local/lib/python3.7/site-packages/IPython/core/interactiveshell.py:3058: DtypeWarning: Columns (18,20) have mixed types. Specify dtype option on import or set low_memory=False.\n",
      "  interactivity=interactivity, compiler=compiler, result=result)\n"
     ]
    }
   ],
   "source": [
    "nypd = pd.read_csv('./data/full/NYPD_Complaint_Data_Historic.csv')"
   ]
  },
  {
   "cell_type": "code",
   "execution_count": 45,
   "metadata": {},
   "outputs": [
    {
     "name": "stdout",
     "output_type": "stream",
     "text": [
      "<class 'pandas.core.frame.DataFrame'>\n",
      "RangeIndex: 6500870 entries, 0 to 6500869\n",
      "Data columns (total 35 columns):\n",
      "CMPLNT_NUM           int64\n",
      "CMPLNT_FR_DT         object\n",
      "CMPLNT_FR_TM         object\n",
      "CMPLNT_TO_DT         object\n",
      "CMPLNT_TO_TM         object\n",
      "ADDR_PCT_CD          float64\n",
      "RPT_DT               object\n",
      "KY_CD                int64\n",
      "OFNS_DESC            object\n",
      "PD_CD                float64\n",
      "PD_DESC              object\n",
      "CRM_ATPT_CPTD_CD     object\n",
      "LAW_CAT_CD           object\n",
      "BORO_NM              object\n",
      "LOC_OF_OCCUR_DESC    object\n",
      "PREM_TYP_DESC        object\n",
      "JURIS_DESC           object\n",
      "JURISDICTION_CODE    float64\n",
      "PARKS_NM             object\n",
      "HADEVELOPT           object\n",
      "HOUSING_PSA          object\n",
      "X_COORD_CD           float64\n",
      "Y_COORD_CD           float64\n",
      "SUSP_AGE_GROUP       object\n",
      "SUSP_RACE            object\n",
      "SUSP_SEX             object\n",
      "TRANSIT_DISTRICT     float64\n",
      "Latitude             float64\n",
      "Longitude            float64\n",
      "Lat_Lon              object\n",
      "PATROL_BORO          object\n",
      "STATION_NAME         object\n",
      "VIC_AGE_GROUP        object\n",
      "VIC_RACE             object\n",
      "VIC_SEX              object\n",
      "dtypes: float64(8), int64(2), object(25)\n",
      "memory usage: 1.7+ GB\n"
     ]
    }
   ],
   "source": [
    "nypd.info()"
   ]
  },
  {
   "cell_type": "code",
   "execution_count": 46,
   "metadata": {},
   "outputs": [],
   "source": [
    "nypd.CMPLNT_FR_DT = pd.to_datetime(nypd.CMPLNT_FR_DT, errors='coerce')"
   ]
  },
  {
   "cell_type": "code",
   "execution_count": 47,
   "metadata": {},
   "outputs": [
    {
     "name": "stdout",
     "output_type": "stream",
     "text": [
      "<class 'pandas.core.frame.DataFrame'>\n",
      "RangeIndex: 6500870 entries, 0 to 6500869\n",
      "Data columns (total 35 columns):\n",
      "CMPLNT_NUM           int64\n",
      "CMPLNT_FR_DT         datetime64[ns]\n",
      "CMPLNT_FR_TM         object\n",
      "CMPLNT_TO_DT         object\n",
      "CMPLNT_TO_TM         object\n",
      "ADDR_PCT_CD          float64\n",
      "RPT_DT               object\n",
      "KY_CD                int64\n",
      "OFNS_DESC            object\n",
      "PD_CD                float64\n",
      "PD_DESC              object\n",
      "CRM_ATPT_CPTD_CD     object\n",
      "LAW_CAT_CD           object\n",
      "BORO_NM              object\n",
      "LOC_OF_OCCUR_DESC    object\n",
      "PREM_TYP_DESC        object\n",
      "JURIS_DESC           object\n",
      "JURISDICTION_CODE    float64\n",
      "PARKS_NM             object\n",
      "HADEVELOPT           object\n",
      "HOUSING_PSA          object\n",
      "X_COORD_CD           float64\n",
      "Y_COORD_CD           float64\n",
      "SUSP_AGE_GROUP       object\n",
      "SUSP_RACE            object\n",
      "SUSP_SEX             object\n",
      "TRANSIT_DISTRICT     float64\n",
      "Latitude             float64\n",
      "Longitude            float64\n",
      "Lat_Lon              object\n",
      "PATROL_BORO          object\n",
      "STATION_NAME         object\n",
      "VIC_AGE_GROUP        object\n",
      "VIC_RACE             object\n",
      "VIC_SEX              object\n",
      "dtypes: datetime64[ns](1), float64(8), int64(2), object(24)\n",
      "memory usage: 1.7+ GB\n"
     ]
    }
   ],
   "source": [
    "nypd.info()"
   ]
  },
  {
   "cell_type": "code",
   "execution_count": 48,
   "metadata": {},
   "outputs": [],
   "source": [
    "nypd.dropna(subset=['CMPLNT_FR_DT'], inplace=True)"
   ]
  },
  {
   "cell_type": "code",
   "execution_count": 49,
   "metadata": {},
   "outputs": [
    {
     "name": "stdout",
     "output_type": "stream",
     "text": [
      "<class 'pandas.core.frame.DataFrame'>\n",
      "Int64Index: 6500119 entries, 0 to 6500869\n",
      "Data columns (total 35 columns):\n",
      "CMPLNT_NUM           int64\n",
      "CMPLNT_FR_DT         datetime64[ns]\n",
      "CMPLNT_FR_TM         object\n",
      "CMPLNT_TO_DT         object\n",
      "CMPLNT_TO_TM         object\n",
      "ADDR_PCT_CD          float64\n",
      "RPT_DT               object\n",
      "KY_CD                int64\n",
      "OFNS_DESC            object\n",
      "PD_CD                float64\n",
      "PD_DESC              object\n",
      "CRM_ATPT_CPTD_CD     object\n",
      "LAW_CAT_CD           object\n",
      "BORO_NM              object\n",
      "LOC_OF_OCCUR_DESC    object\n",
      "PREM_TYP_DESC        object\n",
      "JURIS_DESC           object\n",
      "JURISDICTION_CODE    float64\n",
      "PARKS_NM             object\n",
      "HADEVELOPT           object\n",
      "HOUSING_PSA          object\n",
      "X_COORD_CD           float64\n",
      "Y_COORD_CD           float64\n",
      "SUSP_AGE_GROUP       object\n",
      "SUSP_RACE            object\n",
      "SUSP_SEX             object\n",
      "TRANSIT_DISTRICT     float64\n",
      "Latitude             float64\n",
      "Longitude            float64\n",
      "Lat_Lon              object\n",
      "PATROL_BORO          object\n",
      "STATION_NAME         object\n",
      "VIC_AGE_GROUP        object\n",
      "VIC_RACE             object\n",
      "VIC_SEX              object\n",
      "dtypes: datetime64[ns](1), float64(8), int64(2), object(24)\n",
      "memory usage: 1.7+ GB\n"
     ]
    }
   ],
   "source": [
    "nypd.info()"
   ]
  },
  {
   "cell_type": "markdown",
   "metadata": {},
   "source": [
    "### This is how we are going to use the full data to select only the stuff we need."
   ]
  },
  {
   "cell_type": "code",
   "execution_count": 50,
   "metadata": {},
   "outputs": [
    {
     "name": "stderr",
     "output_type": "stream",
     "text": [
      "/home/boada/.local/lib/python3.7/site-packages/ipykernel_launcher.py:6: UserWarning: Boolean Series key will be reindexed to match DataFrame index.\n",
      "  \n"
     ]
    }
   ],
   "source": [
    "end_date = pd.to_datetime('2019-01-01')\n",
    "start_date = end_date - pd.to_timedelta(90, unit='days')\n",
    "# can also use\n",
    "# import datetime as dt\n",
    "# dt.timedelta(days=5)\n",
    "nypd_test = select_by_date(nypd, start_date, end_date)[nypd.KY_CD == complaint_desc['BURGLARY']]"
   ]
  },
  {
   "cell_type": "code",
   "execution_count": 60,
   "metadata": {},
   "outputs": [
    {
     "data": {
      "application/javascript": [
       "/* Put everything inside the global mpl namespace */\n",
       "window.mpl = {};\n",
       "\n",
       "\n",
       "mpl.get_websocket_type = function() {\n",
       "    if (typeof(WebSocket) !== 'undefined') {\n",
       "        return WebSocket;\n",
       "    } else if (typeof(MozWebSocket) !== 'undefined') {\n",
       "        return MozWebSocket;\n",
       "    } else {\n",
       "        alert('Your browser does not have WebSocket support. ' +\n",
       "              'Please try Chrome, Safari or Firefox ≥ 6. ' +\n",
       "              'Firefox 4 and 5 are also supported but you ' +\n",
       "              'have to enable WebSockets in about:config.');\n",
       "    };\n",
       "}\n",
       "\n",
       "mpl.figure = function(figure_id, websocket, ondownload, parent_element) {\n",
       "    this.id = figure_id;\n",
       "\n",
       "    this.ws = websocket;\n",
       "\n",
       "    this.supports_binary = (this.ws.binaryType != undefined);\n",
       "\n",
       "    if (!this.supports_binary) {\n",
       "        var warnings = document.getElementById(\"mpl-warnings\");\n",
       "        if (warnings) {\n",
       "            warnings.style.display = 'block';\n",
       "            warnings.textContent = (\n",
       "                \"This browser does not support binary websocket messages. \" +\n",
       "                    \"Performance may be slow.\");\n",
       "        }\n",
       "    }\n",
       "\n",
       "    this.imageObj = new Image();\n",
       "\n",
       "    this.context = undefined;\n",
       "    this.message = undefined;\n",
       "    this.canvas = undefined;\n",
       "    this.rubberband_canvas = undefined;\n",
       "    this.rubberband_context = undefined;\n",
       "    this.format_dropdown = undefined;\n",
       "\n",
       "    this.image_mode = 'full';\n",
       "\n",
       "    this.root = $('<div/>');\n",
       "    this._root_extra_style(this.root)\n",
       "    this.root.attr('style', 'display: inline-block');\n",
       "\n",
       "    $(parent_element).append(this.root);\n",
       "\n",
       "    this._init_header(this);\n",
       "    this._init_canvas(this);\n",
       "    this._init_toolbar(this);\n",
       "\n",
       "    var fig = this;\n",
       "\n",
       "    this.waiting = false;\n",
       "\n",
       "    this.ws.onopen =  function () {\n",
       "            fig.send_message(\"supports_binary\", {value: fig.supports_binary});\n",
       "            fig.send_message(\"send_image_mode\", {});\n",
       "            if (mpl.ratio != 1) {\n",
       "                fig.send_message(\"set_dpi_ratio\", {'dpi_ratio': mpl.ratio});\n",
       "            }\n",
       "            fig.send_message(\"refresh\", {});\n",
       "        }\n",
       "\n",
       "    this.imageObj.onload = function() {\n",
       "            if (fig.image_mode == 'full') {\n",
       "                // Full images could contain transparency (where diff images\n",
       "                // almost always do), so we need to clear the canvas so that\n",
       "                // there is no ghosting.\n",
       "                fig.context.clearRect(0, 0, fig.canvas.width, fig.canvas.height);\n",
       "            }\n",
       "            fig.context.drawImage(fig.imageObj, 0, 0);\n",
       "        };\n",
       "\n",
       "    this.imageObj.onunload = function() {\n",
       "        fig.ws.close();\n",
       "    }\n",
       "\n",
       "    this.ws.onmessage = this._make_on_message_function(this);\n",
       "\n",
       "    this.ondownload = ondownload;\n",
       "}\n",
       "\n",
       "mpl.figure.prototype._init_header = function() {\n",
       "    var titlebar = $(\n",
       "        '<div class=\"ui-dialog-titlebar ui-widget-header ui-corner-all ' +\n",
       "        'ui-helper-clearfix\"/>');\n",
       "    var titletext = $(\n",
       "        '<div class=\"ui-dialog-title\" style=\"width: 100%; ' +\n",
       "        'text-align: center; padding: 3px;\"/>');\n",
       "    titlebar.append(titletext)\n",
       "    this.root.append(titlebar);\n",
       "    this.header = titletext[0];\n",
       "}\n",
       "\n",
       "\n",
       "\n",
       "mpl.figure.prototype._canvas_extra_style = function(canvas_div) {\n",
       "\n",
       "}\n",
       "\n",
       "\n",
       "mpl.figure.prototype._root_extra_style = function(canvas_div) {\n",
       "\n",
       "}\n",
       "\n",
       "mpl.figure.prototype._init_canvas = function() {\n",
       "    var fig = this;\n",
       "\n",
       "    var canvas_div = $('<div/>');\n",
       "\n",
       "    canvas_div.attr('style', 'position: relative; clear: both; outline: 0');\n",
       "\n",
       "    function canvas_keyboard_event(event) {\n",
       "        return fig.key_event(event, event['data']);\n",
       "    }\n",
       "\n",
       "    canvas_div.keydown('key_press', canvas_keyboard_event);\n",
       "    canvas_div.keyup('key_release', canvas_keyboard_event);\n",
       "    this.canvas_div = canvas_div\n",
       "    this._canvas_extra_style(canvas_div)\n",
       "    this.root.append(canvas_div);\n",
       "\n",
       "    var canvas = $('<canvas/>');\n",
       "    canvas.addClass('mpl-canvas');\n",
       "    canvas.attr('style', \"left: 0; top: 0; z-index: 0; outline: 0\")\n",
       "\n",
       "    this.canvas = canvas[0];\n",
       "    this.context = canvas[0].getContext(\"2d\");\n",
       "\n",
       "    var backingStore = this.context.backingStorePixelRatio ||\n",
       "\tthis.context.webkitBackingStorePixelRatio ||\n",
       "\tthis.context.mozBackingStorePixelRatio ||\n",
       "\tthis.context.msBackingStorePixelRatio ||\n",
       "\tthis.context.oBackingStorePixelRatio ||\n",
       "\tthis.context.backingStorePixelRatio || 1;\n",
       "\n",
       "    mpl.ratio = (window.devicePixelRatio || 1) / backingStore;\n",
       "\n",
       "    var rubberband = $('<canvas/>');\n",
       "    rubberband.attr('style', \"position: absolute; left: 0; top: 0; z-index: 1;\")\n",
       "\n",
       "    var pass_mouse_events = true;\n",
       "\n",
       "    canvas_div.resizable({\n",
       "        start: function(event, ui) {\n",
       "            pass_mouse_events = false;\n",
       "        },\n",
       "        resize: function(event, ui) {\n",
       "            fig.request_resize(ui.size.width, ui.size.height);\n",
       "        },\n",
       "        stop: function(event, ui) {\n",
       "            pass_mouse_events = true;\n",
       "            fig.request_resize(ui.size.width, ui.size.height);\n",
       "        },\n",
       "    });\n",
       "\n",
       "    function mouse_event_fn(event) {\n",
       "        if (pass_mouse_events)\n",
       "            return fig.mouse_event(event, event['data']);\n",
       "    }\n",
       "\n",
       "    rubberband.mousedown('button_press', mouse_event_fn);\n",
       "    rubberband.mouseup('button_release', mouse_event_fn);\n",
       "    // Throttle sequential mouse events to 1 every 20ms.\n",
       "    rubberband.mousemove('motion_notify', mouse_event_fn);\n",
       "\n",
       "    rubberband.mouseenter('figure_enter', mouse_event_fn);\n",
       "    rubberband.mouseleave('figure_leave', mouse_event_fn);\n",
       "\n",
       "    canvas_div.on(\"wheel\", function (event) {\n",
       "        event = event.originalEvent;\n",
       "        event['data'] = 'scroll'\n",
       "        if (event.deltaY < 0) {\n",
       "            event.step = 1;\n",
       "        } else {\n",
       "            event.step = -1;\n",
       "        }\n",
       "        mouse_event_fn(event);\n",
       "    });\n",
       "\n",
       "    canvas_div.append(canvas);\n",
       "    canvas_div.append(rubberband);\n",
       "\n",
       "    this.rubberband = rubberband;\n",
       "    this.rubberband_canvas = rubberband[0];\n",
       "    this.rubberband_context = rubberband[0].getContext(\"2d\");\n",
       "    this.rubberband_context.strokeStyle = \"#000000\";\n",
       "\n",
       "    this._resize_canvas = function(width, height) {\n",
       "        // Keep the size of the canvas, canvas container, and rubber band\n",
       "        // canvas in synch.\n",
       "        canvas_div.css('width', width)\n",
       "        canvas_div.css('height', height)\n",
       "\n",
       "        canvas.attr('width', width * mpl.ratio);\n",
       "        canvas.attr('height', height * mpl.ratio);\n",
       "        canvas.attr('style', 'width: ' + width + 'px; height: ' + height + 'px;');\n",
       "\n",
       "        rubberband.attr('width', width);\n",
       "        rubberband.attr('height', height);\n",
       "    }\n",
       "\n",
       "    // Set the figure to an initial 600x600px, this will subsequently be updated\n",
       "    // upon first draw.\n",
       "    this._resize_canvas(600, 600);\n",
       "\n",
       "    // Disable right mouse context menu.\n",
       "    $(this.rubberband_canvas).bind(\"contextmenu\",function(e){\n",
       "        return false;\n",
       "    });\n",
       "\n",
       "    function set_focus () {\n",
       "        canvas.focus();\n",
       "        canvas_div.focus();\n",
       "    }\n",
       "\n",
       "    window.setTimeout(set_focus, 100);\n",
       "}\n",
       "\n",
       "mpl.figure.prototype._init_toolbar = function() {\n",
       "    var fig = this;\n",
       "\n",
       "    var nav_element = $('<div/>');\n",
       "    nav_element.attr('style', 'width: 100%');\n",
       "    this.root.append(nav_element);\n",
       "\n",
       "    // Define a callback function for later on.\n",
       "    function toolbar_event(event) {\n",
       "        return fig.toolbar_button_onclick(event['data']);\n",
       "    }\n",
       "    function toolbar_mouse_event(event) {\n",
       "        return fig.toolbar_button_onmouseover(event['data']);\n",
       "    }\n",
       "\n",
       "    for(var toolbar_ind in mpl.toolbar_items) {\n",
       "        var name = mpl.toolbar_items[toolbar_ind][0];\n",
       "        var tooltip = mpl.toolbar_items[toolbar_ind][1];\n",
       "        var image = mpl.toolbar_items[toolbar_ind][2];\n",
       "        var method_name = mpl.toolbar_items[toolbar_ind][3];\n",
       "\n",
       "        if (!name) {\n",
       "            // put a spacer in here.\n",
       "            continue;\n",
       "        }\n",
       "        var button = $('<button/>');\n",
       "        button.addClass('ui-button ui-widget ui-state-default ui-corner-all ' +\n",
       "                        'ui-button-icon-only');\n",
       "        button.attr('role', 'button');\n",
       "        button.attr('aria-disabled', 'false');\n",
       "        button.click(method_name, toolbar_event);\n",
       "        button.mouseover(tooltip, toolbar_mouse_event);\n",
       "\n",
       "        var icon_img = $('<span/>');\n",
       "        icon_img.addClass('ui-button-icon-primary ui-icon');\n",
       "        icon_img.addClass(image);\n",
       "        icon_img.addClass('ui-corner-all');\n",
       "\n",
       "        var tooltip_span = $('<span/>');\n",
       "        tooltip_span.addClass('ui-button-text');\n",
       "        tooltip_span.html(tooltip);\n",
       "\n",
       "        button.append(icon_img);\n",
       "        button.append(tooltip_span);\n",
       "\n",
       "        nav_element.append(button);\n",
       "    }\n",
       "\n",
       "    var fmt_picker_span = $('<span/>');\n",
       "\n",
       "    var fmt_picker = $('<select/>');\n",
       "    fmt_picker.addClass('mpl-toolbar-option ui-widget ui-widget-content');\n",
       "    fmt_picker_span.append(fmt_picker);\n",
       "    nav_element.append(fmt_picker_span);\n",
       "    this.format_dropdown = fmt_picker[0];\n",
       "\n",
       "    for (var ind in mpl.extensions) {\n",
       "        var fmt = mpl.extensions[ind];\n",
       "        var option = $(\n",
       "            '<option/>', {selected: fmt === mpl.default_extension}).html(fmt);\n",
       "        fmt_picker.append(option);\n",
       "    }\n",
       "\n",
       "    // Add hover states to the ui-buttons\n",
       "    $( \".ui-button\" ).hover(\n",
       "        function() { $(this).addClass(\"ui-state-hover\");},\n",
       "        function() { $(this).removeClass(\"ui-state-hover\");}\n",
       "    );\n",
       "\n",
       "    var status_bar = $('<span class=\"mpl-message\"/>');\n",
       "    nav_element.append(status_bar);\n",
       "    this.message = status_bar[0];\n",
       "}\n",
       "\n",
       "mpl.figure.prototype.request_resize = function(x_pixels, y_pixels) {\n",
       "    // Request matplotlib to resize the figure. Matplotlib will then trigger a resize in the client,\n",
       "    // which will in turn request a refresh of the image.\n",
       "    this.send_message('resize', {'width': x_pixels, 'height': y_pixels});\n",
       "}\n",
       "\n",
       "mpl.figure.prototype.send_message = function(type, properties) {\n",
       "    properties['type'] = type;\n",
       "    properties['figure_id'] = this.id;\n",
       "    this.ws.send(JSON.stringify(properties));\n",
       "}\n",
       "\n",
       "mpl.figure.prototype.send_draw_message = function() {\n",
       "    if (!this.waiting) {\n",
       "        this.waiting = true;\n",
       "        this.ws.send(JSON.stringify({type: \"draw\", figure_id: this.id}));\n",
       "    }\n",
       "}\n",
       "\n",
       "\n",
       "mpl.figure.prototype.handle_save = function(fig, msg) {\n",
       "    var format_dropdown = fig.format_dropdown;\n",
       "    var format = format_dropdown.options[format_dropdown.selectedIndex].value;\n",
       "    fig.ondownload(fig, format);\n",
       "}\n",
       "\n",
       "\n",
       "mpl.figure.prototype.handle_resize = function(fig, msg) {\n",
       "    var size = msg['size'];\n",
       "    if (size[0] != fig.canvas.width || size[1] != fig.canvas.height) {\n",
       "        fig._resize_canvas(size[0], size[1]);\n",
       "        fig.send_message(\"refresh\", {});\n",
       "    };\n",
       "}\n",
       "\n",
       "mpl.figure.prototype.handle_rubberband = function(fig, msg) {\n",
       "    var x0 = msg['x0'] / mpl.ratio;\n",
       "    var y0 = (fig.canvas.height - msg['y0']) / mpl.ratio;\n",
       "    var x1 = msg['x1'] / mpl.ratio;\n",
       "    var y1 = (fig.canvas.height - msg['y1']) / mpl.ratio;\n",
       "    x0 = Math.floor(x0) + 0.5;\n",
       "    y0 = Math.floor(y0) + 0.5;\n",
       "    x1 = Math.floor(x1) + 0.5;\n",
       "    y1 = Math.floor(y1) + 0.5;\n",
       "    var min_x = Math.min(x0, x1);\n",
       "    var min_y = Math.min(y0, y1);\n",
       "    var width = Math.abs(x1 - x0);\n",
       "    var height = Math.abs(y1 - y0);\n",
       "\n",
       "    fig.rubberband_context.clearRect(\n",
       "        0, 0, fig.canvas.width / mpl.ratio, fig.canvas.height / mpl.ratio);\n",
       "\n",
       "    fig.rubberband_context.strokeRect(min_x, min_y, width, height);\n",
       "}\n",
       "\n",
       "mpl.figure.prototype.handle_figure_label = function(fig, msg) {\n",
       "    // Updates the figure title.\n",
       "    fig.header.textContent = msg['label'];\n",
       "}\n",
       "\n",
       "mpl.figure.prototype.handle_cursor = function(fig, msg) {\n",
       "    var cursor = msg['cursor'];\n",
       "    switch(cursor)\n",
       "    {\n",
       "    case 0:\n",
       "        cursor = 'pointer';\n",
       "        break;\n",
       "    case 1:\n",
       "        cursor = 'default';\n",
       "        break;\n",
       "    case 2:\n",
       "        cursor = 'crosshair';\n",
       "        break;\n",
       "    case 3:\n",
       "        cursor = 'move';\n",
       "        break;\n",
       "    }\n",
       "    fig.rubberband_canvas.style.cursor = cursor;\n",
       "}\n",
       "\n",
       "mpl.figure.prototype.handle_message = function(fig, msg) {\n",
       "    fig.message.textContent = msg['message'];\n",
       "}\n",
       "\n",
       "mpl.figure.prototype.handle_draw = function(fig, msg) {\n",
       "    // Request the server to send over a new figure.\n",
       "    fig.send_draw_message();\n",
       "}\n",
       "\n",
       "mpl.figure.prototype.handle_image_mode = function(fig, msg) {\n",
       "    fig.image_mode = msg['mode'];\n",
       "}\n",
       "\n",
       "mpl.figure.prototype.updated_canvas_event = function() {\n",
       "    // Called whenever the canvas gets updated.\n",
       "    this.send_message(\"ack\", {});\n",
       "}\n",
       "\n",
       "// A function to construct a web socket function for onmessage handling.\n",
       "// Called in the figure constructor.\n",
       "mpl.figure.prototype._make_on_message_function = function(fig) {\n",
       "    return function socket_on_message(evt) {\n",
       "        if (evt.data instanceof Blob) {\n",
       "            /* FIXME: We get \"Resource interpreted as Image but\n",
       "             * transferred with MIME type text/plain:\" errors on\n",
       "             * Chrome.  But how to set the MIME type?  It doesn't seem\n",
       "             * to be part of the websocket stream */\n",
       "            evt.data.type = \"image/png\";\n",
       "\n",
       "            /* Free the memory for the previous frames */\n",
       "            if (fig.imageObj.src) {\n",
       "                (window.URL || window.webkitURL).revokeObjectURL(\n",
       "                    fig.imageObj.src);\n",
       "            }\n",
       "\n",
       "            fig.imageObj.src = (window.URL || window.webkitURL).createObjectURL(\n",
       "                evt.data);\n",
       "            fig.updated_canvas_event();\n",
       "            fig.waiting = false;\n",
       "            return;\n",
       "        }\n",
       "        else if (typeof evt.data === 'string' && evt.data.slice(0, 21) == \"data:image/png;base64\") {\n",
       "            fig.imageObj.src = evt.data;\n",
       "            fig.updated_canvas_event();\n",
       "            fig.waiting = false;\n",
       "            return;\n",
       "        }\n",
       "\n",
       "        var msg = JSON.parse(evt.data);\n",
       "        var msg_type = msg['type'];\n",
       "\n",
       "        // Call the  \"handle_{type}\" callback, which takes\n",
       "        // the figure and JSON message as its only arguments.\n",
       "        try {\n",
       "            var callback = fig[\"handle_\" + msg_type];\n",
       "        } catch (e) {\n",
       "            console.log(\"No handler for the '\" + msg_type + \"' message type: \", msg);\n",
       "            return;\n",
       "        }\n",
       "\n",
       "        if (callback) {\n",
       "            try {\n",
       "                // console.log(\"Handling '\" + msg_type + \"' message: \", msg);\n",
       "                callback(fig, msg);\n",
       "            } catch (e) {\n",
       "                console.log(\"Exception inside the 'handler_\" + msg_type + \"' callback:\", e, e.stack, msg);\n",
       "            }\n",
       "        }\n",
       "    };\n",
       "}\n",
       "\n",
       "// from http://stackoverflow.com/questions/1114465/getting-mouse-location-in-canvas\n",
       "mpl.findpos = function(e) {\n",
       "    //this section is from http://www.quirksmode.org/js/events_properties.html\n",
       "    var targ;\n",
       "    if (!e)\n",
       "        e = window.event;\n",
       "    if (e.target)\n",
       "        targ = e.target;\n",
       "    else if (e.srcElement)\n",
       "        targ = e.srcElement;\n",
       "    if (targ.nodeType == 3) // defeat Safari bug\n",
       "        targ = targ.parentNode;\n",
       "\n",
       "    // jQuery normalizes the pageX and pageY\n",
       "    // pageX,Y are the mouse positions relative to the document\n",
       "    // offset() returns the position of the element relative to the document\n",
       "    var x = e.pageX - $(targ).offset().left;\n",
       "    var y = e.pageY - $(targ).offset().top;\n",
       "\n",
       "    return {\"x\": x, \"y\": y};\n",
       "};\n",
       "\n",
       "/*\n",
       " * return a copy of an object with only non-object keys\n",
       " * we need this to avoid circular references\n",
       " * http://stackoverflow.com/a/24161582/3208463\n",
       " */\n",
       "function simpleKeys (original) {\n",
       "  return Object.keys(original).reduce(function (obj, key) {\n",
       "    if (typeof original[key] !== 'object')\n",
       "        obj[key] = original[key]\n",
       "    return obj;\n",
       "  }, {});\n",
       "}\n",
       "\n",
       "mpl.figure.prototype.mouse_event = function(event, name) {\n",
       "    var canvas_pos = mpl.findpos(event)\n",
       "\n",
       "    if (name === 'button_press')\n",
       "    {\n",
       "        this.canvas.focus();\n",
       "        this.canvas_div.focus();\n",
       "    }\n",
       "\n",
       "    var x = canvas_pos.x * mpl.ratio;\n",
       "    var y = canvas_pos.y * mpl.ratio;\n",
       "\n",
       "    this.send_message(name, {x: x, y: y, button: event.button,\n",
       "                             step: event.step,\n",
       "                             guiEvent: simpleKeys(event)});\n",
       "\n",
       "    /* This prevents the web browser from automatically changing to\n",
       "     * the text insertion cursor when the button is pressed.  We want\n",
       "     * to control all of the cursor setting manually through the\n",
       "     * 'cursor' event from matplotlib */\n",
       "    event.preventDefault();\n",
       "    return false;\n",
       "}\n",
       "\n",
       "mpl.figure.prototype._key_event_extra = function(event, name) {\n",
       "    // Handle any extra behaviour associated with a key event\n",
       "}\n",
       "\n",
       "mpl.figure.prototype.key_event = function(event, name) {\n",
       "\n",
       "    // Prevent repeat events\n",
       "    if (name == 'key_press')\n",
       "    {\n",
       "        if (event.which === this._key)\n",
       "            return;\n",
       "        else\n",
       "            this._key = event.which;\n",
       "    }\n",
       "    if (name == 'key_release')\n",
       "        this._key = null;\n",
       "\n",
       "    var value = '';\n",
       "    if (event.ctrlKey && event.which != 17)\n",
       "        value += \"ctrl+\";\n",
       "    if (event.altKey && event.which != 18)\n",
       "        value += \"alt+\";\n",
       "    if (event.shiftKey && event.which != 16)\n",
       "        value += \"shift+\";\n",
       "\n",
       "    value += 'k';\n",
       "    value += event.which.toString();\n",
       "\n",
       "    this._key_event_extra(event, name);\n",
       "\n",
       "    this.send_message(name, {key: value,\n",
       "                             guiEvent: simpleKeys(event)});\n",
       "    return false;\n",
       "}\n",
       "\n",
       "mpl.figure.prototype.toolbar_button_onclick = function(name) {\n",
       "    if (name == 'download') {\n",
       "        this.handle_save(this, null);\n",
       "    } else {\n",
       "        this.send_message(\"toolbar_button\", {name: name});\n",
       "    }\n",
       "};\n",
       "\n",
       "mpl.figure.prototype.toolbar_button_onmouseover = function(tooltip) {\n",
       "    this.message.textContent = tooltip;\n",
       "};\n",
       "mpl.toolbar_items = [[\"Home\", \"Reset original view\", \"fa fa-home icon-home\", \"home\"], [\"Back\", \"Back to previous view\", \"fa fa-arrow-left icon-arrow-left\", \"back\"], [\"Forward\", \"Forward to next view\", \"fa fa-arrow-right icon-arrow-right\", \"forward\"], [\"\", \"\", \"\", \"\"], [\"Pan\", \"Pan axes with left mouse, zoom with right\", \"fa fa-arrows icon-move\", \"pan\"], [\"Zoom\", \"Zoom to rectangle\", \"fa fa-square-o icon-check-empty\", \"zoom\"], [\"\", \"\", \"\", \"\"], [\"Download\", \"Download plot\", \"fa fa-floppy-o icon-save\", \"download\"]];\n",
       "\n",
       "mpl.extensions = [\"eps\", \"jpeg\", \"pdf\", \"png\", \"ps\", \"raw\", \"svg\", \"tif\"];\n",
       "\n",
       "mpl.default_extension = \"pdf\";var comm_websocket_adapter = function(comm) {\n",
       "    // Create a \"websocket\"-like object which calls the given IPython comm\n",
       "    // object with the appropriate methods. Currently this is a non binary\n",
       "    // socket, so there is still some room for performance tuning.\n",
       "    var ws = {};\n",
       "\n",
       "    ws.close = function() {\n",
       "        comm.close()\n",
       "    };\n",
       "    ws.send = function(m) {\n",
       "        //console.log('sending', m);\n",
       "        comm.send(m);\n",
       "    };\n",
       "    // Register the callback with on_msg.\n",
       "    comm.on_msg(function(msg) {\n",
       "        //console.log('receiving', msg['content']['data'], msg);\n",
       "        // Pass the mpl event to the overridden (by mpl) onmessage function.\n",
       "        ws.onmessage(msg['content']['data'])\n",
       "    });\n",
       "    return ws;\n",
       "}\n",
       "\n",
       "mpl.mpl_figure_comm = function(comm, msg) {\n",
       "    // This is the function which gets called when the mpl process\n",
       "    // starts-up an IPython Comm through the \"matplotlib\" channel.\n",
       "\n",
       "    var id = msg.content.data.id;\n",
       "    // Get hold of the div created by the display call when the Comm\n",
       "    // socket was opened in Python.\n",
       "    var element = $(\"#\" + id);\n",
       "    var ws_proxy = comm_websocket_adapter(comm)\n",
       "\n",
       "    function ondownload(figure, format) {\n",
       "        window.open(figure.imageObj.src);\n",
       "    }\n",
       "\n",
       "    var fig = new mpl.figure(id, ws_proxy,\n",
       "                           ondownload,\n",
       "                           element.get(0));\n",
       "\n",
       "    // Call onopen now - mpl needs it, as it is assuming we've passed it a real\n",
       "    // web socket which is closed, not our websocket->open comm proxy.\n",
       "    ws_proxy.onopen();\n",
       "\n",
       "    fig.parent_element = element.get(0);\n",
       "    fig.cell_info = mpl.find_output_cell(\"<div id='\" + id + \"'></div>\");\n",
       "    if (!fig.cell_info) {\n",
       "        console.error(\"Failed to find cell for figure\", id, fig);\n",
       "        return;\n",
       "    }\n",
       "\n",
       "    var output_index = fig.cell_info[2]\n",
       "    var cell = fig.cell_info[0];\n",
       "\n",
       "};\n",
       "\n",
       "mpl.figure.prototype.handle_close = function(fig, msg) {\n",
       "    var width = fig.canvas.width/mpl.ratio\n",
       "    fig.root.unbind('remove')\n",
       "\n",
       "    // Update the output cell to use the data from the current canvas.\n",
       "    fig.push_to_output();\n",
       "    var dataURL = fig.canvas.toDataURL();\n",
       "    // Re-enable the keyboard manager in IPython - without this line, in FF,\n",
       "    // the notebook keyboard shortcuts fail.\n",
       "    IPython.keyboard_manager.enable()\n",
       "    $(fig.parent_element).html('<img src=\"' + dataURL + '\" width=\"' + width + '\">');\n",
       "    fig.close_ws(fig, msg);\n",
       "}\n",
       "\n",
       "mpl.figure.prototype.close_ws = function(fig, msg){\n",
       "    fig.send_message('closing', msg);\n",
       "    // fig.ws.close()\n",
       "}\n",
       "\n",
       "mpl.figure.prototype.push_to_output = function(remove_interactive) {\n",
       "    // Turn the data on the canvas into data in the output cell.\n",
       "    var width = this.canvas.width/mpl.ratio\n",
       "    var dataURL = this.canvas.toDataURL();\n",
       "    this.cell_info[1]['text/html'] = '<img src=\"' + dataURL + '\" width=\"' + width + '\">';\n",
       "}\n",
       "\n",
       "mpl.figure.prototype.updated_canvas_event = function() {\n",
       "    // Tell IPython that the notebook contents must change.\n",
       "    IPython.notebook.set_dirty(true);\n",
       "    this.send_message(\"ack\", {});\n",
       "    var fig = this;\n",
       "    // Wait a second, then push the new image to the DOM so\n",
       "    // that it is saved nicely (might be nice to debounce this).\n",
       "    setTimeout(function () { fig.push_to_output() }, 1000);\n",
       "}\n",
       "\n",
       "mpl.figure.prototype._init_toolbar = function() {\n",
       "    var fig = this;\n",
       "\n",
       "    var nav_element = $('<div/>');\n",
       "    nav_element.attr('style', 'width: 100%');\n",
       "    this.root.append(nav_element);\n",
       "\n",
       "    // Define a callback function for later on.\n",
       "    function toolbar_event(event) {\n",
       "        return fig.toolbar_button_onclick(event['data']);\n",
       "    }\n",
       "    function toolbar_mouse_event(event) {\n",
       "        return fig.toolbar_button_onmouseover(event['data']);\n",
       "    }\n",
       "\n",
       "    for(var toolbar_ind in mpl.toolbar_items){\n",
       "        var name = mpl.toolbar_items[toolbar_ind][0];\n",
       "        var tooltip = mpl.toolbar_items[toolbar_ind][1];\n",
       "        var image = mpl.toolbar_items[toolbar_ind][2];\n",
       "        var method_name = mpl.toolbar_items[toolbar_ind][3];\n",
       "\n",
       "        if (!name) { continue; };\n",
       "\n",
       "        var button = $('<button class=\"btn btn-default\" href=\"#\" title=\"' + name + '\"><i class=\"fa ' + image + ' fa-lg\"></i></button>');\n",
       "        button.click(method_name, toolbar_event);\n",
       "        button.mouseover(tooltip, toolbar_mouse_event);\n",
       "        nav_element.append(button);\n",
       "    }\n",
       "\n",
       "    // Add the status bar.\n",
       "    var status_bar = $('<span class=\"mpl-message\" style=\"text-align:right; float: right;\"/>');\n",
       "    nav_element.append(status_bar);\n",
       "    this.message = status_bar[0];\n",
       "\n",
       "    // Add the close button to the window.\n",
       "    var buttongrp = $('<div class=\"btn-group inline pull-right\"></div>');\n",
       "    var button = $('<button class=\"btn btn-mini btn-primary\" href=\"#\" title=\"Stop Interaction\"><i class=\"fa fa-power-off icon-remove icon-large\"></i></button>');\n",
       "    button.click(function (evt) { fig.handle_close(fig, {}); } );\n",
       "    button.mouseover('Stop Interaction', toolbar_mouse_event);\n",
       "    buttongrp.append(button);\n",
       "    var titlebar = this.root.find($('.ui-dialog-titlebar'));\n",
       "    titlebar.prepend(buttongrp);\n",
       "}\n",
       "\n",
       "mpl.figure.prototype._root_extra_style = function(el){\n",
       "    var fig = this\n",
       "    el.on(\"remove\", function(){\n",
       "\tfig.close_ws(fig, {});\n",
       "    });\n",
       "}\n",
       "\n",
       "mpl.figure.prototype._canvas_extra_style = function(el){\n",
       "    // this is important to make the div 'focusable\n",
       "    el.attr('tabindex', 0)\n",
       "    // reach out to IPython and tell the keyboard manager to turn it's self\n",
       "    // off when our div gets focus\n",
       "\n",
       "    // location in version 3\n",
       "    if (IPython.notebook.keyboard_manager) {\n",
       "        IPython.notebook.keyboard_manager.register_events(el);\n",
       "    }\n",
       "    else {\n",
       "        // location in version 2\n",
       "        IPython.keyboard_manager.register_events(el);\n",
       "    }\n",
       "\n",
       "}\n",
       "\n",
       "mpl.figure.prototype._key_event_extra = function(event, name) {\n",
       "    var manager = IPython.notebook.keyboard_manager;\n",
       "    if (!manager)\n",
       "        manager = IPython.keyboard_manager;\n",
       "\n",
       "    // Check for shift+enter\n",
       "    if (event.shiftKey && event.which == 13) {\n",
       "        this.canvas_div.blur();\n",
       "        event.shiftKey = false;\n",
       "        // Send a \"J\" for go to next cell\n",
       "        event.which = 74;\n",
       "        event.keyCode = 74;\n",
       "        manager.command_mode();\n",
       "        manager.handle_keydown(event);\n",
       "    }\n",
       "}\n",
       "\n",
       "mpl.figure.prototype.handle_save = function(fig, msg) {\n",
       "    fig.ondownload(fig, null);\n",
       "}\n",
       "\n",
       "\n",
       "mpl.find_output_cell = function(html_output) {\n",
       "    // Return the cell and output element which can be found *uniquely* in the notebook.\n",
       "    // Note - this is a bit hacky, but it is done because the \"notebook_saving.Notebook\"\n",
       "    // IPython event is triggered only after the cells have been serialised, which for\n",
       "    // our purposes (turning an active figure into a static one), is too late.\n",
       "    var cells = IPython.notebook.get_cells();\n",
       "    var ncells = cells.length;\n",
       "    for (var i=0; i<ncells; i++) {\n",
       "        var cell = cells[i];\n",
       "        if (cell.cell_type === 'code'){\n",
       "            for (var j=0; j<cell.output_area.outputs.length; j++) {\n",
       "                var data = cell.output_area.outputs[j];\n",
       "                if (data.data) {\n",
       "                    // IPython >= 3 moved mimebundle to data attribute of output\n",
       "                    data = data.data;\n",
       "                }\n",
       "                if (data['text/html'] == html_output) {\n",
       "                    return [cell, data, j];\n",
       "                }\n",
       "            }\n",
       "        }\n",
       "    }\n",
       "}\n",
       "\n",
       "// Register the function which deals with the matplotlib target/channel.\n",
       "// The kernel may be null if the page has been refreshed.\n",
       "if (IPython.notebook.kernel != null) {\n",
       "    IPython.notebook.kernel.comm_manager.register_target('matplotlib', mpl.mpl_figure_comm);\n",
       "}\n"
      ],
      "text/plain": [
       "<IPython.core.display.Javascript object>"
      ]
     },
     "metadata": {},
     "output_type": "display_data"
    },
    {
     "data": {
      "text/html": [
       "<img src=\"data:image/png;base64,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\" width=\"432\">"
      ],
      "text/plain": [
       "<IPython.core.display.HTML object>"
      ]
     },
     "metadata": {},
     "output_type": "display_data"
    },
    {
     "data": {
      "text/plain": [
       "Text(0, 0.5, 'Latitude')"
      ]
     },
     "execution_count": 60,
     "metadata": {},
     "output_type": "execute_result"
    }
   ],
   "source": [
    "%matplotlib notebook\n",
    "fig, ax = plt.subplots(1,1)\n",
    "\n",
    "x = nypd_test.Longitude\n",
    "y = nypd_test.Latitude\n",
    "\n",
    "s = 2\n",
    "\n",
    "img, extent, xedges, yedges = mk_heatmap(x, y, s, bins=1000)\n",
    "ax.imshow(img, extent=extent, origin='lower', cmap=cm.PuRd)\n",
    "ax.set_title(\"311  $\\sigma$ = %d\" % s)\n",
    "ax.set_xlabel('Longitude')\n",
    "ax.set_ylabel('Latitude')"
   ]
  },
  {
   "cell_type": "code",
   "execution_count": 52,
   "metadata": {},
   "outputs": [
    {
     "data": {
      "text/plain": [
       "0.109899813927673"
      ]
     },
     "execution_count": 52,
     "metadata": {},
     "output_type": "execute_result"
    }
   ],
   "source": [
    "value_heatmap(-74, 40.723, xedges, yedges, img)"
   ]
  },
  {
   "cell_type": "code",
   "execution_count": null,
   "metadata": {},
   "outputs": [],
   "source": []
  },
  {
   "cell_type": "code",
   "execution_count": null,
   "metadata": {},
   "outputs": [],
   "source": []
  },
  {
   "cell_type": "code",
   "execution_count": 53,
   "metadata": {},
   "outputs": [
    {
     "name": "stderr",
     "output_type": "stream",
     "text": [
      "/home/boada/.local/lib/python3.7/site-packages/IPython/core/interactiveshell.py:3058: DtypeWarning: Columns (19,20) have mixed types. Specify dtype option on import or set low_memory=False.\n",
      "  interactivity=interactivity, compiler=compiler, result=result)\n"
     ]
    }
   ],
   "source": [
    "bus = pd.read_csv('./data/full/Legally_Operating_Businesses.csv')"
   ]
  },
  {
   "cell_type": "code",
   "execution_count": 54,
   "metadata": {},
   "outputs": [
    {
     "name": "stdout",
     "output_type": "stream",
     "text": [
      "<class 'pandas.core.frame.DataFrame'>\n",
      "RangeIndex: 201167 entries, 0 to 201166\n",
      "Data columns (total 27 columns):\n",
      "DCA License Number               201167 non-null object\n",
      "License Type                     201167 non-null object\n",
      "License Expiration Date          201134 non-null object\n",
      "License Status                   201167 non-null object\n",
      "License Creation Date            201167 non-null object\n",
      "Industry                         201167 non-null object\n",
      "Business Name                    201117 non-null object\n",
      "Business Name 2                  32785 non-null object\n",
      "Address Building                 127966 non-null object\n",
      "Address Street Name              128714 non-null object\n",
      "Secondary Address Street Name    1985 non-null object\n",
      "Address City                     200459 non-null object\n",
      "Address State                    200337 non-null object\n",
      "Address ZIP                      200435 non-null object\n",
      "Contact Phone Number             191462 non-null object\n",
      "Address Borough                  127776 non-null object\n",
      "Borough Code                     116778 non-null float64\n",
      "Community Board                  113728 non-null float64\n",
      "Council District                 114053 non-null float64\n",
      "BIN                              112268 non-null object\n",
      "BBL                              112270 non-null object\n",
      "NTA                              112896 non-null object\n",
      "Census Tract                     112896 non-null float64\n",
      "Detail                           28356 non-null object\n",
      "Longitude                        120573 non-null float64\n",
      "Latitude                         120573 non-null float64\n",
      "Location                         120573 non-null object\n",
      "dtypes: float64(6), object(21)\n",
      "memory usage: 41.4+ MB\n"
     ]
    }
   ],
   "source": [
    "bus.info()"
   ]
  },
  {
   "cell_type": "code",
   "execution_count": 55,
   "metadata": {},
   "outputs": [
    {
     "data": {
      "text/plain": [
       "array(['Amusement Arcade', 'Amusement Device Permanent',\n",
       "       'Amusement Device Portable', 'Amusement Device Temporary',\n",
       "       'Auction House Premises', 'Auctioneer', 'Bingo Game Operator',\n",
       "       'Booting Company', 'Cabaret', 'Car Wash', 'Catering Establishment',\n",
       "       'Commercial Lessor', 'Dealer In Products',\n",
       "       'Debt Collection Agency', 'Electronic & Appliance Service',\n",
       "       'Electronic Cigarette Dealer', 'Electronics Store',\n",
       "       'Employment Agency', 'Games of Chance', 'Gaming Cafe', 'Garage',\n",
       "       'Garage and Parking Lot', 'General Vendor',\n",
       "       'General Vendor Distributor', 'Home Improvement Contractor',\n",
       "       'Home Improvement Salesperson', 'Horse Drawn Cab Owner',\n",
       "       'Horse Drawn Driver', 'Laundries', 'Laundry', 'Laundry Jobber',\n",
       "       'Locksmith', 'Locksmith Apprentice',\n",
       "       'Motion Picture Projectionist', 'Newsstand', 'Parking Lot',\n",
       "       'Pawnbroker', 'Pedicab Business', 'Pedicab Driver',\n",
       "       'Pool or Billiard Room', 'Process Server Individual',\n",
       "       'Process Serving Agency', 'Scale Dealer Repairer',\n",
       "       'Scrap Metal Processor', 'Secondhand Dealer - Auto',\n",
       "       'Secondhand Dealer - Firearms', 'Secondhand Dealer - General',\n",
       "       'Sidewalk Cafe', 'Sightseeing Bus', 'Sightseeing Guide',\n",
       "       'Special Sale', 'Stoop Line Stand', 'Storage Warehouse',\n",
       "       'Ticket Seller', 'Ticket Seller Business', 'Tobacco Retail Dealer',\n",
       "       'Tow Truck Company', 'Tow Truck Driver', 'Tow Truck Exemption'],\n",
       "      dtype=object)"
      ]
     },
     "execution_count": 55,
     "metadata": {},
     "output_type": "execute_result"
    }
   ],
   "source": [
    "np.sort(bus.Industry.unique())"
   ]
  },
  {
   "cell_type": "code",
   "execution_count": 56,
   "metadata": {},
   "outputs": [],
   "source": [
    "bus2 = bus.dropna(subset=['BBL'])"
   ]
  },
  {
   "cell_type": "code",
   "execution_count": 57,
   "metadata": {},
   "outputs": [
    {
     "data": {
      "text/html": [
       "<div>\n",
       "<style scoped>\n",
       "    .dataframe tbody tr th:only-of-type {\n",
       "        vertical-align: middle;\n",
       "    }\n",
       "\n",
       "    .dataframe tbody tr th {\n",
       "        vertical-align: top;\n",
       "    }\n",
       "\n",
       "    .dataframe thead th {\n",
       "        text-align: right;\n",
       "    }\n",
       "</style>\n",
       "<table border=\"1\" class=\"dataframe\">\n",
       "  <thead>\n",
       "    <tr style=\"text-align: right;\">\n",
       "      <th></th>\n",
       "      <th>DCA License Number</th>\n",
       "      <th>License Type</th>\n",
       "      <th>License Expiration Date</th>\n",
       "      <th>License Status</th>\n",
       "      <th>License Creation Date</th>\n",
       "      <th>Industry</th>\n",
       "      <th>Business Name</th>\n",
       "      <th>Business Name 2</th>\n",
       "      <th>Address Building</th>\n",
       "      <th>Address Street Name</th>\n",
       "      <th>...</th>\n",
       "      <th>Community Board</th>\n",
       "      <th>Council District</th>\n",
       "      <th>BIN</th>\n",
       "      <th>BBL</th>\n",
       "      <th>NTA</th>\n",
       "      <th>Census Tract</th>\n",
       "      <th>Detail</th>\n",
       "      <th>Longitude</th>\n",
       "      <th>Latitude</th>\n",
       "      <th>Location</th>\n",
       "    </tr>\n",
       "  </thead>\n",
       "  <tbody>\n",
       "    <tr>\n",
       "      <th>255</th>\n",
       "      <td>2062603-DCA</td>\n",
       "      <td>Business</td>\n",
       "      <td>12/31/2021</td>\n",
       "      <td>Active</td>\n",
       "      <td>12/06/2017</td>\n",
       "      <td>Laundries</td>\n",
       "      <td>XING BIN LAUNDROMAT INC.</td>\n",
       "      <td>NaN</td>\n",
       "      <td>10118</td>\n",
       "      <td>LIBERTY AVE</td>\n",
       "      <td>...</td>\n",
       "      <td>410.0</td>\n",
       "      <td>32.0</td>\n",
       "      <td>4201974</td>\n",
       "      <td>4095220009</td>\n",
       "      <td>QN55</td>\n",
       "      <td>94.0</td>\n",
       "      <td>Laundry Type: Retail Laundry</td>\n",
       "      <td>-73.839280</td>\n",
       "      <td>40.681305</td>\n",
       "      <td>(40.68130477447896, -73.83928016812561)</td>\n",
       "    </tr>\n",
       "    <tr>\n",
       "      <th>476</th>\n",
       "      <td>2034972-DCA</td>\n",
       "      <td>Business</td>\n",
       "      <td>03/31/2020</td>\n",
       "      <td>Active</td>\n",
       "      <td>03/25/2016</td>\n",
       "      <td>Stoop Line Stand</td>\n",
       "      <td>Rosalie Tuzzino</td>\n",
       "      <td>NaN</td>\n",
       "      <td>140</td>\n",
       "      <td>MULBERRY ST</td>\n",
       "      <td>...</td>\n",
       "      <td>102.0</td>\n",
       "      <td>1.0</td>\n",
       "      <td>1077173</td>\n",
       "      <td>1002370006</td>\n",
       "      <td>MN24</td>\n",
       "      <td>41.0</td>\n",
       "      <td>Product Category: Ice Cream, 4 foot stands: 1,...</td>\n",
       "      <td>-73.997619</td>\n",
       "      <td>40.718663</td>\n",
       "      <td>(40.718663472948315, -73.99761907513695)</td>\n",
       "    </tr>\n",
       "    <tr>\n",
       "      <th>481</th>\n",
       "      <td>2073413-1-DCA</td>\n",
       "      <td>Business</td>\n",
       "      <td>11/30/2019</td>\n",
       "      <td>Inactive</td>\n",
       "      <td>06/14/2018</td>\n",
       "      <td>Electronic Cigarette Dealer</td>\n",
       "      <td>ANSHROOP CORPORATION</td>\n",
       "      <td>7 ELEVEN STORE #35764A</td>\n",
       "      <td>6031</td>\n",
       "      <td>METROPOLITAN AVE</td>\n",
       "      <td>...</td>\n",
       "      <td>405.0</td>\n",
       "      <td>30.0</td>\n",
       "      <td>4061108</td>\n",
       "      <td>4027370037</td>\n",
       "      <td>QN21</td>\n",
       "      <td>603.0</td>\n",
       "      <td>NaN</td>\n",
       "      <td>-73.904270</td>\n",
       "      <td>40.712849</td>\n",
       "      <td>(40.7128487179766, -73.90426990115682)</td>\n",
       "    </tr>\n",
       "    <tr>\n",
       "      <th>484</th>\n",
       "      <td>2054177-DCA</td>\n",
       "      <td>Business</td>\n",
       "      <td>12/31/2020</td>\n",
       "      <td>Inactive</td>\n",
       "      <td>06/08/2017</td>\n",
       "      <td>Electronics Store</td>\n",
       "      <td>CSR PENN INC</td>\n",
       "      <td>NaN</td>\n",
       "      <td>937</td>\n",
       "      <td>PENNSYLVANIA AVE</td>\n",
       "      <td>...</td>\n",
       "      <td>305.0</td>\n",
       "      <td>42.0</td>\n",
       "      <td>3327452</td>\n",
       "      <td>3043910001</td>\n",
       "      <td>BK82</td>\n",
       "      <td>1104.0</td>\n",
       "      <td>NaN</td>\n",
       "      <td>-73.888084</td>\n",
       "      <td>40.655199</td>\n",
       "      <td>(40.65519935647488, -73.88808402244312)</td>\n",
       "    </tr>\n",
       "    <tr>\n",
       "      <th>486</th>\n",
       "      <td>2013293-DCA</td>\n",
       "      <td>Business</td>\n",
       "      <td>06/30/2020</td>\n",
       "      <td>Active</td>\n",
       "      <td>09/12/2014</td>\n",
       "      <td>Electronic &amp; Appliance Service</td>\n",
       "      <td>NEPTUNE AIR CONDITIONING INC</td>\n",
       "      <td>NaN</td>\n",
       "      <td>575</td>\n",
       "      <td>LEXINGTON AVE</td>\n",
       "      <td>...</td>\n",
       "      <td>106.0</td>\n",
       "      <td>4.0</td>\n",
       "      <td>1036461</td>\n",
       "      <td>1013060023</td>\n",
       "      <td>MN19</td>\n",
       "      <td>100.0</td>\n",
       "      <td>NaN</td>\n",
       "      <td>-73.971827</td>\n",
       "      <td>40.757216</td>\n",
       "      <td>(40.757215588426654, -73.97182746323014)</td>\n",
       "    </tr>\n",
       "    <tr>\n",
       "      <th>...</th>\n",
       "      <td>...</td>\n",
       "      <td>...</td>\n",
       "      <td>...</td>\n",
       "      <td>...</td>\n",
       "      <td>...</td>\n",
       "      <td>...</td>\n",
       "      <td>...</td>\n",
       "      <td>...</td>\n",
       "      <td>...</td>\n",
       "      <td>...</td>\n",
       "      <td>...</td>\n",
       "      <td>...</td>\n",
       "      <td>...</td>\n",
       "      <td>...</td>\n",
       "      <td>...</td>\n",
       "      <td>...</td>\n",
       "      <td>...</td>\n",
       "      <td>...</td>\n",
       "      <td>...</td>\n",
       "      <td>...</td>\n",
       "      <td>...</td>\n",
       "    </tr>\n",
       "    <tr>\n",
       "      <th>201162</th>\n",
       "      <td>2026189-2-DCA</td>\n",
       "      <td>Business</td>\n",
       "      <td>12/31/2020</td>\n",
       "      <td>Active</td>\n",
       "      <td>07/27/2015</td>\n",
       "      <td>Tobacco Retail Dealer</td>\n",
       "      <td>SHREEJI 315 INC</td>\n",
       "      <td>NaN</td>\n",
       "      <td>315</td>\n",
       "      <td>1ST AVE</td>\n",
       "      <td>...</td>\n",
       "      <td>106.0</td>\n",
       "      <td>2.0</td>\n",
       "      <td>1.02049e+06</td>\n",
       "      <td>1.00924e+09</td>\n",
       "      <td>MN21</td>\n",
       "      <td>48.0</td>\n",
       "      <td>NaN</td>\n",
       "      <td>-73.980569</td>\n",
       "      <td>40.733903</td>\n",
       "      <td>(40.73390349266078, -73.98056937440188)</td>\n",
       "    </tr>\n",
       "    <tr>\n",
       "      <th>201163</th>\n",
       "      <td>1003888-DCA</td>\n",
       "      <td>Business</td>\n",
       "      <td>07/31/2021</td>\n",
       "      <td>Active</td>\n",
       "      <td>02/25/1999</td>\n",
       "      <td>Secondhand Dealer - General</td>\n",
       "      <td>SOSA, ROCK H</td>\n",
       "      <td>NEW SOSA ELECTRONICS</td>\n",
       "      <td>261</td>\n",
       "      <td>WYCKOFF AVE</td>\n",
       "      <td>...</td>\n",
       "      <td>304.0</td>\n",
       "      <td>37.0</td>\n",
       "      <td>3.07577e+06</td>\n",
       "      <td>3.03311e+09</td>\n",
       "      <td>BK77</td>\n",
       "      <td>441.0</td>\n",
       "      <td>NaN</td>\n",
       "      <td>-73.914197</td>\n",
       "      <td>40.701265</td>\n",
       "      <td>(40.701265402071414, -73.91419725787644)</td>\n",
       "    </tr>\n",
       "    <tr>\n",
       "      <th>201164</th>\n",
       "      <td>1252203-DCA</td>\n",
       "      <td>Business</td>\n",
       "      <td>09/15/2013</td>\n",
       "      <td>Inactive</td>\n",
       "      <td>04/14/2007</td>\n",
       "      <td>Sidewalk Cafe</td>\n",
       "      <td>SALSA SALON, INC.</td>\n",
       "      <td>NaN</td>\n",
       "      <td>47</td>\n",
       "      <td>E 12TH ST</td>\n",
       "      <td>...</td>\n",
       "      <td>102.0</td>\n",
       "      <td>2.0</td>\n",
       "      <td>1.08468e+06</td>\n",
       "      <td>1.00564e+09</td>\n",
       "      <td>MN23</td>\n",
       "      <td>61.0</td>\n",
       "      <td>Sidewalk Cafe Type: Unenclosed, Square Feet: 7...</td>\n",
       "      <td>-73.991683</td>\n",
       "      <td>40.733463</td>\n",
       "      <td>(40.73346292620985, -73.99168295346709)</td>\n",
       "    </tr>\n",
       "    <tr>\n",
       "      <th>201165</th>\n",
       "      <td>2082881-2-DCA</td>\n",
       "      <td>Business</td>\n",
       "      <td>11/30/2020</td>\n",
       "      <td>Active</td>\n",
       "      <td>03/05/2019</td>\n",
       "      <td>Electronic Cigarette Dealer</td>\n",
       "      <td>M &amp; E CANDY STORE CORP</td>\n",
       "      <td>NaN</td>\n",
       "      <td>148</td>\n",
       "      <td>MONTAGUE ST</td>\n",
       "      <td>...</td>\n",
       "      <td>302.0</td>\n",
       "      <td>33.0</td>\n",
       "      <td>3.00208e+06</td>\n",
       "      <td>3.00249e+09</td>\n",
       "      <td>BK09</td>\n",
       "      <td>502.0</td>\n",
       "      <td>NaN</td>\n",
       "      <td>-73.993329</td>\n",
       "      <td>40.694518</td>\n",
       "      <td>(40.69451761556611, -73.9933286123902)</td>\n",
       "    </tr>\n",
       "    <tr>\n",
       "      <th>201166</th>\n",
       "      <td>1054840-DCA</td>\n",
       "      <td>Business</td>\n",
       "      <td>12/31/2020</td>\n",
       "      <td>Active</td>\n",
       "      <td>12/05/2000</td>\n",
       "      <td>Tobacco Retail Dealer</td>\n",
       "      <td>K P DELI CORP.</td>\n",
       "      <td>NaN</td>\n",
       "      <td>255</td>\n",
       "      <td>HYLAN BLVD</td>\n",
       "      <td>...</td>\n",
       "      <td>501.0</td>\n",
       "      <td>49.0</td>\n",
       "      <td>5.09084e+06</td>\n",
       "      <td>5.02853e+09</td>\n",
       "      <td>SI37</td>\n",
       "      <td>8.0</td>\n",
       "      <td>NaN</td>\n",
       "      <td>-74.070374</td>\n",
       "      <td>40.611939</td>\n",
       "      <td>(40.61193872381227, -74.07037351766044)</td>\n",
       "    </tr>\n",
       "  </tbody>\n",
       "</table>\n",
       "<p>112270 rows × 27 columns</p>\n",
       "</div>"
      ],
      "text/plain": [
       "       DCA License Number License Type License Expiration Date License Status  \\\n",
       "255           2062603-DCA     Business              12/31/2021         Active   \n",
       "476           2034972-DCA     Business              03/31/2020         Active   \n",
       "481         2073413-1-DCA     Business              11/30/2019       Inactive   \n",
       "484           2054177-DCA     Business              12/31/2020       Inactive   \n",
       "486           2013293-DCA     Business              06/30/2020         Active   \n",
       "...                   ...          ...                     ...            ...   \n",
       "201162      2026189-2-DCA     Business              12/31/2020         Active   \n",
       "201163        1003888-DCA     Business              07/31/2021         Active   \n",
       "201164        1252203-DCA     Business              09/15/2013       Inactive   \n",
       "201165      2082881-2-DCA     Business              11/30/2020         Active   \n",
       "201166        1054840-DCA     Business              12/31/2020         Active   \n",
       "\n",
       "       License Creation Date                        Industry  \\\n",
       "255               12/06/2017                       Laundries   \n",
       "476               03/25/2016                Stoop Line Stand   \n",
       "481               06/14/2018     Electronic Cigarette Dealer   \n",
       "484               06/08/2017               Electronics Store   \n",
       "486               09/12/2014  Electronic & Appliance Service   \n",
       "...                      ...                             ...   \n",
       "201162            07/27/2015           Tobacco Retail Dealer   \n",
       "201163            02/25/1999     Secondhand Dealer - General   \n",
       "201164            04/14/2007                   Sidewalk Cafe   \n",
       "201165            03/05/2019     Electronic Cigarette Dealer   \n",
       "201166            12/05/2000           Tobacco Retail Dealer   \n",
       "\n",
       "                       Business Name         Business Name 2 Address Building  \\\n",
       "255         XING BIN LAUNDROMAT INC.                     NaN            10118   \n",
       "476                  Rosalie Tuzzino                     NaN              140   \n",
       "481             ANSHROOP CORPORATION  7 ELEVEN STORE #35764A             6031   \n",
       "484                     CSR PENN INC                     NaN              937   \n",
       "486     NEPTUNE AIR CONDITIONING INC                     NaN              575   \n",
       "...                              ...                     ...              ...   \n",
       "201162               SHREEJI 315 INC                     NaN              315   \n",
       "201163                  SOSA, ROCK H    NEW SOSA ELECTRONICS              261   \n",
       "201164             SALSA SALON, INC.                     NaN               47   \n",
       "201165        M & E CANDY STORE CORP                     NaN              148   \n",
       "201166                K P DELI CORP.                     NaN              255   \n",
       "\n",
       "       Address Street Name  ... Community Board Council District          BIN  \\\n",
       "255            LIBERTY AVE  ...           410.0             32.0      4201974   \n",
       "476            MULBERRY ST  ...           102.0              1.0      1077173   \n",
       "481       METROPOLITAN AVE  ...           405.0             30.0      4061108   \n",
       "484       PENNSYLVANIA AVE  ...           305.0             42.0      3327452   \n",
       "486          LEXINGTON AVE  ...           106.0              4.0      1036461   \n",
       "...                    ...  ...             ...              ...          ...   \n",
       "201162             1ST AVE  ...           106.0              2.0  1.02049e+06   \n",
       "201163         WYCKOFF AVE  ...           304.0             37.0  3.07577e+06   \n",
       "201164           E 12TH ST  ...           102.0              2.0  1.08468e+06   \n",
       "201165         MONTAGUE ST  ...           302.0             33.0  3.00208e+06   \n",
       "201166          HYLAN BLVD  ...           501.0             49.0  5.09084e+06   \n",
       "\n",
       "                BBL   NTA Census Tract  \\\n",
       "255      4095220009  QN55         94.0   \n",
       "476      1002370006  MN24         41.0   \n",
       "481      4027370037  QN21        603.0   \n",
       "484      3043910001  BK82       1104.0   \n",
       "486      1013060023  MN19        100.0   \n",
       "...             ...   ...          ...   \n",
       "201162  1.00924e+09  MN21         48.0   \n",
       "201163  3.03311e+09  BK77        441.0   \n",
       "201164  1.00564e+09  MN23         61.0   \n",
       "201165  3.00249e+09  BK09        502.0   \n",
       "201166  5.02853e+09  SI37          8.0   \n",
       "\n",
       "                                                   Detail  Longitude  \\\n",
       "255                          Laundry Type: Retail Laundry -73.839280   \n",
       "476     Product Category: Ice Cream, 4 foot stands: 1,... -73.997619   \n",
       "481                                                   NaN -73.904270   \n",
       "484                                                   NaN -73.888084   \n",
       "486                                                   NaN -73.971827   \n",
       "...                                                   ...        ...   \n",
       "201162                                                NaN -73.980569   \n",
       "201163                                                NaN -73.914197   \n",
       "201164  Sidewalk Cafe Type: Unenclosed, Square Feet: 7... -73.991683   \n",
       "201165                                                NaN -73.993329   \n",
       "201166                                                NaN -74.070374   \n",
       "\n",
       "         Latitude                                  Location  \n",
       "255     40.681305   (40.68130477447896, -73.83928016812561)  \n",
       "476     40.718663  (40.718663472948315, -73.99761907513695)  \n",
       "481     40.712849    (40.7128487179766, -73.90426990115682)  \n",
       "484     40.655199   (40.65519935647488, -73.88808402244312)  \n",
       "486     40.757216  (40.757215588426654, -73.97182746323014)  \n",
       "...           ...                                       ...  \n",
       "201162  40.733903   (40.73390349266078, -73.98056937440188)  \n",
       "201163  40.701265  (40.701265402071414, -73.91419725787644)  \n",
       "201164  40.733463   (40.73346292620985, -73.99168295346709)  \n",
       "201165  40.694518    (40.69451761556611, -73.9933286123902)  \n",
       "201166  40.611939   (40.61193872381227, -74.07037351766044)  \n",
       "\n",
       "[112270 rows x 27 columns]"
      ]
     },
     "execution_count": 57,
     "metadata": {},
     "output_type": "execute_result"
    }
   ],
   "source": [
    "bus2"
   ]
  },
  {
   "cell_type": "code",
   "execution_count": 58,
   "metadata": {},
   "outputs": [
    {
     "data": {
      "text/html": [
       "<div>\n",
       "<style scoped>\n",
       "    .dataframe tbody tr th:only-of-type {\n",
       "        vertical-align: middle;\n",
       "    }\n",
       "\n",
       "    .dataframe tbody tr th {\n",
       "        vertical-align: top;\n",
       "    }\n",
       "\n",
       "    .dataframe thead th {\n",
       "        text-align: right;\n",
       "    }\n",
       "</style>\n",
       "<table border=\"1\" class=\"dataframe\">\n",
       "  <thead>\n",
       "    <tr style=\"text-align: right;\">\n",
       "      <th></th>\n",
       "      <th>DCA License Number</th>\n",
       "      <th>License Type</th>\n",
       "      <th>License Expiration Date</th>\n",
       "      <th>License Status</th>\n",
       "      <th>License Creation Date</th>\n",
       "      <th>Industry</th>\n",
       "      <th>Business Name</th>\n",
       "      <th>Business Name 2</th>\n",
       "      <th>Address Building</th>\n",
       "      <th>Address Street Name</th>\n",
       "      <th>...</th>\n",
       "      <th>Community Board</th>\n",
       "      <th>Council District</th>\n",
       "      <th>BIN</th>\n",
       "      <th>BBL</th>\n",
       "      <th>NTA</th>\n",
       "      <th>Census Tract</th>\n",
       "      <th>Detail</th>\n",
       "      <th>Longitude</th>\n",
       "      <th>Latitude</th>\n",
       "      <th>Location</th>\n",
       "    </tr>\n",
       "  </thead>\n",
       "  <tbody>\n",
       "  </tbody>\n",
       "</table>\n",
       "<p>0 rows × 27 columns</p>\n",
       "</div>"
      ],
      "text/plain": [
       "Empty DataFrame\n",
       "Columns: [DCA License Number, License Type, License Expiration Date, License Status, License Creation Date, Industry, Business Name, Business Name 2, Address Building, Address Street Name, Secondary Address Street Name, Address City, Address State, Address ZIP, Contact Phone Number, Address Borough, Borough Code, Community Board, Council District, BIN, BBL, NTA, Census Tract, Detail, Longitude, Latitude, Location]\n",
       "Index: []\n",
       "\n",
       "[0 rows x 27 columns]"
      ]
     },
     "execution_count": 58,
     "metadata": {},
     "output_type": "execute_result"
    }
   ],
   "source": [
    "bus[bus['BBL'] == 4107280035]"
   ]
  },
  {
   "cell_type": "code",
   "execution_count": 59,
   "metadata": {},
   "outputs": [
    {
     "ename": "AttributeError",
     "evalue": "'DataFrame' object has no attribute 'industry'",
     "output_type": "error",
     "traceback": [
      "\u001b[0;31m---------------------------------------------------------------------------\u001b[0m",
      "\u001b[0;31mAttributeError\u001b[0m                            Traceback (most recent call last)",
      "\u001b[0;32m<ipython-input-59-261421e287ba>\u001b[0m in \u001b[0;36m<module>\u001b[0;34m\u001b[0m\n\u001b[0;32m----> 1\u001b[0;31m bus[bus.industry=='General Vendor'\n\u001b[0m\u001b[1;32m      2\u001b[0m ]\n",
      "\u001b[0;32m~/.local/lib/python3.7/site-packages/pandas/core/generic.py\u001b[0m in \u001b[0;36m__getattr__\u001b[0;34m(self, name)\u001b[0m\n\u001b[1;32m   5177\u001b[0m             \u001b[0;32mif\u001b[0m \u001b[0mself\u001b[0m\u001b[0;34m.\u001b[0m\u001b[0m_info_axis\u001b[0m\u001b[0;34m.\u001b[0m\u001b[0m_can_hold_identifiers_and_holds_name\u001b[0m\u001b[0;34m(\u001b[0m\u001b[0mname\u001b[0m\u001b[0;34m)\u001b[0m\u001b[0;34m:\u001b[0m\u001b[0;34m\u001b[0m\u001b[0;34m\u001b[0m\u001b[0m\n\u001b[1;32m   5178\u001b[0m                 \u001b[0;32mreturn\u001b[0m \u001b[0mself\u001b[0m\u001b[0;34m[\u001b[0m\u001b[0mname\u001b[0m\u001b[0;34m]\u001b[0m\u001b[0;34m\u001b[0m\u001b[0;34m\u001b[0m\u001b[0m\n\u001b[0;32m-> 5179\u001b[0;31m             \u001b[0;32mreturn\u001b[0m \u001b[0mobject\u001b[0m\u001b[0;34m.\u001b[0m\u001b[0m__getattribute__\u001b[0m\u001b[0;34m(\u001b[0m\u001b[0mself\u001b[0m\u001b[0;34m,\u001b[0m \u001b[0mname\u001b[0m\u001b[0;34m)\u001b[0m\u001b[0;34m\u001b[0m\u001b[0;34m\u001b[0m\u001b[0m\n\u001b[0m\u001b[1;32m   5180\u001b[0m \u001b[0;34m\u001b[0m\u001b[0m\n\u001b[1;32m   5181\u001b[0m     \u001b[0;32mdef\u001b[0m \u001b[0m__setattr__\u001b[0m\u001b[0;34m(\u001b[0m\u001b[0mself\u001b[0m\u001b[0;34m,\u001b[0m \u001b[0mname\u001b[0m\u001b[0;34m,\u001b[0m \u001b[0mvalue\u001b[0m\u001b[0;34m)\u001b[0m\u001b[0;34m:\u001b[0m\u001b[0;34m\u001b[0m\u001b[0;34m\u001b[0m\u001b[0m\n",
      "\u001b[0;31mAttributeError\u001b[0m: 'DataFrame' object has no attribute 'industry'"
     ]
    }
   ],
   "source": [
    "bus[bus.industry=='General Vendor'\n",
    "]"
   ]
  },
  {
   "cell_type": "code",
   "execution_count": null,
   "metadata": {},
   "outputs": [],
   "source": [
    "rest = pd.read_csv('./data/full/DOHMH_New_York_City_Restaurant_Inspection_Results.csv')"
   ]
  },
  {
   "cell_type": "code",
   "execution_count": null,
   "metadata": {},
   "outputs": [],
   "source": [
    "rest.info()"
   ]
  },
  {
   "cell_type": "code",
   "execution_count": null,
   "metadata": {},
   "outputs": [],
   "source": [
    "rest.head(5).T"
   ]
  },
  {
   "cell_type": "code",
   "execution_count": null,
   "metadata": {},
   "outputs": [],
   "source": [
    "rest.iloc[0].BBL"
   ]
  },
  {
   "cell_type": "markdown",
   "metadata": {},
   "source": [
    "# Take away from business data\n",
    "\n",
    "Basically, the business data doesn't seem to have a good way to match it with the restaurant data. Maybe in the future, I will think about this more, but right now it looks like I am just gonna drop it.\n",
    "\n",
    "Potentially, we could make another map looking at the different types of businesses around each of the restaurants. Maybe restaurants near vape shops have some sort of correlation."
   ]
  },
  {
   "cell_type": "markdown",
   "metadata": {},
   "source": [
    "# Weather!"
   ]
  },
  {
   "cell_type": "code",
   "execution_count": null,
   "metadata": {},
   "outputs": [],
   "source": [
    "weather = pd.read_csv('./data/NYC_historical_weather.csv')"
   ]
  },
  {
   "cell_type": "code",
   "execution_count": null,
   "metadata": {},
   "outputs": [],
   "source": [
    "weather.loc[1000:1004].T"
   ]
  },
  {
   "cell_type": "code",
   "execution_count": null,
   "metadata": {},
   "outputs": [],
   "source": [
    "weather.DATE = pd.to_datetime(weather.DATE)"
   ]
  },
  {
   "cell_type": "code",
   "execution_count": null,
   "metadata": {},
   "outputs": [],
   "source": [
    "weather.plot('DATE', 'TMAX')"
   ]
  },
  {
   "cell_type": "markdown",
   "metadata": {},
   "source": [
    "# Merge the weather data with the inspections"
   ]
  },
  {
   "cell_type": "code",
   "execution_count": null,
   "metadata": {},
   "outputs": [],
   "source": [
    "df_single_visits = df_single_visits.merge(weather[['DATE', 'TMAX']], left_on='inspection_date', right_on='DATE')\n",
    "# drop the extra date column\n",
    "df_single_visits.drop(labels='DATE', axis=1, inplace=True)"
   ]
  },
  {
   "cell_type": "markdown",
   "metadata": {},
   "source": [
    "# Now we want to see if can calculate a few things about the inspections\n",
    "\n",
    "* Time since last inspection -- apparently, that is super easy\n",
    "* Last inspection critical -- y/n\n",
    "* Last inspection grade (or maybe score)"
   ]
  },
  {
   "cell_type": "code",
   "execution_count": null,
   "metadata": {},
   "outputs": [],
   "source": [
    "# Buddy's Burrito and Taco Bar for testing\n",
    "df_test = df_single_visits[df_single_visits.camis==40393243]"
   ]
  },
  {
   "cell_type": "code",
   "execution_count": null,
   "metadata": {},
   "outputs": [],
   "source": [
    "df_test['time_since'] = df_test.groupby('camis')['inspection_date'].diff().apply(lambda x: x.days)"
   ]
  },
  {
   "cell_type": "code",
   "execution_count": null,
   "metadata": {},
   "outputs": [],
   "source": [
    "df_test"
   ]
  },
  {
   "cell_type": "markdown",
   "metadata": {},
   "source": [
    "Now try to say if it had a previous critical"
   ]
  },
  {
   "cell_type": "code",
   "execution_count": null,
   "metadata": {},
   "outputs": [],
   "source": [
    "df_test['past_critical'] = df_test.groupby(['camis'])['critical'].shift()"
   ]
  },
  {
   "cell_type": "code",
   "execution_count": null,
   "metadata": {},
   "outputs": [],
   "source": [
    "df_test"
   ]
  },
  {
   "cell_type": "markdown",
   "metadata": {},
   "source": [
    "Seems we can do the same thing for previous grade and score"
   ]
  },
  {
   "cell_type": "code",
   "execution_count": null,
   "metadata": {},
   "outputs": [],
   "source": [
    "df_test['past_grade'] = df_test.groupby(['camis'])['grade'].shift()\n",
    "df_test['past_score'] = df_test.groupby(['camis'])['score'].shift()"
   ]
  },
  {
   "cell_type": "code",
   "execution_count": null,
   "metadata": {},
   "outputs": [],
   "source": [
    "df_test"
   ]
  },
  {
   "cell_type": "code",
   "execution_count": null,
   "metadata": {},
   "outputs": [],
   "source": []
  }
 ],
 "metadata": {
  "kernelspec": {
   "display_name": "Python 3",
   "language": "python",
   "name": "python3"
  },
  "language_info": {
   "codemirror_mode": {
    "name": "ipython",
    "version": 3
   },
   "file_extension": ".py",
   "mimetype": "text/x-python",
   "name": "python",
   "nbconvert_exporter": "python",
   "pygments_lexer": "ipython3",
   "version": "3.7.1"
  }
 },
 "nbformat": 4,
 "nbformat_minor": 2
}
